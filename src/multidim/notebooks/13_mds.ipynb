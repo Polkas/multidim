{
 "cells": [
  {
   "cell_type": "markdown",
   "id": "d8927acb",
   "metadata": {},
   "source": [
    "# Analiza Wielowymiarowa - zajecia 13 - Skalowanie wielowymiarowe"
   ]
  },
  {
   "cell_type": "code",
   "execution_count": 1,
   "id": "b64e6d7f-c1c6-4248-8d3e-d51600c69de1",
   "metadata": {},
   "outputs": [
    {
     "data": {
      "text/plain": [
       "('/Applications/Stata', 'se')"
      ]
     },
     "execution_count": 1,
     "metadata": {},
     "output_type": "execute_result"
    }
   ],
   "source": [
    "from multidim.utils import resolve_stata, load_stata\n",
    "\n",
    "STATA_PATH, STATA_TYPE = resolve_stata(version = 17, stype = \"se\")\n",
    "# make sure they are proper ones\n",
    "STATA_PATH, STATA_TYPE"
   ]
  },
  {
   "cell_type": "code",
   "execution_count": 2,
   "id": "1bf9afd9-feeb-41c4-ae20-d620098eb810",
   "metadata": {
    "tags": []
   },
   "outputs": [
    {
     "name": "stdout",
     "output_type": "stream",
     "text": [
      "\n",
      "  ___  ____  ____  ____  ____ ®\n",
      " /__    /   ____/   /   ____/      17.0\n",
      "___/   /   /___/   /   /___/       SE—Standard Edition\n",
      "\n",
      " Statistics and Data Science       Copyright 1985-2021 StataCorp LLC\n",
      "                                   StataCorp\n",
      "                                   4905 Lakeway Drive\n",
      "                                   College Station, Texas 77845 USA\n",
      "                                   800-STATA-PC        https://www.stata.com\n",
      "                                   979-696-4600        stata@stata.com\n",
      "\n",
      "Stata license: Unlimited-user network, expiring  1 Nov 2023\n",
      "Serial number: 401709308728\n",
      "  Licensed to: Maciej Nasinski\n",
      "               University of Warsaw\n",
      "\n",
      "Notes:\n",
      "      1. Unicode is supported; see help unicode_advice.\n",
      "      2. Maximum number of variables is set to 5,000; see help set_maxvar.\n"
     ]
    }
   ],
   "source": [
    "load_stata(STATA_PATH, STATA_TYPE)"
   ]
  },
  {
   "cell_type": "code",
   "execution_count": 3,
   "id": "086775bb",
   "metadata": {},
   "outputs": [],
   "source": [
    "import pandas as pd\n",
    "import scipy\n",
    "import sklearn\n",
    "import numpy as np\n",
    "from matplotlib import pyplot as plt\n",
    "from sklearn.cluster import AgglomerativeClustering\n",
    "from multidim.funs import plot_dendrogram"
   ]
  },
  {
   "cell_type": "markdown",
   "id": "a8aecafd",
   "metadata": {},
   "source": [
    "### Przykład 1."
   ]
  },
  {
   "cell_type": "markdown",
   "id": "02066827",
   "metadata": {},
   "source": [
    "Dane i przyklad zostaly pozyczone z podrecznika Stata MV"
   ]
  },
  {
   "cell_type": "markdown",
   "id": "584ddf05",
   "metadata": {},
   "source": [
    "Zaladowanie danych z internetu. Jezeli nie dziala, zbior danych jest w materialach do zajec\n",
    "\n",
    "Dane dotycza charakterystyk odzywczych platkow sniadanowych"
   ]
  },
  {
   "cell_type": "code",
   "execution_count": 5,
   "id": "fa7313eb",
   "metadata": {},
   "outputs": [
    {
     "name": "stdout",
     "output_type": "stream",
     "text": [
      "\n",
      ". use https://www.stata-press.com/data/r17/cerealnut\n",
      "(Cereal nutrition)\n",
      "\n",
      ". des \n",
      "\n",
      "Contains data from https://www.stata-press.com/data/r17/cerealnut.dta\n",
      " Observations:            25                  Cereal nutrition\n",
      "    Variables:             9                  24 Feb 2020 17:19\n",
      "                                              (_dta has notes)\n",
      "-------------------------------------------------------------------------------\n",
      "Variable      Storage   Display    Value\n",
      "    name         type    format    label      Variable label\n",
      "-------------------------------------------------------------------------------\n",
      "brand           str25   %25s                  Cereal Brand\n",
      "calories        int     %9.0g                 Calories (Cal/oz)\n",
      "protein         byte    %9.0g                 Protein (g)\n",
      "fat             byte    %9.0g                 Fat (g)\n",
      "Na              int     %9.0g                 Na (mg)\n",
      "fiber           float   %9.0g                 Fiber (g)\n",
      "carbs           float   %9.0g                 Carbs (g)\n",
      "sugar           byte    %9.0g                 Sugar (g)\n",
      "K               int     %9.0g                 K (mg)\n",
      "-------------------------------------------------------------------------------\n",
      "Sorted by: \n",
      "\n",
      ". \n"
     ]
    }
   ],
   "source": [
    "%%stata \n",
    "use https://www.stata-press.com/data/r17/cerealnut\n",
    "des "
   ]
  },
  {
   "cell_type": "markdown",
   "id": "69e4edb1",
   "metadata": {},
   "source": [
    "Podstawowy opis statystyczny cech charakterystycznych płatkow sniadaniowych"
   ]
  },
  {
   "cell_type": "code",
   "execution_count": 6,
   "id": "6be565a9",
   "metadata": {},
   "outputs": [
    {
     "name": "stdout",
     "output_type": "stream",
     "text": [
      "\n",
      "    Variable |        Obs        Mean    Std. dev.       Min        Max\n",
      "-------------+---------------------------------------------------------\n",
      "    calories |         25       109.6    21.30728         50        160\n",
      "     protein |         25        2.68    1.314027          1          6\n",
      "         fat |         25         .92    .7593857          0          2\n",
      "          Na |         25       195.8    71.32204          0        320\n",
      "-------------+---------------------------------------------------------\n",
      "       fiber |         25         1.7    2.056494          0          9\n",
      "       carbs |         25        15.3    4.028544          7         22\n",
      "       sugar |         25         7.4    4.609772          0         14\n",
      "           K |         25        90.6     77.5043         15        320\n"
     ]
    }
   ],
   "source": [
    "%stata summarize calories-K, sep(4)"
   ]
  },
  {
   "cell_type": "raw",
   "id": "91eb0aef",
   "metadata": {},
   "source": [
    "Zastepujemy odstepy w nazwach znakiem podreslenia dla czytelnosci wykresow"
   ]
  },
  {
   "cell_type": "code",
   "execution_count": 7,
   "id": "573323e2",
   "metadata": {},
   "outputs": [
    {
     "name": "stdout",
     "output_type": "stream",
     "text": [
      "(20 real changes made)\n"
     ]
    }
   ],
   "source": [
    "%stata replace brand = subinstr(brand,\" \",\"_\",.)"
   ]
  },
  {
   "cell_type": "markdown",
   "id": "4bdf01e8",
   "metadata": {},
   "source": [
    "Polecenie mds wykonuje szkalowanie wielowymiarowe na podstawie podanych charakterystyk\n",
    "opcja \"id\" jest niezbedna, identyfikuje obserwacje"
   ]
  },
  {
   "cell_type": "code",
   "execution_count": 8,
   "id": "2207f143",
   "metadata": {},
   "outputs": [
    {
     "name": "stdout",
     "output_type": "stream",
     "text": [
      "\n",
      "Classical metric multidimensional scaling\n",
      "Dissimilarity: L2, computed on 8 variables\n",
      "\n",
      "                                             Number of obs        =         25\n",
      "    Eigenvalues > 0      =         8         Mardia fit measure 1 =     0.9603\n",
      "    Retained dimensions  =         2         Mardia fit measure 2 =     0.9970\n",
      "\n",
      "    --------------------------------------------------------------------------\n",
      "                 |                   abs(eigenvalue)          (eigenvalue)^2\n",
      "      Dimension  |  Eigenvalue      Percent    Cumul.       Percent    Cumul.\n",
      "    -------------+------------------------------------------------------------\n",
      "              1  |   158437.92        56.95     56.95         67.78     67.78\n",
      "              2  |   108728.77        39.08     96.03         31.92     99.70\n",
      "    -------------+------------------------------------------------------------\n",
      "              3  |   10562.645         3.80     99.83          0.30    100.00\n",
      "              4  |   382.67849         0.14     99.97          0.00    100.00\n",
      "              5  |   69.761715         0.03     99.99          0.00    100.00\n",
      "              6  |   12.520822         0.00    100.00          0.00    100.00\n",
      "              7  |   5.7559984         0.00    100.00          0.00    100.00\n",
      "              8  |   2.2243244         0.00    100.00          0.00    100.00\n",
      "    --------------------------------------------------------------------------\n"
     ]
    },
    {
     "data": {
      "image/svg+xml": "<svg xmlns=\"http://www.w3.org/2000/svg\" xmlns:xlink=\"http://www.w3.org/1999/xlink\" version=\"1.1\" width=\"5.500in\" height=\"4.000in\" viewBox=\"0 0 3960 2880\">\n\t<desc>Stata Graph - Graph</desc>\n\t<rect x=\"0\" y=\"0\" width=\"3960\" height=\"2880\" style=\"fill:#EAF2F3;stroke:none\"/>\n\t<rect x=\"0.00\" y=\"0.00\" width=\"3959.88\" height=\"2880.00\" style=\"fill:#EAF2F3\"/>\n\t<rect x=\"2.88\" y=\"2.88\" width=\"3954.12\" height=\"2874.24\" style=\"fill:none;stroke:#EAF2F3;stroke-width:5.76\"/>\n\t<rect x=\"1075.26\" y=\"275.35\" width=\"2099.30\" height=\"2099.36\" style=\"fill:#FFFFFF\"/>\n\t<rect x=\"1078.14\" y=\"278.23\" width=\"2093.54\" height=\"2093.60\" style=\"fill:none;stroke:#FFFFFF;stroke-width:5.76\"/>\n\t<line x1=\"1075.26\" y1=\"2311.35\" x2=\"3174.56\" y2=\"2311.35\" style=\"stroke:#EAF2F3;stroke-width:8.64\"/>\n\t<line x1=\"1075.26\" y1=\"1916.82\" x2=\"3174.56\" y2=\"1916.82\" style=\"stroke:#EAF2F3;stroke-width:8.64\"/>\n\t<line x1=\"1075.26\" y1=\"1522.30\" x2=\"3174.56\" y2=\"1522.30\" style=\"stroke:#EAF2F3;stroke-width:8.64\"/>\n\t<line x1=\"1075.26\" y1=\"1127.77\" x2=\"3174.56\" y2=\"1127.77\" style=\"stroke:#EAF2F3;stroke-width:8.64\"/>\n\t<line x1=\"1075.26\" y1=\"733.24\" x2=\"3174.56\" y2=\"733.24\" style=\"stroke:#EAF2F3;stroke-width:8.64\"/>\n\t<line x1=\"1075.26\" y1=\"338.71\" x2=\"3174.56\" y2=\"338.71\" style=\"stroke:#EAF2F3;stroke-width:8.64\"/>\n\t<circle cx=\"2171.57\" cy=\"1236.05\" r=\"26.35\" style=\"fill:#1A476F\"/>\n\t<circle cx=\"2171.57\" cy=\"1236.05\" r=\"22.03\" style=\"fill:none;stroke:#1A476F;stroke-width:8.64\"/>\n\t<text x=\"2213.52\" y=\"1264.07\" style=\"font-family:'Helvetica';font-size:79.94px;fill:#1A476f\">Cheerios</text>\n\t<circle cx=\"1775.81\" cy=\"1502.12\" r=\"26.35\" style=\"fill:#1A476F\"/>\n\t<circle cx=\"1775.81\" cy=\"1502.12\" r=\"22.03\" style=\"fill:none;stroke:#1A476F;stroke-width:8.64\"/>\n\t<text x=\"1817.76\" y=\"1530.14\" style=\"font-family:'Helvetica';font-size:79.94px;fill:#1A476f\">Cocoa_Puffs</text>\n\t<circle cx=\"2038.29\" cy=\"1340.50\" r=\"26.35\" style=\"fill:#1A476F\"/>\n\t<circle cx=\"2038.29\" cy=\"1340.50\" r=\"22.03\" style=\"fill:none;stroke:#1A476F;stroke-width:8.64\"/>\n\t<text x=\"2080.24\" y=\"1368.51\" style=\"font-family:'Helvetica';font-size:79.94px;fill:#1A476f\">Honey_Nut_Cheerios</text>\n\t<circle cx=\"1891.52\" cy=\"1200.78\" r=\"26.35\" style=\"fill:#1A476F\"/>\n\t<circle cx=\"1891.52\" cy=\"1200.78\" r=\"22.03\" style=\"fill:none;stroke:#1A476F;stroke-width:8.64\"/>\n\t<text x=\"1933.47\" y=\"1228.80\" style=\"font-family:'Helvetica';font-size:79.94px;fill:#1A476f\">Kix</text>\n\t<circle cx=\"1775.81\" cy=\"1502.00\" r=\"26.35\" style=\"fill:#1A476F\"/>\n\t<circle cx=\"1775.81\" cy=\"1502.00\" r=\"22.03\" style=\"fill:none;stroke:#1A476F;stroke-width:8.64\"/>\n\t<text x=\"1817.76\" y=\"1530.01\" style=\"font-family:'Helvetica';font-size:79.94px;fill:#1A476f\">Lucky_Charms</text>\n\t<circle cx=\"1977.28\" cy=\"1668.57\" r=\"26.35\" style=\"fill:#1A476F\"/>\n\t<circle cx=\"1977.28\" cy=\"1668.57\" r=\"22.03\" style=\"fill:none;stroke:#1A476F;stroke-width:8.64\"/>\n\t<text x=\"2019.23\" y=\"1696.59\" style=\"font-family:'Helvetica';font-size:79.94px;fill:#1A476f\">Oatmeal_Raisin_Crisp</text>\n\t<circle cx=\"1975.05\" cy=\"1813.37\" r=\"26.35\" style=\"fill:#1A476F\"/>\n\t<circle cx=\"1975.05\" cy=\"1813.37\" r=\"22.03\" style=\"fill:none;stroke:#1A476F;stroke-width:8.64\"/>\n\t<text x=\"2017.00\" y=\"1841.38\" style=\"font-family:'Helvetica';font-size:79.94px;fill:#1A476f\">Raisin_Nut_Bran</text>\n\t<circle cx=\"1750.20\" cy=\"1391.12\" r=\"26.35\" style=\"fill:#1A476F\"/>\n\t<circle cx=\"1750.20\" cy=\"1391.12\" r=\"22.03\" style=\"fill:none;stroke:#1A476F;stroke-width:8.64\"/>\n\t<text x=\"1792.15\" y=\"1419.13\" style=\"font-family:'Helvetica';font-size:79.94px;fill:#1A476f\">Total_Corn_Flakes</text>\n\t<circle cx=\"2389.24\" cy=\"1829.95\" r=\"26.35\" style=\"fill:#1A476F\"/>\n\t<circle cx=\"2389.24\" cy=\"1829.95\" r=\"22.03\" style=\"fill:none;stroke:#1A476F;stroke-width:8.64\"/>\n\t<text x=\"2431.19\" y=\"1857.96\" style=\"font-family:'Helvetica';font-size:79.94px;fill:#1A476f\">Total_Raisin_Bran</text>\n\t<circle cx=\"1592.29\" cy=\"1573.28\" r=\"26.35\" style=\"fill:#1A476F\"/>\n\t<circle cx=\"1592.29\" cy=\"1573.28\" r=\"22.03\" style=\"fill:none;stroke:#1A476F;stroke-width:8.64\"/>\n\t<text x=\"1634.24\" y=\"1601.29\" style=\"font-family:'Helvetica';font-size:79.94px;fill:#1A476f\">Trix</text>\n\t<circle cx=\"1833.98\" cy=\"1444.46\" r=\"26.35\" style=\"fill:#1A476F\"/>\n\t<circle cx=\"1833.98\" cy=\"1444.46\" r=\"22.03\" style=\"fill:none;stroke:#1A476F;stroke-width:8.64\"/>\n\t<text x=\"1875.93\" y=\"1472.47\" style=\"font-family:'Helvetica';font-size:79.94px;fill:#1A476f\">Wheaties_Honey_Gold</text>\n\t<circle cx=\"2820.02\" cy=\"1789.23\" r=\"26.35\" style=\"fill:#1A476F\"/>\n\t<circle cx=\"2820.02\" cy=\"1789.23\" r=\"22.03\" style=\"fill:none;stroke:#1A476F;stroke-width:8.64\"/>\n\t<text x=\"2861.97\" y=\"1817.25\" style=\"font-family:'Helvetica';font-size:79.94px;fill:#1A476f\">All-Bran</text>\n\t<circle cx=\"1578.06\" cy=\"1634.42\" r=\"26.35\" style=\"fill:#1A476F\"/>\n\t<circle cx=\"1578.06\" cy=\"1634.42\" r=\"22.03\" style=\"fill:none;stroke:#1A476F;stroke-width:8.64\"/>\n\t<text x=\"1620.01\" y=\"1662.43\" style=\"font-family:'Helvetica';font-size:79.94px;fill:#1A476f\">Apple_Jacks</text>\n\t<circle cx=\"1934.83\" cy=\"1090.77\" r=\"26.35\" style=\"fill:#1A476F\"/>\n\t<circle cx=\"1934.83\" cy=\"1090.77\" r=\"22.03\" style=\"fill:none;stroke:#1A476F;stroke-width:8.64\"/>\n\t<text x=\"1976.78\" y=\"1118.78\" style=\"font-family:'Helvetica';font-size:79.94px;fill:#1A476f\">Corn_Flakes</text>\n\t<circle cx=\"1471.88\" cy=\"1730.20\" r=\"26.35\" style=\"fill:#1A476F\"/>\n\t<circle cx=\"1471.88\" cy=\"1730.20\" r=\"22.03\" style=\"fill:none;stroke:#1A476F;stroke-width:8.64\"/>\n\t<text x=\"1513.83\" y=\"1758.21\" style=\"font-family:'Helvetica';font-size:79.94px;fill:#1A476f\">Corn_Pops</text>\n\t<circle cx=\"2076.53\" cy=\"1816.09\" r=\"26.35\" style=\"fill:#1A476F\"/>\n\t<circle cx=\"2076.53\" cy=\"1816.09\" r=\"22.03\" style=\"fill:none;stroke:#1A476F;stroke-width:8.64\"/>\n\t<text x=\"2118.48\" y=\"1844.10\" style=\"font-family:'Helvetica';font-size:79.94px;fill:#1A476f\">Mueslix_Crispy_Blend</text>\n\t<circle cx=\"1748.59\" cy=\"1435.67\" r=\"26.35\" style=\"fill:#1A476F\"/>\n\t<circle cx=\"1748.59\" cy=\"1435.67\" r=\"22.03\" style=\"fill:none;stroke:#1A476F;stroke-width:8.64\"/>\n\t<text x=\"1790.54\" y=\"1463.68\" style=\"font-family:'Helvetica';font-size:79.94px;fill:#1A476f\">Nut_&amp;_Honey_Crunch</text>\n\t<circle cx=\"2116.87\" cy=\"1519.82\" r=\"26.35\" style=\"fill:#1A476F\"/>\n\t<circle cx=\"2116.87\" cy=\"1519.82\" r=\"22.03\" style=\"fill:none;stroke:#1A476F;stroke-width:8.64\"/>\n\t<text x=\"2158.82\" y=\"1547.83\" style=\"font-family:'Helvetica';font-size:79.94px;fill:#1A476f\">Nutri_Grain_Almond_Raisin</text>\n\t<circle cx=\"1867.64\" cy=\"1608.06\" r=\"26.35\" style=\"fill:#1A476F\"/>\n\t<circle cx=\"1867.64\" cy=\"1608.06\" r=\"22.03\" style=\"fill:none;stroke:#1A476F;stroke-width:8.64\"/>\n\t<text x=\"1909.59\" y=\"1636.07\" style=\"font-family:'Helvetica';font-size:79.94px;fill:#1A476f\">Nutri_Grain_Wheat</text>\n\t<circle cx=\"2030.61\" cy=\"1011.44\" r=\"26.35\" style=\"fill:#1A476F\"/>\n\t<circle cx=\"2030.61\" cy=\"1011.44\" r=\"22.03\" style=\"fill:none;stroke:#1A476F;stroke-width:8.64\"/>\n\t<text x=\"2072.57\" y=\"1039.45\" style=\"font-family:'Helvetica';font-size:79.94px;fill:#1A476f\">Product_19</text>\n\t<circle cx=\"2459.66\" cy=\"1785.52\" r=\"26.35\" style=\"fill:#1A476F\"/>\n\t<circle cx=\"2459.66\" cy=\"1785.52\" r=\"22.03\" style=\"fill:none;stroke:#1A476F;stroke-width:8.64\"/>\n\t<text x=\"2501.61\" y=\"1813.53\" style=\"font-family:'Helvetica';font-size:79.94px;fill:#1A476f\">Raisin_Bran</text>\n\t<circle cx=\"1937.06\" cy=\"1089.78\" r=\"26.35\" style=\"fill:#1A476F\"/>\n\t<circle cx=\"1937.06\" cy=\"1089.78\" r=\"22.03\" style=\"fill:none;stroke:#1A476F;stroke-width:8.64\"/>\n\t<text x=\"1979.01\" y=\"1117.79\" style=\"font-family:'Helvetica';font-size:79.94px;fill:#1A476f\">Rice_Krispies</text>\n\t<circle cx=\"1879.64\" cy=\"1333.08\" r=\"26.35\" style=\"fill:#1A476F\"/>\n\t<circle cx=\"1879.64\" cy=\"1333.08\" r=\"22.03\" style=\"fill:none;stroke:#1A476F;stroke-width:8.64\"/>\n\t<text x=\"1921.59\" y=\"1361.09\" style=\"font-family:'Helvetica';font-size:79.94px;fill:#1A476f\">Special_K</text>\n\t<circle cx=\"1845.24\" cy=\"1685.78\" r=\"26.35\" style=\"fill:#1A476F\"/>\n\t<circle cx=\"1845.24\" cy=\"1685.78\" r=\"22.03\" style=\"fill:none;stroke:#1A476F;stroke-width:8.64\"/>\n\t<text x=\"1887.19\" y=\"1713.79\" style=\"font-family:'Helvetica';font-size:79.94px;fill:#1A476f\">Life</text>\n\t<circle cx=\"1254.21\" cy=\"2024.49\" r=\"26.35\" style=\"fill:#1A476F\"/>\n\t<circle cx=\"1254.21\" cy=\"2024.49\" r=\"22.03\" style=\"fill:none;stroke:#1A476F;stroke-width:8.64\"/>\n\t<text x=\"1296.16\" y=\"2052.50\" style=\"font-family:'Helvetica';font-size:79.94px;fill:#1A476f\">Puffed_Rice</text>\n\t<line x1=\"1075.26\" y1=\"2374.71\" x2=\"1075.26\" y2=\"275.35\" style=\"stroke:#000000;stroke-width:5.76\"/>\n\t<line x1=\"1075.26\" y1=\"2311.35\" x2=\"1035.29\" y2=\"2311.35\" style=\"stroke:#000000;stroke-width:5.76\"/>\n\t<text x=\"985.31\" y=\"2311.35\" style=\"font-family:'Helvetica';font-size:99.99px;fill:#000000\" transform=\"rotate(-90 985.31,2311.35)\" text-anchor=\"middle\">-200</text>\n\t<line x1=\"1075.26\" y1=\"1916.82\" x2=\"1035.29\" y2=\"1916.82\" style=\"stroke:#000000;stroke-width:5.76\"/>\n\t<text x=\"985.31\" y=\"1916.82\" style=\"font-family:'Helvetica';font-size:99.99px;fill:#000000\" transform=\"rotate(-90 985.31,1916.82)\" text-anchor=\"middle\">-100</text>\n\t<line x1=\"1075.26\" y1=\"1522.30\" x2=\"1035.29\" y2=\"1522.30\" style=\"stroke:#000000;stroke-width:5.76\"/>\n\t<text x=\"985.31\" y=\"1522.30\" style=\"font-family:'Helvetica';font-size:99.99px;fill:#000000\" transform=\"rotate(-90 985.31,1522.30)\" text-anchor=\"middle\">0</text>\n\t<line x1=\"1075.26\" y1=\"1127.77\" x2=\"1035.29\" y2=\"1127.77\" style=\"stroke:#000000;stroke-width:5.76\"/>\n\t<text x=\"985.31\" y=\"1127.77\" style=\"font-family:'Helvetica';font-size:99.99px;fill:#000000\" transform=\"rotate(-90 985.31,1127.77)\" text-anchor=\"middle\">100</text>\n\t<line x1=\"1075.26\" y1=\"733.24\" x2=\"1035.29\" y2=\"733.24\" style=\"stroke:#000000;stroke-width:5.76\"/>\n\t<text x=\"985.31\" y=\"733.24\" style=\"font-family:'Helvetica';font-size:99.99px;fill:#000000\" transform=\"rotate(-90 985.31,733.24)\" text-anchor=\"middle\">200</text>\n\t<line x1=\"1075.26\" y1=\"338.71\" x2=\"1035.29\" y2=\"338.71\" style=\"stroke:#000000;stroke-width:5.76\"/>\n\t<text x=\"985.31\" y=\"338.71\" style=\"font-family:'Helvetica';font-size:99.99px;fill:#000000\" transform=\"rotate(-90 985.31,338.71)\" text-anchor=\"middle\">300</text>\n\t<text x=\"875.30\" y=\"1325.03\" style=\"font-family:'Helvetica';font-size:99.99px;fill:#000000\" transform=\"rotate(-90 875.30,1325.03)\" text-anchor=\"middle\">Dimension 2</text>\n\t<line x1=\"1075.26\" y1=\"2374.71\" x2=\"3174.56\" y2=\"2374.71\" style=\"stroke:#000000;stroke-width:5.76\"/>\n\t<line x1=\"1138.62\" y1=\"2374.71\" x2=\"1138.62\" y2=\"2414.69\" style=\"stroke:#000000;stroke-width:5.76\"/>\n\t<text x=\"1138.62\" y=\"2504.54\" style=\"font-family:'Helvetica';font-size:99.99px;fill:#000000\" text-anchor=\"middle\">-200</text>\n\t<line x1=\"1533.14\" y1=\"2374.71\" x2=\"1533.14\" y2=\"2414.69\" style=\"stroke:#000000;stroke-width:5.76\"/>\n\t<text x=\"1533.14\" y=\"2504.54\" style=\"font-family:'Helvetica';font-size:99.99px;fill:#000000\" text-anchor=\"middle\">-100</text>\n\t<line x1=\"1927.65\" y1=\"2374.71\" x2=\"1927.65\" y2=\"2414.69\" style=\"stroke:#000000;stroke-width:5.76\"/>\n\t<text x=\"1927.65\" y=\"2504.54\" style=\"font-family:'Helvetica';font-size:99.99px;fill:#000000\" text-anchor=\"middle\">0</text>\n\t<line x1=\"2322.17\" y1=\"2374.71\" x2=\"2322.17\" y2=\"2414.69\" style=\"stroke:#000000;stroke-width:5.76\"/>\n\t<text x=\"2322.17\" y=\"2504.54\" style=\"font-family:'Helvetica';font-size:99.99px;fill:#000000\" text-anchor=\"middle\">100</text>\n\t<line x1=\"2716.68\" y1=\"2374.71\" x2=\"2716.68\" y2=\"2414.69\" style=\"stroke:#000000;stroke-width:5.76\"/>\n\t<text x=\"2716.68\" y=\"2504.54\" style=\"font-family:'Helvetica';font-size:99.99px;fill:#000000\" text-anchor=\"middle\">200</text>\n\t<line x1=\"3111.20\" y1=\"2374.71\" x2=\"3111.20\" y2=\"2414.69\" style=\"stroke:#000000;stroke-width:5.76\"/>\n\t<text x=\"3111.20\" y=\"2504.54\" style=\"font-family:'Helvetica';font-size:99.99px;fill:#000000\" text-anchor=\"middle\">300</text>\n\t<text x=\"2124.91\" y=\"2614.56\" style=\"font-family:'Helvetica';font-size:99.99px;fill:#000000\" text-anchor=\"middle\">Dimension 1</text>\n\t<text x=\"118.06\" y=\"2737.89\" style=\"font-family:'Helvetica';font-size:79.94px;fill:#000000\">Classical MDS</text>\n\t<text x=\"1980.00\" y=\"215.98\" style=\"font-family:'Helvetica';font-size:139.96px;fill:#1E2D53\" text-anchor=\"middle\">MDS configuration</text>\n</svg>",
      "text/plain": [
       "<IPython.core.display.SVG object>"
      ]
     },
     "metadata": {},
     "output_type": "display_data"
    }
   ],
   "source": [
    "%stata mds calories-K, id(brand)"
   ]
  },
  {
   "cell_type": "markdown",
   "id": "780c7b17",
   "metadata": {},
   "source": [
    "Dwie pierwsze wartosci wlasne wyjasniaja 99,7% niepodobienstwa  "
   ]
  },
  {
   "cell_type": "code",
   "execution_count": 9,
   "id": "77d1c505",
   "metadata": {},
   "outputs": [
    {
     "name": "stdout",
     "output_type": "stream",
     "text": [
      "\n",
      "Classical metric multidimensional scaling\n",
      "Dissimilarity: L2, computed on 8 variables\n",
      "\n",
      "                                             Number of obs        =         25\n",
      "    Eigenvalues > 0      =         8         Mardia fit measure 1 =     0.5987\n",
      "    Retained dimensions  =         2         Mardia fit measure 2 =     0.7697\n",
      "\n",
      "    --------------------------------------------------------------------------\n",
      "                 |                   abs(eigenvalue)          (eigenvalue)^2\n",
      "      Dimension  |  Eigenvalue      Percent    Cumul.       Percent    Cumul.\n",
      "    -------------+------------------------------------------------------------\n",
      "              1  |   65.645395        34.19     34.19         49.21     49.21\n",
      "              2  |   49.311416        25.68     59.87         27.77     76.97\n",
      "    -------------+------------------------------------------------------------\n",
      "              3  |   38.826608        20.22     80.10         17.21     94.19\n",
      "              4  |   17.727805         9.23     89.33          3.59     97.78\n",
      "              5  |   11.230087         5.85     95.18          1.44     99.22\n",
      "              6  |   8.2386231         4.29     99.47          0.78     99.99\n",
      "              7  |   .77953426         0.41     99.87          0.01    100.00\n",
      "              8  |   .24053137         0.13    100.00          0.00    100.00\n",
      "    --------------------------------------------------------------------------\n"
     ]
    },
    {
     "data": {
      "image/svg+xml": "<svg xmlns=\"http://www.w3.org/2000/svg\" xmlns:xlink=\"http://www.w3.org/1999/xlink\" version=\"1.1\" width=\"5.500in\" height=\"4.000in\" viewBox=\"0 0 3960 2880\">\n\t<desc>Stata Graph - Graph</desc>\n\t<rect x=\"0\" y=\"0\" width=\"3960\" height=\"2880\" style=\"fill:#EAF2F3;stroke:none\"/>\n\t<rect x=\"0.00\" y=\"0.00\" width=\"3959.88\" height=\"2880.00\" style=\"fill:#EAF2F3\"/>\n\t<rect x=\"2.88\" y=\"2.88\" width=\"3954.12\" height=\"2874.24\" style=\"fill:none;stroke:#EAF2F3;stroke-width:5.76\"/>\n\t<rect x=\"1075.26\" y=\"275.35\" width=\"2099.30\" height=\"2099.36\" style=\"fill:#FFFFFF\"/>\n\t<rect x=\"1078.14\" y=\"278.23\" width=\"2093.54\" height=\"2093.60\" style=\"fill:none;stroke:#FFFFFF;stroke-width:5.76\"/>\n\t<line x1=\"1075.26\" y1=\"2311.35\" x2=\"3174.56\" y2=\"2311.35\" style=\"stroke:#EAF2F3;stroke-width:8.64\"/>\n\t<line x1=\"1075.26\" y1=\"1916.82\" x2=\"3174.56\" y2=\"1916.82\" style=\"stroke:#EAF2F3;stroke-width:8.64\"/>\n\t<line x1=\"1075.26\" y1=\"1522.30\" x2=\"3174.56\" y2=\"1522.30\" style=\"stroke:#EAF2F3;stroke-width:8.64\"/>\n\t<line x1=\"1075.26\" y1=\"1127.77\" x2=\"3174.56\" y2=\"1127.77\" style=\"stroke:#EAF2F3;stroke-width:8.64\"/>\n\t<line x1=\"1075.26\" y1=\"733.24\" x2=\"3174.56\" y2=\"733.24\" style=\"stroke:#EAF2F3;stroke-width:8.64\"/>\n\t<line x1=\"1075.26\" y1=\"338.71\" x2=\"3174.56\" y2=\"338.71\" style=\"stroke:#EAF2F3;stroke-width:8.64\"/>\n\t<circle cx=\"2185.67\" cy=\"996.84\" r=\"26.35\" style=\"fill:#1A476F\"/>\n\t<circle cx=\"2185.67\" cy=\"996.84\" r=\"22.03\" style=\"fill:none;stroke:#1A476F;stroke-width:8.64\"/>\n\t<text x=\"2227.62\" y=\"1024.85\" style=\"font-family:'Helvetica';font-size:79.94px;fill:#1A476f\">Cheerios</text>\n\t<circle cx=\"1803.53\" cy=\"1875.61\" r=\"26.35\" style=\"fill:#1A476F\"/>\n\t<circle cx=\"1803.53\" cy=\"1875.61\" r=\"22.03\" style=\"fill:none;stroke:#1A476F;stroke-width:8.64\"/>\n\t<text x=\"1845.48\" y=\"1903.63\" style=\"font-family:'Helvetica';font-size:79.94px;fill:#1A476f\">Cocoa_Puffs</text>\n\t<circle cx=\"2027.27\" cy=\"1566.23\" r=\"26.35\" style=\"fill:#1A476F\"/>\n\t<circle cx=\"2027.27\" cy=\"1566.23\" r=\"22.03\" style=\"fill:none;stroke:#1A476F;stroke-width:8.64\"/>\n\t<text x=\"2069.22\" y=\"1594.24\" style=\"font-family:'Helvetica';font-size:79.94px;fill:#1A476f\">Honey_Nut_Cheerios</text>\n\t<circle cx=\"1651.44\" cy=\"1261.05\" r=\"26.35\" style=\"fill:#1A476F\"/>\n\t<circle cx=\"1651.44\" cy=\"1261.05\" r=\"22.03\" style=\"fill:none;stroke:#1A476F;stroke-width:8.64\"/>\n\t<text x=\"1693.40\" y=\"1289.06\" style=\"font-family:'Helvetica';font-size:79.94px;fill:#1A476f\">Kix</text>\n\t<circle cx=\"1845.24\" cy=\"1789.23\" r=\"26.35\" style=\"fill:#1A476F\"/>\n\t<circle cx=\"1845.24\" cy=\"1789.23\" r=\"22.03\" style=\"fill:none;stroke:#1A476F;stroke-width:8.64\"/>\n\t<text x=\"1887.19\" y=\"1817.25\" style=\"font-family:'Helvetica';font-size:79.94px;fill:#1A476f\">Lucky_Charms</text>\n\t<circle cx=\"2159.69\" cy=\"1670.80\" r=\"26.35\" style=\"fill:#1A476F\"/>\n\t<circle cx=\"2159.69\" cy=\"1670.80\" r=\"22.03\" style=\"fill:none;stroke:#1A476F;stroke-width:8.64\"/>\n\t<text x=\"2201.64\" y=\"1698.81\" style=\"font-family:'Helvetica';font-size:79.94px;fill:#1A476f\">Oatmeal_Raisin_Crisp</text>\n\t<circle cx=\"2194.46\" cy=\"1707.93\" r=\"26.35\" style=\"fill:#1A476F\"/>\n\t<circle cx=\"2194.46\" cy=\"1707.93\" r=\"22.03\" style=\"fill:none;stroke:#1A476F;stroke-width:8.64\"/>\n\t<text x=\"2236.41\" y=\"1735.94\" style=\"font-family:'Helvetica';font-size:79.94px;fill:#1A476f\">Raisin_Nut_Bran</text>\n\t<circle cx=\"1628.30\" cy=\"1353.74\" r=\"26.35\" style=\"fill:#1A476F\"/>\n\t<circle cx=\"1628.30\" cy=\"1353.74\" r=\"22.03\" style=\"fill:none;stroke:#1A476F;stroke-width:8.64\"/>\n\t<text x=\"1670.25\" y=\"1381.76\" style=\"font-family:'Helvetica';font-size:79.94px;fill:#1A476f\">Total_Corn_Flakes</text>\n\t<circle cx=\"2382.31\" cy=\"1654.59\" r=\"26.35\" style=\"fill:#1A476F\"/>\n\t<circle cx=\"2382.31\" cy=\"1654.59\" r=\"22.03\" style=\"fill:none;stroke:#1A476F;stroke-width:8.64\"/>\n\t<text x=\"2424.26\" y=\"1682.60\" style=\"font-family:'Helvetica';font-size:79.94px;fill:#1A476f\">Total_Raisin_Bran</text>\n\t<circle cx=\"1728.29\" cy=\"1895.04\" r=\"26.35\" style=\"fill:#1A476F\"/>\n\t<circle cx=\"1728.29\" cy=\"1895.04\" r=\"22.03\" style=\"fill:none;stroke:#1A476F;stroke-width:8.64\"/>\n\t<text x=\"1770.24\" y=\"1923.05\" style=\"font-family:'Helvetica';font-size:79.94px;fill:#1A476f\">Trix</text>\n\t<circle cx=\"1821.11\" cy=\"1568.33\" r=\"26.35\" style=\"fill:#1A476F\"/>\n\t<circle cx=\"1821.11\" cy=\"1568.33\" r=\"22.03\" style=\"fill:none;stroke:#1A476F;stroke-width:8.64\"/>\n\t<text x=\"1863.06\" y=\"1596.34\" style=\"font-family:'Helvetica';font-size:79.94px;fill:#1A476f\">Wheaties_Honey_Gold</text>\n\t<circle cx=\"2719.04\" cy=\"1356.34\" r=\"26.35\" style=\"fill:#1A476F\"/>\n\t<circle cx=\"2719.04\" cy=\"1356.34\" r=\"22.03\" style=\"fill:none;stroke:#1A476F;stroke-width:8.64\"/>\n\t<text x=\"2760.99\" y=\"1384.35\" style=\"font-family:'Helvetica';font-size:79.94px;fill:#1A476f\">All-Bran</text>\n\t<circle cx=\"1775.57\" cy=\"1918.80\" r=\"26.35\" style=\"fill:#1A476F\"/>\n\t<circle cx=\"1775.57\" cy=\"1918.80\" r=\"22.03\" style=\"fill:none;stroke:#1A476F;stroke-width:8.64\"/>\n\t<text x=\"1817.52\" y=\"1946.82\" style=\"font-family:'Helvetica';font-size:79.94px;fill:#1A476f\">Apple_Jacks</text>\n\t<circle cx=\"1575.34\" cy=\"1160.44\" r=\"26.35\" style=\"fill:#1A476F\"/>\n\t<circle cx=\"1575.34\" cy=\"1160.44\" r=\"22.03\" style=\"fill:none;stroke:#1A476F;stroke-width:8.64\"/>\n\t<text x=\"1617.29\" y=\"1188.45\" style=\"font-family:'Helvetica';font-size:79.94px;fill:#1A476f\">Corn_Flakes</text>\n\t<circle cx=\"1658.25\" cy=\"1946.40\" r=\"26.35\" style=\"fill:#1A476F\"/>\n\t<circle cx=\"1658.25\" cy=\"1946.40\" r=\"22.03\" style=\"fill:none;stroke:#1A476F;stroke-width:8.64\"/>\n\t<text x=\"1700.20\" y=\"1974.41\" style=\"font-family:'Helvetica';font-size:79.94px;fill:#1A476f\">Corn_Pops</text>\n\t<circle cx=\"2323.65\" cy=\"1694.31\" r=\"26.35\" style=\"fill:#1A476F\"/>\n\t<circle cx=\"2323.65\" cy=\"1694.31\" r=\"22.03\" style=\"fill:none;stroke:#1A476F;stroke-width:8.64\"/>\n\t<text x=\"2365.61\" y=\"1722.33\" style=\"font-family:'Helvetica';font-size:79.94px;fill:#1A476f\">Mueslix_Crispy_Blend</text>\n\t<circle cx=\"1780.39\" cy=\"1645.68\" r=\"26.35\" style=\"fill:#1A476F\"/>\n\t<circle cx=\"1780.39\" cy=\"1645.68\" r=\"22.03\" style=\"fill:none;stroke:#1A476F;stroke-width:8.64\"/>\n\t<text x=\"1822.34\" y=\"1673.69\" style=\"font-family:'Helvetica';font-size:79.94px;fill:#1A476f\">Nut_&amp;_Honey_Crunch</text>\n\t<circle cx=\"2158.57\" cy=\"1351.02\" r=\"26.35\" style=\"fill:#1A476F\"/>\n\t<circle cx=\"2158.57\" cy=\"1351.02\" r=\"22.03\" style=\"fill:none;stroke:#1A476F;stroke-width:8.64\"/>\n\t<text x=\"2200.52\" y=\"1379.03\" style=\"font-family:'Helvetica';font-size:79.94px;fill:#1A476f\">Nutri_Grain_Almond_Raisin</text>\n\t<circle cx=\"1791.03\" cy=\"1318.23\" r=\"26.35\" style=\"fill:#1A476F\"/>\n\t<circle cx=\"1791.03\" cy=\"1318.23\" r=\"22.03\" style=\"fill:none;stroke:#1A476F;stroke-width:8.64\"/>\n\t<text x=\"1832.99\" y=\"1346.24\" style=\"font-family:'Helvetica';font-size:79.94px;fill:#1A476f\">Nutri_Grain_Wheat</text>\n\t<circle cx=\"1669.76\" cy=\"1095.35\" r=\"26.35\" style=\"fill:#1A476F\"/>\n\t<circle cx=\"1669.76\" cy=\"1095.35\" r=\"22.03\" style=\"fill:none;stroke:#1A476F;stroke-width:8.64\"/>\n\t<text x=\"1711.71\" y=\"1123.36\" style=\"font-family:'Helvetica';font-size:79.94px;fill:#1A476f\">Product_19</text>\n\t<circle cx=\"2409.29\" cy=\"1577.86\" r=\"26.35\" style=\"fill:#1A476F\"/>\n\t<circle cx=\"2409.29\" cy=\"1577.86\" r=\"22.03\" style=\"fill:none;stroke:#1A476F;stroke-width:8.64\"/>\n\t<text x=\"2451.24\" y=\"1605.87\" style=\"font-family:'Helvetica';font-size:79.94px;fill:#1A476f\">Raisin_Bran</text>\n\t<circle cx=\"1540.69\" cy=\"1176.28\" r=\"26.35\" style=\"fill:#1A476F\"/>\n\t<circle cx=\"1540.69\" cy=\"1176.28\" r=\"22.03\" style=\"fill:none;stroke:#1A476F;stroke-width:8.64\"/>\n\t<text x=\"1582.64\" y=\"1204.29\" style=\"font-family:'Helvetica';font-size:79.94px;fill:#1A476f\">Rice_Krispies</text>\n\t<circle cx=\"1881.12\" cy=\"1137.05\" r=\"26.35\" style=\"fill:#1A476F\"/>\n\t<circle cx=\"1881.12\" cy=\"1137.05\" r=\"22.03\" style=\"fill:none;stroke:#1A476F;stroke-width:8.64\"/>\n\t<text x=\"1923.08\" y=\"1165.06\" style=\"font-family:'Helvetica';font-size:79.94px;fill:#1A476f\">Special_K</text>\n\t<circle cx=\"2121.82\" cy=\"1559.42\" r=\"26.35\" style=\"fill:#1A476F\"/>\n\t<circle cx=\"2121.82\" cy=\"1559.42\" r=\"22.03\" style=\"fill:none;stroke:#1A476F;stroke-width:8.64\"/>\n\t<text x=\"2163.77\" y=\"1587.43\" style=\"font-family:'Helvetica';font-size:79.94px;fill:#1A476f\">Life</text>\n\t<circle cx=\"1360.26\" cy=\"1780.20\" r=\"26.35\" style=\"fill:#1A476F\"/>\n\t<circle cx=\"1360.26\" cy=\"1780.20\" r=\"22.03\" style=\"fill:none;stroke:#1A476F;stroke-width:8.64\"/>\n\t<text x=\"1402.21\" y=\"1808.21\" style=\"font-family:'Helvetica';font-size:79.94px;fill:#1A476f\">Puffed_Rice</text>\n\t<line x1=\"1075.26\" y1=\"2374.71\" x2=\"1075.26\" y2=\"275.35\" style=\"stroke:#000000;stroke-width:5.76\"/>\n\t<line x1=\"1075.26\" y1=\"2311.35\" x2=\"1035.29\" y2=\"2311.35\" style=\"stroke:#000000;stroke-width:5.76\"/>\n\t<text x=\"985.31\" y=\"2311.35\" style=\"font-family:'Helvetica';font-size:99.99px;fill:#000000\" transform=\"rotate(-90 985.31,2311.35)\" text-anchor=\"middle\">-4</text>\n\t<line x1=\"1075.26\" y1=\"1916.82\" x2=\"1035.29\" y2=\"1916.82\" style=\"stroke:#000000;stroke-width:5.76\"/>\n\t<text x=\"985.31\" y=\"1916.82\" style=\"font-family:'Helvetica';font-size:99.99px;fill:#000000\" transform=\"rotate(-90 985.31,1916.82)\" text-anchor=\"middle\">-2</text>\n\t<line x1=\"1075.26\" y1=\"1522.30\" x2=\"1035.29\" y2=\"1522.30\" style=\"stroke:#000000;stroke-width:5.76\"/>\n\t<text x=\"985.31\" y=\"1522.30\" style=\"font-family:'Helvetica';font-size:99.99px;fill:#000000\" transform=\"rotate(-90 985.31,1522.30)\" text-anchor=\"middle\">0</text>\n\t<line x1=\"1075.26\" y1=\"1127.77\" x2=\"1035.29\" y2=\"1127.77\" style=\"stroke:#000000;stroke-width:5.76\"/>\n\t<text x=\"985.31\" y=\"1127.77\" style=\"font-family:'Helvetica';font-size:99.99px;fill:#000000\" transform=\"rotate(-90 985.31,1127.77)\" text-anchor=\"middle\">2</text>\n\t<line x1=\"1075.26\" y1=\"733.24\" x2=\"1035.29\" y2=\"733.24\" style=\"stroke:#000000;stroke-width:5.76\"/>\n\t<text x=\"985.31\" y=\"733.24\" style=\"font-family:'Helvetica';font-size:99.99px;fill:#000000\" transform=\"rotate(-90 985.31,733.24)\" text-anchor=\"middle\">4</text>\n\t<line x1=\"1075.26\" y1=\"338.71\" x2=\"1035.29\" y2=\"338.71\" style=\"stroke:#000000;stroke-width:5.76\"/>\n\t<text x=\"985.31\" y=\"338.71\" style=\"font-family:'Helvetica';font-size:99.99px;fill:#000000\" transform=\"rotate(-90 985.31,338.71)\" text-anchor=\"middle\">6</text>\n\t<text x=\"875.30\" y=\"1325.03\" style=\"font-family:'Helvetica';font-size:99.99px;fill:#000000\" transform=\"rotate(-90 875.30,1325.03)\" text-anchor=\"middle\">Dimension 2</text>\n\t<line x1=\"1075.26\" y1=\"2374.71\" x2=\"3174.56\" y2=\"2374.71\" style=\"stroke:#000000;stroke-width:5.76\"/>\n\t<line x1=\"1138.62\" y1=\"2374.71\" x2=\"1138.62\" y2=\"2414.69\" style=\"stroke:#000000;stroke-width:5.76\"/>\n\t<text x=\"1138.62\" y=\"2504.54\" style=\"font-family:'Helvetica';font-size:99.99px;fill:#000000\" text-anchor=\"middle\">-4</text>\n\t<line x1=\"1533.14\" y1=\"2374.71\" x2=\"1533.14\" y2=\"2414.69\" style=\"stroke:#000000;stroke-width:5.76\"/>\n\t<text x=\"1533.14\" y=\"2504.54\" style=\"font-family:'Helvetica';font-size:99.99px;fill:#000000\" text-anchor=\"middle\">-2</text>\n\t<line x1=\"1927.65\" y1=\"2374.71\" x2=\"1927.65\" y2=\"2414.69\" style=\"stroke:#000000;stroke-width:5.76\"/>\n\t<text x=\"1927.65\" y=\"2504.54\" style=\"font-family:'Helvetica';font-size:99.99px;fill:#000000\" text-anchor=\"middle\">0</text>\n\t<line x1=\"2322.17\" y1=\"2374.71\" x2=\"2322.17\" y2=\"2414.69\" style=\"stroke:#000000;stroke-width:5.76\"/>\n\t<text x=\"2322.17\" y=\"2504.54\" style=\"font-family:'Helvetica';font-size:99.99px;fill:#000000\" text-anchor=\"middle\">2</text>\n\t<line x1=\"2716.68\" y1=\"2374.71\" x2=\"2716.68\" y2=\"2414.69\" style=\"stroke:#000000;stroke-width:5.76\"/>\n\t<text x=\"2716.68\" y=\"2504.54\" style=\"font-family:'Helvetica';font-size:99.99px;fill:#000000\" text-anchor=\"middle\">4</text>\n\t<line x1=\"3111.20\" y1=\"2374.71\" x2=\"3111.20\" y2=\"2414.69\" style=\"stroke:#000000;stroke-width:5.76\"/>\n\t<text x=\"3111.20\" y=\"2504.54\" style=\"font-family:'Helvetica';font-size:99.99px;fill:#000000\" text-anchor=\"middle\">6</text>\n\t<text x=\"2124.91\" y=\"2614.56\" style=\"font-family:'Helvetica';font-size:99.99px;fill:#000000\" text-anchor=\"middle\">Dimension 1</text>\n\t<text x=\"118.06\" y=\"2737.89\" style=\"font-family:'Helvetica';font-size:79.94px;fill:#000000\">Classical MDS</text>\n\t<text x=\"1980.00\" y=\"215.98\" style=\"font-family:'Helvetica';font-size:139.96px;fill:#1E2D53\" text-anchor=\"middle\">MDS configuration</text>\n</svg>",
      "text/plain": [
       "<IPython.core.display.SVG object>"
      ]
     },
     "metadata": {},
     "output_type": "display_data"
    }
   ],
   "source": [
    "%stata mds calories-K, id(brand) std"
   ]
  },
  {
   "cell_type": "markdown",
   "id": "c19b33df",
   "metadata": {},
   "source": [
    "opcja \"std\" przed wykonaniem obliczen standaryzuje wartosci charakterystyk"
   ]
  },
  {
   "cell_type": "code",
   "execution_count": null,
   "id": "6b0f3f3e",
   "metadata": {},
   "outputs": [],
   "source": []
  }
 ],
 "metadata": {
  "kernelspec": {
   "display_name": "Python 3",
   "language": "python",
   "name": "python3"
  },
  "language_info": {
   "codemirror_mode": {
    "name": "ipython",
    "version": 3
   },
   "file_extension": ".py",
   "mimetype": "text/x-python",
   "name": "python",
   "nbconvert_exporter": "python",
   "pygments_lexer": "ipython3",
   "version": "3.10.6"
  },
  "vscode": {
   "interpreter": {
    "hash": "a8685faa0ed749449a0f1a8710c4e7cd8c1c7833bc8ac4d1844d25fbee35609f"
   }
  }
 },
 "nbformat": 4,
 "nbformat_minor": 5
}
