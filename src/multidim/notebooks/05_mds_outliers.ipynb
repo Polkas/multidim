{
 "cells": [
  {
   "cell_type": "markdown",
   "id": "d8927acb",
   "metadata": {},
   "source": [
    "# Analiza Wielowymiarowa - zajecia 05 - Skalowanie wielowymiarowe i obserwacje nietypowe"
   ]
  },
  {
   "cell_type": "markdown",
   "id": "e285e16f",
   "metadata": {},
   "source": [
    "## Skalowanie wielowymiarowe"
   ]
  },
  {
   "cell_type": "code",
   "execution_count": null,
   "id": "b64e6d7f-c1c6-4248-8d3e-d51600c69de1",
   "metadata": {},
   "outputs": [],
   "source": [
    "from multidim.utils import resolve_stata, load_stata\n",
    "\n",
    "STATA_PATH, STATA_TYPE = resolve_stata(version = 18, stype = \"se\")\n",
    "# make sure they are proper ones\n",
    "STATA_PATH, STATA_TYPE"
   ]
  },
  {
   "cell_type": "code",
   "execution_count": null,
   "id": "1bf9afd9-feeb-41c4-ae20-d620098eb810",
   "metadata": {
    "tags": []
   },
   "outputs": [],
   "source": [
    "#load_stata(STATA_PATH, STATA_TYPE)\n",
    "load_stata(STATA_PATH, \"se\")"
   ]
  },
  {
   "cell_type": "code",
   "execution_count": null,
   "id": "086775bb",
   "metadata": {},
   "outputs": [],
   "source": [
    "import pandas as pd\n",
    "import scipy\n",
    "import sklearn\n",
    "import numpy as np\n",
    "import seaborn as sns\n",
    "import scipy as sp\n",
    "from scipy.stats import chi2\n",
    "from matplotlib import pyplot as plt\n",
    "from sklearn.cluster import AgglomerativeClustering\n",
    "from multidim.funs import plot_dendrogram\n",
    "from multidim.datasets import load_boston"
   ]
  },
  {
   "cell_type": "markdown",
   "id": "a8aecafd",
   "metadata": {},
   "source": [
    "### Przykład 1."
   ]
  },
  {
   "cell_type": "markdown",
   "id": "02066827",
   "metadata": {},
   "source": [
    "Dane i przyklad zostaly pozyczone z podrecznika Stata MV"
   ]
  },
  {
   "cell_type": "markdown",
   "id": "584ddf05",
   "metadata": {},
   "source": [
    "Zaladowanie danych z internetu. Jezeli nie dziala, zbior danych jest w materialach do zajec\n",
    "\n",
    "Dane dotycza charakterystyk odzywczych platkow sniadanowych"
   ]
  },
  {
   "cell_type": "code",
   "execution_count": null,
   "id": "fa7313eb",
   "metadata": {},
   "outputs": [],
   "source": [
    "%%stata \n",
    "use https://www.stata-press.com/data/r17/cerealnut\n",
    "des "
   ]
  },
  {
   "cell_type": "markdown",
   "id": "69e4edb1",
   "metadata": {},
   "source": [
    "Podstawowy opis statystyczny cech charakterystycznych płatkow sniadaniowych"
   ]
  },
  {
   "cell_type": "code",
   "execution_count": null,
   "id": "6be565a9",
   "metadata": {},
   "outputs": [],
   "source": [
    "%stata summarize calories-K, sep(4)"
   ]
  },
  {
   "cell_type": "raw",
   "id": "91eb0aef",
   "metadata": {},
   "source": [
    "Zastepujemy odstepy w nazwach znakiem podreslenia dla czytelnosci wykresow"
   ]
  },
  {
   "cell_type": "code",
   "execution_count": null,
   "id": "573323e2",
   "metadata": {},
   "outputs": [],
   "source": [
    "%stata replace brand = subinstr(brand,\" \",\"_\",.)"
   ]
  },
  {
   "cell_type": "markdown",
   "id": "4bdf01e8",
   "metadata": {},
   "source": [
    "Polecenie mds wykonuje skalowanie wielowymiarowe na podstawie podanych charakterystyk\n",
    "opcja \"id\" jest niezbedna, identyfikuje obserwacje"
   ]
  },
  {
   "cell_type": "code",
   "execution_count": null,
   "id": "2207f143",
   "metadata": {},
   "outputs": [],
   "source": [
    "%stata mds calories-K, id(brand)"
   ]
  },
  {
   "cell_type": "markdown",
   "id": "780c7b17",
   "metadata": {},
   "source": [
    "Dwie pierwsze wartosci wlasne wyjasniaja 99,7% niepodobienstwa  "
   ]
  },
  {
   "cell_type": "code",
   "execution_count": null,
   "id": "77d1c505",
   "metadata": {},
   "outputs": [],
   "source": [
    "%stata mds calories-K, id(brand) std"
   ]
  },
  {
   "cell_type": "markdown",
   "id": "c19b33df",
   "metadata": {},
   "source": [
    "opcja \"std\" przed wykonaniem obliczen standaryzuje wartosci charakterystyk"
   ]
  },
  {
   "cell_type": "markdown",
   "id": "cb365671",
   "metadata": {},
   "source": [
    "## Obserwacje nietypowe"
   ]
  },
  {
   "cell_type": "markdown",
   "id": "33034ef9",
   "metadata": {},
   "source": [
    "Wczytanie danych  do pakietu Stata"
   ]
  },
  {
   "cell_type": "code",
   "execution_count": null,
   "id": "3deb87d3",
   "metadata": {},
   "outputs": [],
   "source": [
    "%stata load boston "
   ]
  },
  {
   "cell_type": "markdown",
   "id": "325fb836",
   "metadata": {},
   "source": [
    "Wczytanie danych"
   ]
  },
  {
   "cell_type": "code",
   "execution_count": null,
   "id": "85e79dce",
   "metadata": {},
   "outputs": [],
   "source": [
    "boston = load_boston()\n",
    "y = boston['MEDV'] \n",
    "df = boston[['CRIM', 'ZN', 'INDUS', 'CHAS','NOX','RM', 'AGE', 'DIS', 'RAD', 'TAX', 'PTRATIO', 'B', 'LSTAT' ]]"
   ]
  },
  {
   "cell_type": "code",
   "execution_count": null,
   "id": "721defa2",
   "metadata": {},
   "outputs": [],
   "source": [
    "print(boston)\n"
   ]
  },
  {
   "cell_type": "code",
   "execution_count": null,
   "id": "ef1fb479",
   "metadata": {},
   "outputs": [],
   "source": [
    "#df.describe()\n",
    "df_1 = df[['TAX', 'B']]\n",
    "df_2 = df[['CRIM', 'ZN', 'INDUS', 'RM', 'AGE', 'DIS', 'RAD', 'PTRATIO','LSTAT']]\n",
    "df_3 = df[['CHAS', 'NOX']]\n",
    "\n",
    "ax = sns.boxplot(data=df_2, orient=\"h\", palette=\"Set2\")\n",
    "\n",
    "ax = sns.boxplot(x=df[\"CRIM\"])\n",
    "ax.set_xlabel('Crime rate per capita')\n"
   ]
  },
  {
   "cell_type": "markdown",
   "id": "5005b530",
   "metadata": {},
   "source": [
    "Wizualizacja danych"
   ]
  },
  {
   "cell_type": "code",
   "execution_count": null,
   "id": "5d393131",
   "metadata": {},
   "outputs": [],
   "source": [
    "#Wykres rozrzutu\n",
    "ax = sns.scatterplot(x=\"LSTAT\", y=\"CRIM\", data=df)"
   ]
  },
  {
   "cell_type": "markdown",
   "id": "0819a2d4",
   "metadata": {},
   "source": [
    "Odległość Mahalanobisa - funckcja zwracająca obserwacje odstające"
   ]
  },
  {
   "cell_type": "code",
   "execution_count": null,
   "id": "14bd9807",
   "metadata": {},
   "outputs": [],
   "source": [
    "def mahalanobis_method(df):\n",
    "    #M-Distance\n",
    "    x_minus_mu = df - np.mean(df, axis=0)\n",
    "    cov = np.cov(df.values.T)                           #Covariance\n",
    "    inv_covmat = sp.linalg.inv(cov)                     #Inverse covariance\n",
    "    left_term = np.dot(x_minus_mu, inv_covmat) \n",
    "    mahal = np.dot(left_term, x_minus_mu.T)\n",
    "    md = np.sqrt(mahal.diagonal())\n",
    "    \n",
    "    #Flag as outlier\n",
    "    outlier = []\n",
    "    #Cut-off point\n",
    "    C = np.sqrt(chi2.ppf((1-0.001), df=df.shape[1]))    #degrees of freedom = number of variables\n",
    "    for index, value in enumerate(md):\n",
    "        if value > C:\n",
    "            outlier.append(index)\n",
    "        else:\n",
    "            continue\n",
    "    return outlier, md"
   ]
  },
  {
   "cell_type": "markdown",
   "id": "46d1b04c",
   "metadata": {},
   "source": [
    "Obserwacje odstające według odległości Mahalanobisa: 2 wymiarowe"
   ]
  },
  {
   "cell_type": "code",
   "execution_count": null,
   "id": "2e1e452f",
   "metadata": {},
   "outputs": [],
   "source": [
    "df_bivariate = df[['LSTAT', 'CRIM']]"
   ]
  },
  {
   "cell_type": "code",
   "execution_count": null,
   "id": "bd711c1f",
   "metadata": {},
   "outputs": [],
   "source": [
    "outliers_mahal_bi, md_bi = mahalanobis_method(df=df_bivariate)"
   ]
  },
  {
   "cell_type": "code",
   "execution_count": null,
   "id": "232e0200",
   "metadata": {},
   "outputs": [],
   "source": [
    "outliers_mahal_bi"
   ]
  },
  {
   "cell_type": "markdown",
   "id": "832e8fe8",
   "metadata": {},
   "source": [
    "Obserwacje odstające według odległości Mahalanobisa: względem wszystkich zmiennych w zbiorze"
   ]
  },
  {
   "cell_type": "code",
   "execution_count": null,
   "id": "d5e2f332",
   "metadata": {},
   "outputs": [],
   "source": [
    "outliers_mahal, md = mahalanobis_method(df=df)"
   ]
  },
  {
   "cell_type": "code",
   "execution_count": null,
   "id": "aa926fc0",
   "metadata": {},
   "outputs": [],
   "source": [
    "outliers_mahal"
   ]
  },
  {
   "cell_type": "markdown",
   "id": "d56794dc",
   "metadata": {},
   "source": [
    "### Winsoryzacja"
   ]
  },
  {
   "cell_type": "markdown",
   "id": "bc68873c",
   "metadata": {},
   "source": [
    "Stworzenie kopii danych"
   ]
  },
  {
   "cell_type": "code",
   "execution_count": null,
   "id": "2f657f64",
   "metadata": {},
   "outputs": [],
   "source": [
    "df_win = df.copy(deep=True)"
   ]
  },
  {
   "cell_type": "markdown",
   "id": "9c19abb3",
   "metadata": {},
   "source": [
    "Winsoryzacja prawego ogona rozkładu "
   ]
  },
  {
   "cell_type": "code",
   "execution_count": null,
   "id": "28e6d114",
   "metadata": {},
   "outputs": [],
   "source": [
    "df_win['CRIM_wins_95%'] = sp.stats.mstats.winsorize(df['CRIM'], limits=(0, 0.05))\n",
    "df_win['CRIM_wins_925%'] = sp.stats.mstats.winsorize(df['CRIM'], limits=(0, 0.075))"
   ]
  },
  {
   "cell_type": "markdown",
   "id": "0714427a",
   "metadata": {},
   "source": [
    "Tu będzie opis"
   ]
  },
  {
   "cell_type": "code",
   "execution_count": null,
   "id": "4ccb6502",
   "metadata": {},
   "outputs": [],
   "source": [
    "df_win.describe()"
   ]
  },
  {
   "cell_type": "markdown",
   "id": "863a476b",
   "metadata": {},
   "source": [
    "Wykres rozkładu zmiennej Crime rate per capita by town"
   ]
  },
  {
   "cell_type": "code",
   "execution_count": null,
   "id": "23c1b673",
   "metadata": {},
   "outputs": [],
   "source": [
    "sns.distplot(df['CRIM'])"
   ]
  },
  {
   "cell_type": "markdown",
   "id": "0cb07301",
   "metadata": {},
   "source": [
    "Wykresy po winsoryzacji "
   ]
  },
  {
   "cell_type": "code",
   "execution_count": null,
   "id": "678bd5eb",
   "metadata": {},
   "outputs": [],
   "source": [
    "sns.distplot(df_win['CRIM_wins_95%'])\n",
    "sns.distplot(df_win['CRIM_wins_925%'])"
   ]
  },
  {
   "cell_type": "code",
   "execution_count": null,
   "id": "9d9bd4fd",
   "metadata": {},
   "outputs": [],
   "source": []
  }
 ],
 "metadata": {
  "kernelspec": {
   "display_name": "Python 3 (ipykernel)",
   "language": "python",
   "name": "python3"
  },
  "language_info": {
   "codemirror_mode": {
    "name": "ipython",
    "version": 3
   },
   "file_extension": ".py",
   "mimetype": "text/x-python",
   "name": "python",
   "nbconvert_exporter": "python",
   "pygments_lexer": "ipython3",
   "version": "3.11.4"
  },
  "vscode": {
   "interpreter": {
    "hash": "a8685faa0ed749449a0f1a8710c4e7cd8c1c7833bc8ac4d1844d25fbee35609f"
   }
  }
 },
 "nbformat": 4,
 "nbformat_minor": 5
}
