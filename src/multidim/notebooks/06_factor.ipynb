{
    "cells": [
        {
            "cell_type": "markdown",
            "id": "2a48c727",
            "metadata": {
                "tags": []
            },
            "source": [
                "# Analiza Wielowymiarowa - zajecia 6 - Analiza czynnikowa"
            ]
        },
        {
            "cell_type": "code",
            "execution_count": null,
            "id": "32b52329",
            "metadata": {},
            "outputs": [],
            "source": [
                "from multidim.utils import resolve_stata, load_stata\n",
                "\n",
                "STATA_PATH, STATA_TYPE = resolve_stata(version = 18, stype = \"se\")\n",
                "# make sure they are proper ones\n",
                "STATA_PATH, STATA_TYPE"
            ]
        },
        {
            "cell_type": "code",
            "execution_count": null,
            "id": "40123e5a",
            "metadata": {},
            "outputs": [],
            "source": [
                "load_stata(STATA_PATH, STATA_TYPE)"
            ]
        },
        {
            "cell_type": "code",
            "execution_count": null,
            "id": "1df4db13",
            "metadata": {},
            "outputs": [],
            "source": [
                "# Załadowanie bibliotek\n",
                "import pandas as pd\n",
                "import numpy as np\n",
                "\n",
                "#https://scikit-learn.org/stable/modules/decomposition.html#fa\n",
                "#https://scikit-learn.org/stable/modules/generated/sklearn.decomposition.FactorAnalysis.html\n",
                "from sklearn import decomposition\n",
                "from sklearn.decomposition import FactorAnalysis\n",
                "from sklearn.preprocessing import StandardScaler\n",
                "#https://factor-analyzer.readthedocs.io/en/latest/factor_analyzer.html\n",
                "from factor_analyzer import FactorAnalyzer\n",
                "from factor_analyzer.factor_analyzer import calculate_bartlett_sphericity\n",
                "from factor_analyzer.factor_analyzer import calculate_kmo\n",
                "\n",
                "from sklearn.decomposition import PCA\n",
                "from sklearn.decomposition import TruncatedSVD \n",
                "from scipy.linalg import svd\n",
                "\n",
                "from multidim.funs import corr_mat\n"
            ]
        },
        {
            "cell_type": "markdown",
            "id": "3d84d8e6-cda6-49dc-b436-02eca4735e97",
            "metadata": {},
            "source": [
                "## Analiza Czynnikowa"
            ]
        },
        {
            "cell_type": "markdown",
            "id": "e91bc599",
            "metadata": {},
            "source": [
                "### Przyklad 1 -- zaczerpniety z materialow pani Natalii Nehrebeckiej"
            ]
        },
        {
            "cell_type": "code",
            "execution_count": null,
            "id": "c97bb918",
            "metadata": {},
            "outputs": [],
            "source": [
                "%%stata\n",
                "/*Ponizej przedstawimy analize czynnikowa metoda najwiekszej wiarogodnosci. Zaleca\n",
                "sie na wstepie analize skladowych glownych, aby ustalic przyblizona liczbe czynnikow*/\n",
                "\n",
                "/*Dane wejsciowe do analizy czynnikowej moga miec postac macierzy kowariancji lub korelacji.\n",
                "Posluzymy sie danymi pochodzacymi z badania przeprowadzonego na 123 osobach cierpiacych\n",
                "z powodu silnych napadow bolu. Poproszono ich o wydanie opinii na skali od 1 do 6\n",
                "(1-calkowicie sie zgadzam, 6-nie zgadzam sie) na temat 9 oswiadczen na temat bolu.\n",
                "\n",
                "Ponizej lista zmiennych:\n",
                "1. To, czy bede cierpial z powodu bolu w przyszlosci zalezy od lekarza.\n",
                "2. To, czy bede cierpial z powodu bolu, zalezy zwykle od tego, czy cos zrobilem lub nie\n",
                "   zrobilem.\n",
                "3. To, czy bede cierpial z powodu bolu, zalezy od tego, co zrobi dla mnie lekarz.\n",
                "4. Nie moge poradzic sobie z bolem, dopoki nie skorzystam z pomocy medycznej.\n",
                "5. Jesli czuje bol, to jest to spowodowane tym, iz nie wykonywalem odpowiednich cwiczen lub\n",
                "   nieprawidlowo sie odzywialem.\n",
                "6. Bol jest wynikiem zaniedbania.\n",
                "7. Jestem calkowicie odpowiedzialny za moj bol.\n",
                "8. Pozbycie sie bolu jest kontrolowane przez doktora.\n",
                "9. Ludzie, ktorzy nigdy nie cierpia z powodu bolu, sa szczesciarzami.*/"
            ]
        },
        {
            "cell_type": "code",
            "execution_count": null,
            "id": "bf289888-8057-4819-bd98-29ad7de08189",
            "metadata": {},
            "outputs": [],
            "source": [
                "%%stata -qui\n",
                "matrix C = ( 1.0000, -0.0385, 0.6066, 0.4507, 0.0320, -0.2877, -0.2974, 0.4526, 0.2952 \\/*\n",
                "*/ -0.0385, 1.0000, -0.0693, -0.1167, 0.4881, 0.4271, 0.3045, -0.3090, -0.1704 \\/*\n",
                "*/ 0.6066, -0.0693, 1.000, 0.5916, 0.0317, -0.1336, -0.2404, 0.5886, 0.3165 \\ /*\n",
                "*/0.4507, -0.1167, 0.5916, 1.0000, -0.0802,  -0.2073, -0.1850, 0.6286, 0.3680 \\ /*\n",
                "*/0.0320, 0.4881, 0.0317, -0.0802, 1.0000, 0.4731, 0.4138, -0.1397, -0.2367 \\ /*\n",
                "*/-0.2877, 0.4271, -0.1336, -0.2073, 0.4731, 1.0000, 0.6346, -0.1329, -0.1541 \\ /*\n",
                "*/-0.2974, 0.3045, -0.2404, -0.1850, 0.4138, 0.6346, 1.0000, -0.2599, -0.2893 \\ /*\n",
                "*/0.4526, -0.3090, 0.5886, 0.6286, -0.1397, -0.1329, -0.2599, 1.0000, 0.4047 \\ /*\n",
                "*/0.2952, -0.1704, 0.3165, 0.3680, -0.2367, -0.1541, -0.2893, 0.4047, 1.0000 )"
            ]
        },
        {
            "cell_type": "markdown",
            "id": "725b97fd-8d47-439f-9260-b97bd403c342",
            "metadata": {},
            "source": [
                "Test Ilorazu Wiarogodności (ang. LR test) https://www.jstor.org/stable/2287400"
            ]
        },
        {
            "cell_type": "code",
            "execution_count": null,
            "id": "4efab7f6-a854-4dc4-8456-a961b42a3d1f",
            "metadata": {},
            "outputs": [],
            "source": [
                "%%stata\n",
                "/*Nie musimy nigdzie okreslac, iz na wejsciu mamy dane w postaci macierzy\n",
                "korelacji. Rozpoczniemy od 2 czynnikow*/\n",
                "/*Jesli wykorzystujemy dane w postaci macierzy korelacji, musimy okreslic liczbe obserwacji*/\n",
                "\n",
                "factormat C, n(123) names(p1 p2 p3 p4 p5 p6 p7 p8 p9) fac(2) ml"
            ]
        },
        {
            "cell_type": "code",
            "execution_count": null,
            "id": "b8064bb2-0926-4d81-9936-81423d61f07e",
            "metadata": {},
            "outputs": [],
            "source": [
                "C = np.array([[ 1.0000, -0.0385, 0.6066, 0.4507, 0.0320, -0.2877, -0.2974, 0.4526, 0.2952],\n",
                "[-0.0385, 1.0000, -0.0693, -0.1167, 0.4881, 0.4271, 0.3045, -0.3090, -0.1704],\n",
                "[0.6066, -0.0693, 1.000, 0.5916, 0.0317, -0.1336, -0.2404, 0.5886, 0.3165],\n",
                "[0.4507, -0.1167, 0.5916, 1.0000, -0.0802,  -0.2073, -0.1850, 0.6286, 0.3680],\n",
                "[0.0320, 0.4881, 0.0317, -0.0802, 1.0000, 0.4731, 0.4138, -0.1397, -0.2367],\n",
                "[-0.2877, 0.4271, -0.1336, -0.2073, 0.4731, 1.0000, 0.6346, -0.1329, -0.1541],\n",
                "[-0.2974, 0.3045, -0.2404, -0.1850, 0.4138, 0.6346, 1.0000, -0.2599, -0.2893],\n",
                "[0.4526, -0.3090, 0.5886, 0.6286, -0.1397, -0.1329, -0.2599, 1.0000, 0.4047],\n",
                "[0.2952, -0.1704, 0.3165, 0.3680, -0.2367, -0.1541, -0.2893, 0.4047, 1.0000]])"
            ]
        },
        {
            "cell_type": "code",
            "execution_count": null,
            "id": "c89669eb-a7bd-450e-9c6d-8fcba38342a1",
            "metadata": {},
            "outputs": [],
            "source": [
                "np.linalg.eigvals(C) # macierz oddatnio okreslona"
            ]
        },
        {
            "cell_type": "code",
            "execution_count": null,
            "id": "0405f2b3-b008-4cdc-ad78-1b42910ae576",
            "metadata": {},
            "outputs": [],
            "source": [
                "fa = FactorAnalyzer(rotation = None, is_corr_matrix = True, n_factors = 2, method = 'ml')\n",
                "fa.fit(C)\n",
                "\n",
                "# GET EIGENVALUES\n",
                "# Large values of the communalities will indicate that the fitting hyperplane (factors) is rather accurately reproducing the correlation matrix. \n",
                "fa.get_uniquenesses(), fa.get_communalities()"
            ]
        },
        {
            "cell_type": "code",
            "execution_count": null,
            "id": "5b929250-f3aa-48ef-9f32-46f97962e6be",
            "metadata": {},
            "outputs": [],
            "source": [
                "fa.get_uniquenesses() + fa.get_communalities()"
            ]
        },
        {
            "cell_type": "code",
            "execution_count": null,
            "id": "930a859f-7cca-4352-8ca8-01d71be84a90",
            "metadata": {},
            "outputs": [],
            "source": [
                "fa.get_factor_variance()[0], fa.get_eigenvalues()[1][0:2]"
            ]
        },
        {
            "cell_type": "code",
            "execution_count": null,
            "id": "1d9273bf-7487-48c5-bf64-9165d87e3c39",
            "metadata": {},
            "outputs": [],
            "source": [
                "nams = [ \"p\" + i for i in list(\"123456789\")]\n",
                "loadings = pd.DataFrame(np.column_stack((fa.loadings_, fa.get_uniquenesses())))\n",
                "loadings.index = nams\n",
                "loadings.columns = [\"Factor1\", \"Factor2\", \"uniquenesses\"] \n",
                "loadings"
            ]
        },
        {
            "cell_type": "markdown",
            "id": "5fc8b2c6",
            "metadata": {},
            "source": [
                "Truncated SVD Directly"
            ]
        },
        {
            "cell_type": "code",
            "execution_count": null,
            "id": "dea69757",
            "metadata": {},
            "outputs": [],
            "source": [
                "tsvd = TruncatedSVD(2)\n",
                "tsvd.fit(C)\n",
                "loadings_direct_svd = tsvd.components_.T * np.sqrt(tsvd.explained_variance_)"
            ]
        },
        {
            "cell_type": "markdown",
            "id": "001e9054",
            "metadata": {},
            "source": [
                "Correlation between FA loadings and direct Truncated SVD loadings"
            ]
        },
        {
            "cell_type": "code",
            "execution_count": null,
            "id": "d0be0520",
            "metadata": {},
            "outputs": [],
            "source": [
                "np.diag(\n",
                "    corr_mat(\n",
                "        loadings_direct_svd,\n",
                "        fa.loadings_\n",
                "    )\n",
                ")"
            ]
        },
        {
            "cell_type": "code",
            "execution_count": null,
            "id": "9f099d12-a22b-427b-9057-2071180da802",
            "metadata": {},
            "outputs": [],
            "source": [
                "%%stata\n",
                "\n",
                "/*Wyniki testu -- okazuje sie ze 2 czyniki nie wystarcza (p-value = 0.0000<0.05)*/\n",
                "//Probujemy z 3 czynnikami\n",
                "\n",
                "factormat C, n(123) names(p1 p2 p3 p4 p5 p6 p7 p8 p9) fac(3) ml\n",
                "\n",
                "/*Na poziomie istotnosci 0,05 brak podstaw do odrzucenia H0 zakladajacej, ze model\n",
                "trzyczynnikowy jest adekwatny (wystarczajacy). p-value 0.1055>0.05*/"
            ]
        },
        {
            "cell_type": "code",
            "execution_count": null,
            "id": "fac579d2-b14b-4edf-8e35-12542bf71dad",
            "metadata": {},
            "outputs": [],
            "source": [
                "fa = FactorAnalyzer(rotation = None, is_corr_matrix = True, n_factors = 3, method = 'ml')\n",
                "fa.fit(C)"
            ]
        },
        {
            "cell_type": "code",
            "execution_count": null,
            "id": "114e4ecf-9c86-4d8f-972e-91a3c94f7541",
            "metadata": {},
            "outputs": [],
            "source": [
                "fa.get_factor_variance()"
            ]
        },
        {
            "cell_type": "code",
            "execution_count": null,
            "id": "6cf19e06-3788-44c8-b866-7fd9f9364e44",
            "metadata": {},
            "outputs": [],
            "source": [
                "fa.get_eigenvalues()"
            ]
        },
        {
            "cell_type": "code",
            "execution_count": null,
            "id": "2c19b8c7-f645-472a-b641-557fdbd8d086",
            "metadata": {},
            "outputs": [],
            "source": [
                "pd.Series(fa.get_eigenvalues()[1]).plot()"
            ]
        },
        {
            "cell_type": "code",
            "execution_count": null,
            "id": "c946d1de-2f68-4cd0-8157-9abfe69801b9",
            "metadata": {},
            "outputs": [],
            "source": [
                "nams = [ \"p\" + i for i in list(\"123456789\")]\n",
                "loadings = pd.DataFrame(np.column_stack((fa.loadings_, fa.get_uniquenesses())))\n",
                "loadings.index = nams\n",
                "loadings.columns = [\"Factor1\", \"Factor2\", \"Factor3\", \"uniquenesses\"] \n",
                "loadings"
            ]
        },
        {
            "cell_type": "code",
            "execution_count": null,
            "id": "3e12fe4e",
            "metadata": {},
            "outputs": [],
            "source": [
                "%%stata\n",
                "/*Sprobujemy nadac czynnikom interpretacje. Przeprowadzamy rotacje czynnikow*/\n",
                "rotate, varimax"
            ]
        },
        {
            "cell_type": "code",
            "execution_count": null,
            "id": "5c8b4750-515e-4de4-8af8-8b405feca4e9",
            "metadata": {},
            "outputs": [],
            "source": [
                "fa = FactorAnalyzer(rotation='varimax', is_corr_matrix = True, n_factors = 3, method = 'ml')\n",
                "fa.fit(C)"
            ]
        },
        {
            "cell_type": "code",
            "execution_count": null,
            "id": "022e0b74-ce17-47fb-9f2b-44d41937a461",
            "metadata": {},
            "outputs": [],
            "source": [
                "#GET EIGENVALUES\n",
                "fa.get_uniquenesses(),fa.get_communalities()"
            ]
        },
        {
            "cell_type": "code",
            "execution_count": null,
            "id": "4d3f528e-996d-4b3c-a2c3-7fa7dc49e756",
            "metadata": {},
            "outputs": [],
            "source": [
                "nams = [ \"p\" + i for i in list(\"123456789\")]\n",
                "loadings = pd.DataFrame(np.column_stack((fa.loadings_, fa.get_uniquenesses())))\n",
                "loadings.index = nams\n",
                "loadings.columns = [\"Factor1\", \"Factor2\", \"Factor3\", \"uniquenesses\"] \n",
                "loadings"
            ]
        },
        {
            "cell_type": "code",
            "execution_count": null,
            "id": "0bdd798f-527f-48c7-9922-23490ca7a5bd",
            "metadata": {},
            "outputs": [],
            "source": [
                "fa.rotation_matrix_"
            ]
        },
        {
            "cell_type": "code",
            "execution_count": null,
            "id": "5b166b19-77fc-43f5-85ff-365908907953",
            "metadata": {},
            "outputs": [],
            "source": [
                "np.matmul(fa.rotation_matrix_.T, fa.rotation_matrix_)"
            ]
        },
        {
            "cell_type": "code",
            "execution_count": null,
            "id": "f4a7b9f2-885e-404f-bec8-4eb3000ba251",
            "metadata": {},
            "outputs": [],
            "source": [
                "# https://www.tandfonline.com/doi/abs/10.1080/10705510701301891?journalCode=hsem20"
            ]
        },
        {
            "cell_type": "code",
            "execution_count": null,
            "id": "d0b147ca",
            "metadata": {},
            "outputs": [],
            "source": [
                "%%stata\n",
                "/*pierwszy czynnik - stwierdzenia 1, 3, 4 i 8 - wszystkie zwiazane z lekarzami; mozemy  zinterpretowac jako \"kontrola lekarska bolu\"\n",
                "  drugi czynnik - stwierdzenia 6 i 7 - bol jako wynik wlasnych dzialan\n",
                "  trzeci czynnik - stwierdzenia 2 i 5 - znow bol jako wynik wlasnych dzialan.*/\n",
                "\n",
                "estat smc\n",
                "/*oszacowanie czesci wspólnej ->\"communality\" (jaka czesc zmiennej Xi  jest zwiazana z pozostalymi zmiennymi X)\n",
                "szacowna jako kwadrat wspolczynnika korelacji wielorakiej\n",
                "danej zmiennej z pozostalymi (czyli R2 z regresji tej zmiennej na pozostale)*/\n",
                "\n",
                "estat kmo\n",
                "\n",
                "/*statystyka adekwatnosci proby Kaiser-Meyer-Olkin.\n",
                "Metoda ta polega na porownaniu korelacji i czastkowych korelacji pomiedzy zmiennymi.\n",
                "Gdy korelacja czastkowa jest relatywnie wysoka w stosunku do zwyklej korelacji to KMO jest male,\n",
                "co oznacza ze uzyskanie adekwatnego rozwiazania w przestrzeni malego wymiaru jest niewykonalne.\n",
                "\n",
                "Wielkosci wspolczynnika:\n",
                "0.00 to 0.49 nie do przyjecia\n",
                "0.50 to 0.59 bardzo slaby\n",
                "0.60 to 0.69 slaby\n",
                "0.70 to 0.79 umiarkowany\n",
                "0.80 to 0.89 dobry\n",
                "0.90 to 1.00 znakomity*/\n"
            ]
        },
        {
            "cell_type": "code",
            "execution_count": null,
            "id": "4839275e-2092-4a5e-80e9-362cbce99fcf",
            "metadata": {},
            "outputs": [],
            "source": [
                "# calculate_bartlett_sphericity(C) not for correlation matrix"
            ]
        },
        {
            "cell_type": "code",
            "execution_count": null,
            "id": "44d01513-be7c-4b08-b292-c19dad083990",
            "metadata": {},
            "outputs": [],
            "source": [
                "# calculate_kmo(C) not for correlation matrix"
            ]
        },
        {
            "cell_type": "markdown",
            "id": "d6078e46",
            "metadata": {},
            "source": [
                "### Przyklad 2 -- Indeks kapitalu spolecznego i problemy z analiza czynnikowa"
            ]
        },
        {
            "cell_type": "markdown",
            "id": "acaf4150-ae71-43d1-a509-30b589a372de",
            "metadata": {},
            "source": [
                "#### Probujemy stworzyc indeks kapitalu spolecznego"
            ]
        },
        {
            "cell_type": "markdown",
            "id": "dd0aee94-451d-40ae-b534-fc4d53bd005a",
            "metadata": {},
            "source": [
                "Dane oryginalnie pochodzily z badania World Values Survey"
            ]
        },
        {
            "cell_type": "code",
            "execution_count": null,
            "id": "43507f16-99c6-469f-bcfb-50fc5db4c359",
            "metadata": {},
            "outputs": [],
            "source": [
                "from multidim.datasets import load_indeks_spol\n",
                "F = load_indeks_spol()"
            ]
        },
        {
            "cell_type": "code",
            "execution_count": null,
            "id": "35d74f92-5b9f-4ea5-94fd-076c1122cf86",
            "metadata": {},
            "outputs": [],
            "source": [
                "%%mata -m F\n",
                "st_matrix(\"F\", F)"
            ]
        },
        {
            "cell_type": "code",
            "execution_count": null,
            "id": "5e708caf-a0e8-407c-b4a4-61f6e057beba",
            "metadata": {},
            "outputs": [],
            "source": [
                "%%stata\n",
                "//METODA NAJWIEKSZEJ WIARYGODNOSCI\n",
                "factormat F, n(35312) names(imp_family imp_friends imp_politics imp_church member_dis political_dis trust_family trust_ppers trust_neighbour trust_arel trust_firsttime trust_anation fair conf_church conf_forces conf_press conf_tv conf_labour conf_police conf_courts conf_govern conf_parties conf_parl religion_freq tradition help local) fac(7) ml\n",
                "//za malo"
            ]
        },
        {
            "cell_type": "code",
            "execution_count": null,
            "id": "1fcde1ec-1bd7-4b92-9e6d-34fb18e59a41",
            "metadata": {},
            "outputs": [],
            "source": [
                "nams = [\"imp_family\", \"imp_friends\", \"imp_politics\", \"imp_church\", \"member_dis\", \"political_dis\", \"trust_family\",\n",
                "        \"trust_ppers\", \"trust_neighbour\", \"trust_arel\", \"trust_firsttime\", \"trust_anation\", \"fair\", \"conf_church\",\n",
                "        \"conf_forces\", \"conf_press\", \"conf_tv\", \"conf_labour\", \"conf_police\", \"conf_courts\", \"conf_govern\", \"conf_parties\",\n",
                "        \"conf_parl\", \"religion_freq\", \"tradition\", \"help\", \"local\"]"
            ]
        },
        {
            "cell_type": "code",
            "execution_count": null,
            "id": "60d7a783-7a42-467f-a657-e96aca25fe38",
            "metadata": {},
            "outputs": [],
            "source": [
                "n_factors = 7\n",
                "fa = FactorAnalyzer(rotation=None, is_corr_matrix = True, n_factors = n_factors, method = 'ml')\n",
                "fa.fit(F)\n",
                "loadings = pd.DataFrame(np.column_stack((fa.loadings_, fa.get_uniquenesses())))\n",
                "loadings.index = nams\n",
                "loadings.columns = [ \"Factor\" + str(i + 1) for i in range(n_factors)] + [\"uniquenesses\"] \n",
                "loadings"
            ]
        },
        {
            "cell_type": "code",
            "execution_count": null,
            "id": "7643a085-d510-4b2c-a1f1-dfb706ab57d0",
            "metadata": {},
            "outputs": [],
            "source": [
                "pd.Series(fa.get_eigenvalues()[1]).plot()"
            ]
        },
        {
            "cell_type": "code",
            "execution_count": null,
            "id": "e4363894-1a9d-4eb5-a5cd-a3bcb23ff77e",
            "metadata": {},
            "outputs": [],
            "source": [
                "%%stata \n",
                "factormat F, n(35312) names(imp_family imp_friends imp_politics imp_church member_dis political_dis trust_family trust_ppers trust_neighbour trust_arel trust_firsttime trust_anation fair conf_church conf_forces conf_press conf_tv conf_labour conf_police conf_courts conf_govern conf_parties conf_parl religion_freq tradition help local) fac(9) ml\n",
                "//HEYWOOD CASE -- negative variance estimate"
            ]
        },
        {
            "cell_type": "code",
            "execution_count": null,
            "id": "1bf940f2-4e0f-4836-8a71-b638d8cb946d",
            "metadata": {},
            "outputs": [],
            "source": [
                "n_factors = 9\n",
                "fa = FactorAnalyzer(rotation=None, is_corr_matrix = True, n_factors = n_factors, method = 'ml')\n",
                "fa.fit(F)\n",
                "loadings = pd.DataFrame(np.column_stack((fa.loadings_, fa.get_uniquenesses())))\n",
                "loadings.index = nams\n",
                "loadings.columns = [ \"Factor\" + str(i + 1) for i in range(n_factors)] + [\"uniquenesses\"] \n",
                "loadings"
            ]
        },
        {
            "cell_type": "markdown",
            "id": "3c002bcf-1fdb-4d6e-85eb-d53269117348",
            "metadata": {},
            "source": [
                "### Analiza czynnikowa (FA) przy wykorzytaniu Analizy głównych składowych (PCA) (optymalizacja)"
            ]
        },
        {
            "cell_type": "code",
            "execution_count": null,
            "id": "9529f72f",
            "metadata": {},
            "outputs": [],
            "source": [
                "#%%stata\n",
                "#factormat F, n(35312) names(imp_family imp_friends imp_politics imp_church member_dis political_dis trust_family trust_ppers trust_neighbour trust_arel trust_firsttime trust_anation fair conf_church conf_forces conf_press conf_tv conf_labour conf_police conf_courts conf_govern conf_parties conf_parl religion_freq tradition help local) fac(4) pcf\n",
                "#//za malo\n",
                "#\n",
                "#factormat F, n(35312) names(imp_family imp_friends imp_politics imp_church member_dis political_dis trust_family trust_ppers trust_neighbour trust_arel trust_firsttime trust_anation fair conf_church conf_forces conf_press conf_tv conf_labour conf_police conf_courts conf_govern conf_parties conf_parl religion_freq tradition help local) fac(27) pcf\n",
                "#//tez nie"
            ]
        },
        {
            "cell_type": "code",
            "execution_count": null,
            "id": "a69f19ab-2eb3-4559-a12f-7068e4887f60",
            "metadata": {},
            "outputs": [],
            "source": [
                "# n_factors = 10\n",
                "# fa = FactorAnalyzer(rotation=None, is_corr_matrix = True, n_factors = n_factors, method = 'principal')\n",
                "# fa.fit(F)\n",
                "# loadings = pd.DataFrame(np.column_stack((fa.loadings_, fa.get_uniquenesses())))\n",
                "# loadings.index = nams\n",
                "# loadings.columns = [ \"Factor\" + str(i + 1) for i in range(n_factors)] + [\"uniquenesses\"] \n",
                "# loadings"
            ]
        },
        {
            "cell_type": "markdown",
            "id": "f5549f40",
            "metadata": {},
            "source": [
                "## Przyklad 3 - Scores"
            ]
        },
        {
            "cell_type": "code",
            "execution_count": null,
            "id": "253695bd",
            "metadata": {},
            "outputs": [],
            "source": [
                "import pandas as pd\n",
                "import matplotlib.pyplot as plt\n",
                "import numpy as np\n",
                "from sklearn.decomposition import FactorAnalysis\n",
                "from sklearn.preprocessing import StandardScaler, scale\n",
                "from scipy.stats import rankdata\n",
                "\n",
                "from factor_analyzer import FactorAnalyzer\n",
                "from factor_analyzer.factor_analyzer import calculate_bartlett_sphericity\n",
                "from factor_analyzer.factor_analyzer import calculate_kmo"
            ]
        },
        {
            "cell_type": "code",
            "execution_count": null,
            "id": "7dcf1d83",
            "metadata": {},
            "outputs": [],
            "source": [
                "from multidim.datasets import load_seul1988\n",
                "seul1988 = load_seul1988()\n",
                "seul1988 = seul1988.sample(seul1988.shape[0])\n",
                "seul1988 = seul1988.query(\"wynik >= 6000\")\n",
                "seul1988[\"Subject\"] = list(range(1, seul1988.shape[0]+1, 1))\n",
                "seul1988_copy = seul1988.copy()"
            ]
        },
        {
            "cell_type": "code",
            "execution_count": null,
            "id": "0d6c9a4d",
            "metadata": {},
            "outputs": [],
            "source": [
                "\n",
                "seul1988 = seul1988[~np.isnan(seul1988).any(axis=1)]\n",
                "seul1988_normal = scale(seul1988)\n",
                "fa = FactorAnalysis(n_components = 3, tol = 0.001, svd_method = \"lapack\")\n",
                "X = seul1988_normal[:, :-2]\n",
                "fa.fit(X)"
            ]
        },
        {
            "cell_type": "code",
            "execution_count": null,
            "id": "24b90c06",
            "metadata": {},
            "outputs": [],
            "source": [
                "comps = fa.transform(X)"
            ]
        },
        {
            "cell_type": "markdown",
            "id": "14d23f7a",
            "metadata": {},
            "source": [
                "Interpretacja dla kazdego czynnika ..."
            ]
        },
        {
            "cell_type": "code",
            "execution_count": null,
            "id": "dce0cffe",
            "metadata": {},
            "outputs": [],
            "source": [
                "cc = corr_mat(comps, seul1988.iloc[:, :-2]).T\n",
                "cc"
            ]
        },
        {
            "cell_type": "markdown",
            "id": "13871178",
            "metadata": {},
            "source": [
                "Jest duzo roznych metod budowania rankingu."
            ]
        },
        {
            "cell_type": "code",
            "execution_count": null,
            "id": "aa4ac1f8",
            "metadata": {},
            "outputs": [],
            "source": [
                "scores1a = comps[:,0]\n",
                "order1a = rankdata(scores1a, \"max\")"
            ]
        },
        {
            "cell_type": "code",
            "execution_count": null,
            "id": "fbec394e",
            "metadata": {},
            "outputs": [],
            "source": [
                "scores1b = comps.sum(axis = 1)\n",
                "order1b = rankdata(scores1b, \"max\")"
            ]
        },
        {
            "cell_type": "code",
            "execution_count": null,
            "id": "7a01aae5",
            "metadata": {},
            "outputs": [],
            "source": [
                "scores2 = fa.score_samples(X)\n",
                "order2 = rankdata(scores2, \"max\")"
            ]
        },
        {
            "cell_type": "code",
            "execution_count": null,
            "id": "4a6e13b2",
            "metadata": {},
            "outputs": [],
            "source": [
                "fa2 = FactorAnalysis(n_components = 1, tol = 0.001, svd_method = \"lapack\")\n",
                "fa2.fit(X)\n",
                "comps = fa2.transform(X)\n",
                "scores1c = comps.ravel()\n",
                "order1c = rankdata(scores1c, \"max\")"
            ]
        },
        {
            "cell_type": "code",
            "execution_count": null,
            "id": "5440c686",
            "metadata": {},
            "outputs": [],
            "source": [
                "res = pd.DataFrame({\n",
                "    'subject': seul1988['Subject'],\n",
                "    'wynik': seul1988['wynik'], \n",
                "    'scores_one': scores1c,\n",
                "    'rank_one': order1c,\n",
                "    'scores_first': scores1a,\n",
                "    'rank_first': order1a,\n",
                "    'scores_sum': scores1b,\n",
                "    'rank_sum': order1b,\n",
                "    'scores_loglike': scores2,\n",
                "    'rank_loglike': order2\n",
                "})\n",
                "res['rank_wynik'] = rankdata(res[\"wynik\"].values, \"max\")\n",
                "res"
            ]
        },
        {
            "cell_type": "markdown",
            "id": "ffa88034",
            "metadata": {},
            "source": [
                "Correlation between different rankings - ABS is needed as we do not know sense (zwrot)"
            ]
        },
        {
            "cell_type": "code",
            "execution_count": null,
            "id": "3aa48fd6",
            "metadata": {},
            "outputs": [],
            "source": [
                "from multidim.funs import corr_mat\n",
                "rank_cols = [\"rank_one\", \"rank_first\", \"rank_sum\", \"rank_loglike\", \"rank_wynik\"]\n",
                "# ABS\n",
                "np.abs(np.corrcoef(res.loc[:,rank_cols].T))[-1,:]"
            ]
        },
        {
            "cell_type": "code",
            "execution_count": null,
            "id": "a777eb20",
            "metadata": {},
            "outputs": [],
            "source": []
        }
    ],
    "metadata": {
        "kernelspec": {
            "display_name": "Python 3 (ipykernel)",
            "language": "python",
            "name": "python3"
        },
        "language_info": {
            "codemirror_mode": {
                "name": "ipython",
                "version": 3
            },
            "file_extension": ".py",
            "mimetype": "text/x-python",
            "name": "python",
            "nbconvert_exporter": "python",
            "pygments_lexer": "ipython3",
            "version": "3.11.4"
        },
        "vscode": {
            "interpreter": {
                "hash": "aa9d594cf5340018b76a70eeac417329866dfddee009818da806e7b1b5f80883"
            }
        }
    },
    "nbformat": 4,
    "nbformat_minor": 5
}