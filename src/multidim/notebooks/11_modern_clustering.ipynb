{
 "cells": [
  {
   "cell_type": "markdown",
   "id": "2a48c727",
   "metadata": {
    "tags": []
   },
   "source": [
    "# Analiza Wielowymiarowa - zajecia 11 - Metody współczesne"
   ]
  },
  {
   "cell_type": "code",
   "execution_count": null,
   "id": "53cb6590",
   "metadata": {},
   "outputs": [],
   "source": [
    "# Do tych zajęć nie ma kodów Staty, metody nie są oprogramowane"
   ]
  },
  {
   "cell_type": "code",
   "execution_count": null,
   "id": "313a653d",
   "metadata": {},
   "outputs": [],
   "source": [
    "# Załadowanie bibliotek\n",
    "import pandas as pd\n",
    "import numpy as np\n",
    "import matplotlib.pyplot as plt\n",
    "import seaborn as sns\n",
    "\n",
    "from sklearn.mixture import GaussianMixture\n",
    "from sklearn.cluster import DBSCAN\n",
    "from sklearn.cluster import KMeans\n",
    "from sklearn import datasets\n",
    "\n",
    "from scipy.linalg import svd\n",
    "\n",
    "from multidim.datasets import load_iris"
   ]
  },
  {
   "cell_type": "code",
   "execution_count": null,
   "id": "c6bfe09c",
   "metadata": {},
   "outputs": [],
   "source": [
    "CAT_COLORS = np.array([\"red\", \"blue\", \"yellow\", \"purple\", \"green\", \"orange\", \"black\", \"pink\", \"brown\", \"gray\", \"cyan\", \"magenta\"])"
   ]
  },
  {
   "cell_type": "code",
   "execution_count": null,
   "id": "f5417c75",
   "metadata": {},
   "outputs": [],
   "source": [
    "np.random.seed(1234)"
   ]
  },
  {
   "cell_type": "markdown",
   "id": "203271d0",
   "metadata": {},
   "source": [
    "### Metody analizy skupień - sklearn\n",
    "\n",
    "Source: https://scikit-learn.org/stable/modules/clustering.html"
   ]
  },
  {
   "cell_type": "markdown",
   "id": "ee457577",
   "metadata": {},
   "source": [
    "<table class=\"docutils align-default\">\n",
    "<colgroup>\n",
    "<col style=\"width: 15.1%\">\n",
    "<col style=\"width: 16.1%\">\n",
    "<col style=\"width: 20.4%\">\n",
    "<col style=\"width: 26.9%\">\n",
    "<col style=\"width: 21.5%\">\n",
    "</colgroup>\n",
    "<thead>\n",
    "<tr class=\"row-odd\"><th class=\"head\"><p>Method name</p></th>\n",
    "<th class=\"head\"><p>Parameters</p></th>\n",
    "<th class=\"head\"><p>Scalability</p></th>\n",
    "<th class=\"head\"><p>Usecase</p></th>\n",
    "<th class=\"head\"><p>Geometry (metric used)</p></th>\n",
    "</tr>\n",
    "</thead>\n",
    "<tbody>\n",
    "<tr class=\"row-even\"><td><p><a class=\"reference internal\" href=\"#k-means\"><span class=\"std std-ref\">K-Means</span></a></p></td>\n",
    "<td><p>number of clusters</p></td>\n",
    "<td><p>Very large <code class=\"docutils literal notranslate\"><span class=\"pre\">n_samples</span></code>, medium <code class=\"docutils literal notranslate\"><span class=\"pre\">n_clusters</span></code> with\n",
    "<a class=\"reference internal\" href=\"#mini-batch-kmeans\"><span class=\"std std-ref\">MiniBatch code</span></a></p></td>\n",
    "<td><p>General-purpose, even cluster size, flat geometry,\n",
    "not too many clusters, inductive</p></td>\n",
    "<td><p>Distances between points</p></td>\n",
    "</tr>\n",
    "<tr class=\"row-odd\"><td><p><a class=\"reference internal\" href=\"#affinity-propagation\"><span class=\"std std-ref\">Affinity propagation</span></a></p></td>\n",
    "<td><p>damping, sample preference</p></td>\n",
    "<td><p>Not scalable with n_samples</p></td>\n",
    "<td><p>Many clusters, uneven cluster size, non-flat geometry, inductive</p></td>\n",
    "<td><p>Graph distance (e.g. nearest-neighbor graph)</p></td>\n",
    "</tr>\n",
    "<tr class=\"row-even\"><td><p><a class=\"reference internal\" href=\"#mean-shift\"><span class=\"std std-ref\">Mean-shift</span></a></p></td>\n",
    "<td><p>bandwidth</p></td>\n",
    "<td><p>Not scalable with <code class=\"docutils literal notranslate\"><span class=\"pre\">n_samples</span></code></p></td>\n",
    "<td><p>Many clusters, uneven cluster size, non-flat geometry, inductive</p></td>\n",
    "<td><p>Distances between points</p></td>\n",
    "</tr>\n",
    "<tr class=\"row-odd\"><td><p><a class=\"reference internal\" href=\"#spectral-clustering\"><span class=\"std std-ref\">Spectral clustering</span></a></p></td>\n",
    "<td><p>number of clusters</p></td>\n",
    "<td><p>Medium <code class=\"docutils literal notranslate\"><span class=\"pre\">n_samples</span></code>, small <code class=\"docutils literal notranslate\"><span class=\"pre\">n_clusters</span></code></p></td>\n",
    "<td><p>Few clusters, even cluster size, non-flat geometry, transductive</p></td>\n",
    "<td><p>Graph distance (e.g. nearest-neighbor graph)</p></td>\n",
    "</tr>\n",
    "<tr class=\"row-even\"><td><p><a class=\"reference internal\" href=\"#hierarchical-clustering\"><span class=\"std std-ref\">Ward hierarchical clustering</span></a></p></td>\n",
    "<td><p>number of clusters or distance threshold</p></td>\n",
    "<td><p>Large <code class=\"docutils literal notranslate\"><span class=\"pre\">n_samples</span></code> and <code class=\"docutils literal notranslate\"><span class=\"pre\">n_clusters</span></code></p></td>\n",
    "<td><p>Many clusters, possibly connectivity constraints, transductive</p></td>\n",
    "<td><p>Distances between points</p></td>\n",
    "</tr>\n",
    "<tr class=\"row-odd\"><td><p><a class=\"reference internal\" href=\"#hierarchical-clustering\"><span class=\"std std-ref\">Agglomerative clustering</span></a></p></td>\n",
    "<td><p>number of clusters or distance threshold, linkage type, distance</p></td>\n",
    "<td><p>Large <code class=\"docutils literal notranslate\"><span class=\"pre\">n_samples</span></code> and <code class=\"docutils literal notranslate\"><span class=\"pre\">n_clusters</span></code></p></td>\n",
    "<td><p>Many clusters, possibly connectivity constraints, non Euclidean\n",
    "distances, transductive</p></td>\n",
    "<td><p>Any pairwise distance</p></td>\n",
    "</tr>\n",
    "<tr class=\"row-even\"><td><p><a class=\"reference internal\" href=\"#dbscan\"><span class=\"std std-ref\">DBSCAN</span></a></p></td>\n",
    "<td><p>neighborhood size</p></td>\n",
    "<td><p>Very large <code class=\"docutils literal notranslate\"><span class=\"pre\">n_samples</span></code>, medium <code class=\"docutils literal notranslate\"><span class=\"pre\">n_clusters</span></code></p></td>\n",
    "<td><p>Non-flat geometry, uneven cluster sizes, outlier removal,\n",
    "transductive</p></td>\n",
    "<td><p>Distances between nearest points</p></td>\n",
    "</tr>\n",
    "<tr class=\"row-odd\"><td><p><a class=\"reference internal\" href=\"#optics\"><span class=\"std std-ref\">OPTICS</span></a></p></td>\n",
    "<td><p>minimum cluster membership</p></td>\n",
    "<td><p>Very large <code class=\"docutils literal notranslate\"><span class=\"pre\">n_samples</span></code>, large <code class=\"docutils literal notranslate\"><span class=\"pre\">n_clusters</span></code></p></td>\n",
    "<td><p>Non-flat geometry, uneven cluster sizes, variable cluster density,\n",
    "outlier removal, transductive</p></td>\n",
    "<td><p>Distances between points</p></td>\n",
    "</tr>\n",
    "<tr class=\"row-even\"><td><p><a class=\"reference internal\" href=\"mixture.html#mixture\"><span class=\"std std-ref\">Gaussian mixtures</span></a></p></td>\n",
    "<td><p>many</p></td>\n",
    "<td><p>Not scalable</p></td>\n",
    "<td><p>Flat geometry, good for density estimation, inductive</p></td>\n",
    "<td><p>Mahalanobis distances to  centers</p></td>\n",
    "</tr>\n",
    "<tr class=\"row-odd\"><td><p><a class=\"reference internal\" href=\"#birch\"><span class=\"std std-ref\">BIRCH</span></a></p></td>\n",
    "<td><p>branching factor, threshold, optional global clusterer.</p></td>\n",
    "<td><p>Large <code class=\"docutils literal notranslate\"><span class=\"pre\">n_clusters</span></code> and <code class=\"docutils literal notranslate\"><span class=\"pre\">n_samples</span></code></p></td>\n",
    "<td><p>Large dataset, outlier removal, data reduction, inductive</p></td>\n",
    "<td><p>Euclidean distance between points</p></td>\n",
    "</tr>\n",
    "<tr class=\"row-even\"><td><p><a class=\"reference internal\" href=\"#bisect-k-means\"><span class=\"std std-ref\">Bisecting K-Means</span></a></p></td>\n",
    "<td><p>number of clusters</p></td>\n",
    "<td><p>Very large <code class=\"docutils literal notranslate\"><span class=\"pre\">n_samples</span></code>, medium <code class=\"docutils literal notranslate\"><span class=\"pre\">n_clusters</span></code></p></td>\n",
    "<td><p>General-purpose, even cluster size, flat geometry,\n",
    "no empty clusters, inductive, hierarchical</p></td>\n",
    "<td><p>Distances between points</p></td>\n",
    "</tr>\n",
    "</tbody>\n",
    "</table>"
   ]
  },
  {
   "cell_type": "markdown",
   "id": "d8a21aec",
   "metadata": {},
   "source": [
    "![](https://scikit-learn.org/stable/_images/sphx_glr_plot_cluster_comparison_001.png)"
   ]
  },
  {
   "cell_type": "markdown",
   "id": "88ca1629",
   "metadata": {},
   "source": [
    "### Skoncentrujemy sie na metodach GMM oraz DBSCAN. W tym celu wykorzystamy zbiór danych Iris oraz okregow."
   ]
  },
  {
   "cell_type": "markdown",
   "id": "dc2529d7",
   "metadata": {},
   "source": [
    "### 1-D Example Data"
   ]
  },
  {
   "cell_type": "markdown",
   "id": "7be06648",
   "metadata": {},
   "source": [
    "- Czym są etykiety miekkie (soft) oraz twarde (hard)?\n",
    "- Kiedy mowimy o latent variable (zmienna ukryta)? Zmienna ukryta - której nie można bezpośrednio zaobserwować, ale można ją wywnioskować z obserwowanych zmiennych i parametrów.\n"
   ]
  },
  {
   "cell_type": "code",
   "execution_count": null,
   "id": "7c8125ef",
   "metadata": {},
   "outputs": [],
   "source": [
    "A = np.random.normal(size = 100, loc = 0, scale = 1)\n",
    "B = np.random.normal(size = 100, loc = 5, scale = 2)"
   ]
  },
  {
   "cell_type": "markdown",
   "id": "6157574e",
   "metadata": {},
   "source": [
    "Wykres danych przy zalożeniu że znane są ich etykiety:"
   ]
  },
  {
   "cell_type": "code",
   "execution_count": null,
   "id": "760237e3",
   "metadata": {},
   "outputs": [],
   "source": [
    "import matplotlib.pyplot as plt\n",
    "plt.figure()\n",
    "plt.plot(A, np.zeros(100), \"o\", c = \"red\", alpha = 0.2)\n",
    "plt.plot(B, np.zeros(100), \"o\", c = \"blue\", alpha = 0.2)\n",
    "plt.yticks([])\n",
    "plt.show()\n"
   ]
  },
  {
   "cell_type": "code",
   "execution_count": null,
   "id": "492688a1",
   "metadata": {},
   "outputs": [],
   "source": [
    "sns.set_style('whitegrid')\n",
    "sns.kdeplot(A, bw_method=0.5, c = \"red\")\n",
    "sns.kdeplot(B, bw_method=0.5, c = \"blue\")"
   ]
  },
  {
   "cell_type": "markdown",
   "id": "32d89829",
   "metadata": {},
   "source": [
    "Wykres danych przy zalożeniu że nieznane są ich etykiety:"
   ]
  },
  {
   "cell_type": "code",
   "execution_count": null,
   "id": "e57b5396",
   "metadata": {},
   "outputs": [],
   "source": [
    "import matplotlib.pyplot as plt\n",
    "plt.figure()\n",
    "plt.plot(A, np.zeros(100), \"o\", c = \"black\", alpha = 0.2)\n",
    "plt.plot(B, np.zeros(100), \"o\", c = \"black\", alpha = 0.2)\n",
    "plt.yticks([])\n",
    "plt.show()"
   ]
  },
  {
   "cell_type": "code",
   "execution_count": null,
   "id": "1c44a0c9",
   "metadata": {},
   "outputs": [],
   "source": [
    "sns.kdeplot(np.concatenate([A, B]), bw_method=0.5)"
   ]
  },
  {
   "cell_type": "markdown",
   "id": "f041b0c3",
   "metadata": {},
   "source": [
    "### Iris Data"
   ]
  },
  {
   "cell_type": "code",
   "execution_count": null,
   "id": "e1a38926",
   "metadata": {},
   "outputs": [],
   "source": [
    "iris = load_iris()"
   ]
  },
  {
   "cell_type": "code",
   "execution_count": null,
   "id": "33d9315f",
   "metadata": {},
   "outputs": [],
   "source": [
    "g = sns.PairGrid(iris, hue=\"Species\")\n",
    "g.map_diag(sns.histplot)\n",
    "g.map_offdiag(sns.scatterplot)\n",
    "g.add_legend()"
   ]
  },
  {
   "cell_type": "markdown",
   "id": "864e43ae",
   "metadata": {},
   "source": [
    "Standaryzacja danych oraz redukcja wymiaru do 2D."
   ]
  },
  {
   "cell_type": "code",
   "execution_count": null,
   "id": "660b8255",
   "metadata": {},
   "outputs": [],
   "source": [
    "iris_x = iris.iloc[:, 0:4].values\n",
    "iris_x = (iris_x - iris_x.mean(axis = 0)) / iris_x.std(axis = 0)\n",
    "iris_y = iris.iloc[:, 4].values\n",
    "iris_svd = np.linalg.svd(iris_x, full_matrices = False)\n",
    "iris_x_pca =  np.matmul(iris_x, iris_svd[2])\n",
    "iris_x_pca_x = iris_x_pca[:, 0]\n",
    "iris_x_pca_y = iris_x_pca[:, 1]"
   ]
  },
  {
   "cell_type": "markdown",
   "id": "33941348",
   "metadata": {},
   "source": [
    "Wykres danych przy zalożeniu że znane są ich etykiety:"
   ]
  },
  {
   "cell_type": "code",
   "execution_count": null,
   "id": "fef4c946",
   "metadata": {},
   "outputs": [],
   "source": [
    "c = pd.Series(iris_y).map({\"setosa\": 0, \"versicolor\": 1, \"virginica\": 2}).values\n",
    "plt.scatter(iris_x_pca_x, iris_x_pca_y, s=10, color = np.array([\"red\", \"blue\", \"yellow\"])[c])"
   ]
  },
  {
   "cell_type": "code",
   "execution_count": null,
   "id": "50e3ffef",
   "metadata": {},
   "outputs": [],
   "source": [
    "for ir in range(3):\n",
    "    sns.kdeplot(x = iris_x_pca_x[c == ir], y = iris_x_pca_y[c == ir], bw_method=0.5, color = CAT_COLORS[ir])"
   ]
  },
  {
   "cell_type": "markdown",
   "id": "277990bf",
   "metadata": {},
   "source": [
    "Wykres danych przy zalożeniu że nieznane są ich etykiety:"
   ]
  },
  {
   "cell_type": "code",
   "execution_count": null,
   "id": "f81aeb9b",
   "metadata": {},
   "outputs": [],
   "source": [
    "plt.scatter(iris_x_pca_x, iris_x_pca_y, s=10)"
   ]
  },
  {
   "cell_type": "code",
   "execution_count": null,
   "id": "9284a686",
   "metadata": {},
   "outputs": [],
   "source": [
    "for ir in range(3):\n",
    "    sns.kdeplot(x = iris_x_pca_x, y = iris_x_pca_y, bw_method=0.5)"
   ]
  },
  {
   "cell_type": "markdown",
   "id": "7f72aebb",
   "metadata": {},
   "source": [
    "## K-means - irysy\n"
   ]
  },
  {
   "cell_type": "code",
   "execution_count": null,
   "id": "dc04e6af",
   "metadata": {},
   "outputs": [],
   "source": [
    "from sklearn.cluster import KMeans\n",
    "kmeans = KMeans(n_clusters=3, random_state=1234)\n",
    "kmeans.fit(iris_x_pca)\n",
    "kmeans_labels = kmeans.predict(iris_x_pca)"
   ]
  },
  {
   "cell_type": "code",
   "execution_count": null,
   "id": "e0de960d",
   "metadata": {},
   "outputs": [],
   "source": [
    "# plot the cluster assignments and cluster centers\n",
    "plt.scatter(iris_x_pca_x, iris_x_pca_y, c=kmeans_labels, s=10, cmap='viridis')"
   ]
  },
  {
   "cell_type": "markdown",
   "id": "d82ed0bc",
   "metadata": {},
   "source": [
    "## GMM - Gaussian Mixture Model - irysy"
   ]
  },
  {
   "cell_type": "markdown",
   "id": "f34a8b35",
   "metadata": {},
   "source": [
    "Dla przypomnienia algorytm EM dla GMM jest następujący:\n",
    "\n",
    "1. Wybierz liczbę skupień $K$.\n",
    "2. Wybierz początkowe wartości $\\mu_1, \\ldots, \\mu_K$ oraz $\\Sigma_1, \\ldots, \\Sigma_K$.\n",
    "3. Wykonaj kroki E i M aż do zbieżności."
   ]
  },
  {
   "cell_type": "markdown",
   "id": "1748bdc3",
   "metadata": {},
   "source": [
    "Dla kroku \"Wybierz początkowe wartości $\\mu_1, \\ldots, \\mu_K$ oraz $\\Sigma_1, \\ldots, \\Sigma_K$.\", kluczowe jest podanie właściwej metody inicjalizacji. W bibliotece sklearn możliwe są następujące metody: 'random, 'random_from_data', 'kmeans', 'kmeans++'. Wartości domyślne to 'kmeans'.\n",
    "\n",
    "Opis metod inicjalizacji:\n",
    "\n",
    "  * 'random' - losowe wartości z rozkładu jednostajnego\n",
    "  * 'random_from_data' - losowe wartości z rozkładu jednostajnego z zakresu danych\n",
    "  * 'kmeans' - wykorzystanie algorytmu k-means\n",
    "  * 'kmeans++' - wykorzystanie algorytmu k-means++ - [wybór punktów startowych w sposób zachłanny, tak aby odległość między punktami była jak największa](https://en.wikipedia.org/wiki/K-means%2B%2B)\n"
   ]
  },
  {
   "cell_type": "code",
   "execution_count": null,
   "id": "b0acf880",
   "metadata": {},
   "outputs": [],
   "source": [
    "init_params = ['random', 'random_from_data', 'kmeans', 'k-means++']"
   ]
  },
  {
   "cell_type": "code",
   "execution_count": null,
   "id": "0df9a88c",
   "metadata": {},
   "outputs": [],
   "source": [
    "\n",
    "RANDOM_SEED = 1234\n",
    "fig, ax = plt.subplots(2, 2, sharex='all', sharey='all')\n",
    "for e, init_param in enumerate(init_params):\n",
    "    gm = GaussianMixture(n_components=3, random_state=RANDOM_SEED, verbose = 1, init_params=init_param, ).fit(iris_x_pca)\n",
    "    gm_labels = gm.predict(iris_x_pca)\n",
    "    ax.ravel()[e].scatter(iris_x_pca_x, iris_x_pca_y, s=10, color = CAT_COLORS[gm_labels])\n",
    "    ax.take(e).set_title(init_param)\n",
    "plt.show()"
   ]
  },
  {
   "cell_type": "code",
   "execution_count": null,
   "id": "d075be9e",
   "metadata": {},
   "outputs": [],
   "source": [
    "RANDOM_SEED = 123456\n",
    "\n",
    "fig, ax = plt.subplots(2, 2, sharex='all', sharey='all')\n",
    "for e, init_param in enumerate(init_params):\n",
    "    gm = GaussianMixture(n_components=3, random_state=RANDOM_SEED, verbose = 1, init_params=init_param, ).fit(iris_x_pca)\n",
    "    gm_labels = gm.predict(iris_x_pca)\n",
    "    ax.ravel()[e].scatter(iris_x_pca_x, iris_x_pca_y, s=10, color = CAT_COLORS[gm_labels])\n",
    "    ax.take(e).set_title(init_param)\n",
    "plt.show()"
   ]
  },
  {
   "cell_type": "markdown",
   "id": "ffec011b",
   "metadata": {},
   "source": [
    "GMM bazujace na k-means dla inicjalizacji"
   ]
  },
  {
   "cell_type": "code",
   "execution_count": null,
   "id": "b79fdf51",
   "metadata": {},
   "outputs": [],
   "source": [
    "gm = GaussianMixture(n_components=3, random_state=1234, verbose = 1, init_params=\"kmeans\").fit(iris_x_pca)\n",
    "gm_labels = gm.predict(iris_x_pca)\n",
    "g = sns.PairGrid(pd.DataFrame({'PC1': iris_x_pca[:, 0], 'PC2': iris_x_pca[:, 1], 'labels': gm_labels}), hue='labels')\n",
    "g.map_upper(sns.scatterplot)\n",
    "g.map_lower(sns.kdeplot)\n",
    "g.map_diag(sns.kdeplot, lw=3, legend=False)"
   ]
  },
  {
   "cell_type": "markdown",
   "id": "bf198b4b",
   "metadata": {},
   "source": [
    "soft labels - prawdopodobieństwo przynależności do danej grupy dla kazdej obserwacji w modelu GMM"
   ]
  },
  {
   "cell_type": "code",
   "execution_count": null,
   "id": "fe1e35e6",
   "metadata": {},
   "outputs": [],
   "source": [
    "pd.DataFrame(np.round(gm.predict_proba(iris_x_pca), 3), columns = ['Prob1','Prob2','Prob3']).\\\n",
    "    assign(obs = list(range(iris.shape[0]))).\\\n",
    "    sample(10, random_state = 1234).\\\n",
    "    sort_values(by = 'obs')"
   ]
  },
  {
   "cell_type": "markdown",
   "id": "b513345a",
   "metadata": {},
   "source": [
    "GMM bazujace na losowym mechanizmie dla inicjalizacji"
   ]
  },
  {
   "cell_type": "code",
   "execution_count": null,
   "id": "82c6f557",
   "metadata": {},
   "outputs": [],
   "source": [
    "gm = GaussianMixture(n_components=3, random_state=1234, verbose = 1, init_params=\"random\").fit(iris_x_pca)\n",
    "gm_labels = gm.predict(iris_x_pca)\n",
    "g = sns.PairGrid(pd.DataFrame({'PC1': iris_x_pca[:, 0], 'PC2': iris_x_pca[:, 1], 'labels': gm_labels}), hue='labels')\n",
    "g.map_upper(sns.scatterplot)\n",
    "g.map_lower(sns.kdeplot)\n",
    "g.map_diag(sns.kdeplot, lw=3, legend=False)"
   ]
  },
  {
   "cell_type": "markdown",
   "id": "1477d7b8",
   "metadata": {},
   "source": [
    "Macierz kowariancji w GMM moze byc:\n",
    "\n",
    "  * diagonalna - macierz kowariancji jest macierza diagonalna\n",
    "  * pelna - macierz kowariancji jest macierza pelna\n",
    "  * diagonalna z ograniczeniami - macierz kowariancji jest macierza diagonalna z ograniczeniami na wartosci na diagonie\n",
    "  * pelna z ograniczeniami - macierz kowariancji jest macierza pelna z ograniczeniami na wartosci na diagonie"
   ]
  },
  {
   "cell_type": "code",
   "execution_count": null,
   "id": "e19da1f6",
   "metadata": {},
   "outputs": [],
   "source": [
    "# https://scikit-learn.org/stable/auto_examples/mixture/plot_gmm_covariances.html\n",
    "# covariances types: full, tied, diag, spherical"
   ]
  },
  {
   "cell_type": "markdown",
   "id": "789be179",
   "metadata": {},
   "source": [
    "![](https://scikit-learn.org/stable/_images/sphx_glr_plot_gmm_covariances_001.png)\n"
   ]
  },
  {
   "cell_type": "markdown",
   "id": "723e407c",
   "metadata": {},
   "source": [
    "## DBSCAN - irysy"
   ]
  },
  {
   "cell_type": "markdown",
   "id": "842d9509",
   "metadata": {},
   "source": [
    "Dla przypomnienia DBSCAN wymaga podania dwóch głownych parametrów: eps oraz min_samples. \n",
    "\n",
    "- eps określa maksymalną odległość między punktami, aby zostały uznane za sąsiadów. \n",
    "- min_samples określa minimalną liczbę punktów w sąsiedztwie punktu, aby został uznany za punkt centralny. Punkty, które nie spełniają tych warunków, są uznawane za szum.\n",
    "\n",
    "oraz dodatkowych jak:\n",
    "\n",
    "- metric - metryka odległościowa, domyślnie euklidesowa\n",
    "\n",
    "\n",
    "Nie ma koniecznosci podania liczby klastrow."
   ]
  },
  {
   "cell_type": "code",
   "execution_count": null,
   "id": "d8f03dbf",
   "metadata": {},
   "outputs": [],
   "source": [
    "EPS = 1\n",
    "MIN_SAMPLES = 5"
   ]
  },
  {
   "cell_type": "code",
   "execution_count": null,
   "id": "92beb979",
   "metadata": {},
   "outputs": [],
   "source": [
    "dbscan = DBSCAN(eps=EPS, min_samples=MIN_SAMPLES, ).fit(iris_x_pca)\n",
    "dbscan_labels = dbscan.labels_"
   ]
  },
  {
   "cell_type": "code",
   "execution_count": null,
   "id": "056d6f66",
   "metadata": {},
   "outputs": [],
   "source": [
    "dbscan_labels_unique = np.unique(dbscan_labels)\n",
    "assert len(dbscan_labels_unique) == 3\n",
    "print(dbscan_labels_unique)"
   ]
  },
  {
   "cell_type": "code",
   "execution_count": null,
   "id": "6f69d33e",
   "metadata": {},
   "outputs": [],
   "source": [
    "plt.scatter(iris_x_pca_x, iris_x_pca_y, s=10, color = CAT_COLORS[dbscan_labels + 1])"
   ]
  },
  {
   "cell_type": "markdown",
   "id": "5bfcb521",
   "metadata": {},
   "source": [
    "## Example - Circles data"
   ]
  },
  {
   "cell_type": "code",
   "execution_count": null,
   "id": "18f0056c",
   "metadata": {},
   "outputs": [],
   "source": [
    "n_samples = 500\n",
    "noisy_circles_x, noisy_circles_y = datasets.make_circles(n_samples=n_samples, factor=0.5, noise=0.05)\n",
    "plt.scatter(noisy_circles_x[:, 0], noisy_circles_x[:, 1], s=10, color = CAT_COLORS[noisy_circles_y])"
   ]
  },
  {
   "cell_type": "markdown",
   "id": "478cc10f",
   "metadata": {},
   "source": [
    "### K-Means - circles"
   ]
  },
  {
   "cell_type": "code",
   "execution_count": null,
   "id": "e68bc969",
   "metadata": {},
   "outputs": [],
   "source": [
    "kmeans = KMeans(n_clusters=2, random_state=1234).fit(noisy_circles_x)\n",
    "kmeans_labels = kmeans.predict(noisy_circles_x)\n",
    "plt.scatter(noisy_circles_x[:, 0], noisy_circles_x[:, 1], s=10, color = CAT_COLORS[kmeans_labels])"
   ]
  },
  {
   "cell_type": "markdown",
   "id": "53ca57e3",
   "metadata": {},
   "source": [
    "### GMM - circles"
   ]
  },
  {
   "cell_type": "code",
   "execution_count": null,
   "id": "49938ed7",
   "metadata": {},
   "outputs": [],
   "source": [
    "gm = GaussianMixture(n_components=2, random_state=1234, init_params=\"kmeans\").fit(noisy_circles_x)\n",
    "gm_labels = gm.predict(noisy_circles_x)\n",
    "plt.scatter(noisy_circles_x[:, 0], noisy_circles_x[:, 1], s=10, color = CAT_COLORS[gm_labels])"
   ]
  },
  {
   "cell_type": "markdown",
   "id": "507f1afd",
   "metadata": {},
   "source": [
    "### DBSCAN - circles"
   ]
  },
  {
   "cell_type": "markdown",
   "id": "97f74068",
   "metadata": {},
   "source": [
    "**Prosze przetestujcie z innymi wartosciami parametrow eps oraz min_samples.**\n",
    "\n",
    "Łatwo osiągnąć sytuacje, w której otrzymujemy wyniki niezgodne z oczekiwaniami."
   ]
  },
  {
   "cell_type": "code",
   "execution_count": null,
   "id": "59e82d35",
   "metadata": {},
   "outputs": [],
   "source": [
    "EPS = 0.2 # or 0.3 to get 2 clusters\n",
    "MIN_SAMPLES = 10 # or 30 to get 2 clusters"
   ]
  },
  {
   "cell_type": "code",
   "execution_count": null,
   "id": "ae78ee4a",
   "metadata": {},
   "outputs": [],
   "source": [
    "\n",
    "dbscan = DBSCAN(eps=EPS, min_samples=MIN_SAMPLES, ).fit(noisy_circles_x)\n",
    "dbscan_labels = dbscan.labels_"
   ]
  },
  {
   "cell_type": "code",
   "execution_count": null,
   "id": "4cbc6048",
   "metadata": {},
   "outputs": [],
   "source": [
    "dbscan_labels_unique = np.unique(dbscan_labels)\n",
    "print(dbscan_labels_unique)\n",
    "plt.scatter(noisy_circles_x[:, 0], noisy_circles_x[:, 1], s=10, color = CAT_COLORS[dbscan_labels + 1])"
   ]
  },
  {
   "cell_type": "code",
   "execution_count": null,
   "id": "5ca24657",
   "metadata": {},
   "outputs": [],
   "source": [
    "# OPTICS"
   ]
  }
 ],
 "metadata": {
  "kernelspec": {
   "display_name": "Python 3 (ipykernel)",
   "language": "python",
   "name": "python3"
  },
  "language_info": {
   "codemirror_mode": {
    "name": "ipython",
    "version": 3
   },
   "file_extension": ".py",
   "mimetype": "text/x-python",
   "name": "python",
   "nbconvert_exporter": "python",
   "pygments_lexer": "ipython3",
   "version": "3.11.4"
  },
  "vscode": {
   "interpreter": {
    "hash": "a8685faa0ed749449a0f1a8710c4e7cd8c1c7833bc8ac4d1844d25fbee35609f"
   }
  }
 },
 "nbformat": 4,
 "nbformat_minor": 5
}
