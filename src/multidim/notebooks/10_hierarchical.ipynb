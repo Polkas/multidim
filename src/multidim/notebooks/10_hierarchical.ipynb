{
 "cells": [
  {
   "cell_type": "markdown",
   "id": "d8927acb",
   "metadata": {},
   "source": [
    "# Analiza Wielowymiarowa - zajecia 10 - Hierarchiczna analiza skupień"
   ]
  },
  {
   "cell_type": "code",
   "execution_count": null,
   "id": "b64e6d7f-c1c6-4248-8d3e-d51600c69de1",
   "metadata": {},
   "outputs": [],
   "source": [
    "from multidim.utils import resolve_stata, load_stata\n",
    "\n",
    "STATA_PATH, STATA_TYPE = resolve_stata(version = 17, stype = \"se\")\n",
    "# make sure they are proper ones\n",
    "STATA_PATH, STATA_TYPE"
   ]
  },
  {
   "cell_type": "code",
   "execution_count": null,
   "id": "1bf9afd9-feeb-41c4-ae20-d620098eb810",
   "metadata": {
    "tags": []
   },
   "outputs": [],
   "source": [
    "load_stata(STATA_PATH, STATA_TYPE)"
   ]
  },
  {
   "cell_type": "code",
   "execution_count": null,
   "id": "086775bb",
   "metadata": {},
   "outputs": [],
   "source": [
    "import pandas as pd\n",
    "import scipy\n",
    "import sklearn\n",
    "import numpy as np\n",
    "from matplotlib import pyplot as plt\n",
    "from sklearn.cluster import AgglomerativeClustering\n",
    "from multidim.funs import plot_dendrogram"
   ]
  },
  {
   "cell_type": "markdown",
   "id": "a8aecafd",
   "metadata": {},
   "source": [
    "### Przykład 1."
   ]
  },
  {
   "cell_type": "markdown",
   "id": "02066827",
   "metadata": {},
   "source": [
    "Dane i przykład zostały pożyczone z podręcznika  \n",
    "Sophia Rabe-Hesketh i Brian Everitt  \n",
    "\"A Handobook of Statistical Analyses using Stata\"  \n",
    "Dane dotyczą czaszek ludzkich znalezionych w Tybecie"
   ]
  },
  {
   "cell_type": "markdown",
   "id": "584ddf05",
   "metadata": {},
   "source": [
    "Zaladowanie danych"
   ]
  },
  {
   "cell_type": "code",
   "execution_count": null,
   "id": "661c57a2",
   "metadata": {},
   "outputs": [],
   "source": [
    "from multidim.datasets import load_tibetan\n",
    "tibetan = load_tibetan()\n",
    "tibetan_copy = tibetan.copy()"
   ]
  },
  {
   "cell_type": "markdown",
   "id": "db270bf6",
   "metadata": {},
   "source": [
    "Opis zbioru danych"
   ]
  },
  {
   "cell_type": "code",
   "execution_count": null,
   "id": "fa7313eb",
   "metadata": {},
   "outputs": [],
   "source": [
    "%%stata -d tibetan_copy\n",
    "des\n",
    "sum"
   ]
  },
  {
   "cell_type": "code",
   "execution_count": null,
   "id": "dfba72d0-aa13-44c5-be5f-ebf713eb0fc1",
   "metadata": {},
   "outputs": [],
   "source": [
    "tibetan.describe().T"
   ]
  },
  {
   "cell_type": "markdown",
   "id": "0da5eec6",
   "metadata": {},
   "source": [
    "Zmienne sa mierzone w identycznych jednostkach (mm)\n",
    "Nie ma potrzeby standaryzacji wartosci zmiennych\n"
   ]
  },
  {
   "cell_type": "markdown",
   "id": "84efa24f",
   "metadata": {},
   "source": [
    "#### Metoda pojedynczego wiazania"
   ]
  },
  {
   "cell_type": "code",
   "execution_count": null,
   "id": "4b31db9e",
   "metadata": {},
   "outputs": [],
   "source": [
    "# %stata help cluster"
   ]
  },
  {
   "cell_type": "code",
   "execution_count": null,
   "id": "8fbeaa1d",
   "metadata": {},
   "outputs": [],
   "source": [
    "%%stata\n",
    "cluster singlelinkage length breadth height upper face, name(pojedyncze)\n",
    "cluster dendrogram"
   ]
  },
  {
   "cell_type": "code",
   "execution_count": null,
   "id": "628fb2fc-ddfc-4c26-bd15-c5a7ec3ff638",
   "metadata": {},
   "outputs": [],
   "source": [
    "model_base = AgglomerativeClustering(distance_threshold=0, n_clusters=None, linkage = \"single\")\n",
    "model = model_base.fit(tibetan[[\"length\", \"breadth\", \"height\", \"upper\", \"face\"]])\n",
    "plt.title(\"Hierarchical Clustering Dendrogram - single\")\n",
    "# Default dendogram, looks quite similar to default STATA\n",
    "plot_dendrogram(model)\n",
    "plt.xlabel(\"Number of points in node (or index of point if no parenthesis).\")\n",
    "plt.show()"
   ]
  },
  {
   "cell_type": "markdown",
   "id": "5b72dbc0",
   "metadata": {},
   "source": [
    "#### Metoda pelnego wiazania"
   ]
  },
  {
   "cell_type": "code",
   "execution_count": null,
   "id": "eee5da66",
   "metadata": {},
   "outputs": [],
   "source": [
    "%%stata\n",
    "cluster completelinkage length breadth height upper face, name(pelne)\n",
    "cluster dendrogram"
   ]
  },
  {
   "cell_type": "code",
   "execution_count": null,
   "id": "5caac9a9-7b1f-4a42-a3af-a7df76732c98",
   "metadata": {},
   "outputs": [],
   "source": [
    "model_base = AgglomerativeClustering(distance_threshold=0, n_clusters=None, linkage = \"complete\")\n",
    "model = model_base.fit(tibetan[[\"length\", \"breadth\", \"height\", \"upper\", \"face\"]])\n",
    "plt.title(\"Hierarchical Clustering Dendrogram - complete\")\n",
    "# Default dendogram, looks quite similar to default STATA\n",
    "plot_dendrogram(model)\n",
    "plt.xlabel(\"Number of points in node (or index of point if no parenthesis).\")\n",
    "plt.show()"
   ]
  },
  {
   "cell_type": "markdown",
   "id": "5fb10bfd",
   "metadata": {},
   "source": [
    "Ten dendrogram wskazuje na hierarchiczny charakter danych.\n",
    "Dlugosc pionowych linii (wysokosc) pokazuje roznice miedzy skupieniami, \n",
    "im linie sa dluzsze tym obiekty bardziej roznia sie"
   ]
  },
  {
   "cell_type": "markdown",
   "id": "360346e2",
   "metadata": {},
   "source": [
    "#### Metoda przecietnego wiazania"
   ]
  },
  {
   "cell_type": "code",
   "execution_count": null,
   "id": "8c45ae95",
   "metadata": {},
   "outputs": [],
   "source": [
    "%%stata\n",
    "cluster averagelinkage length breadth height upper face, name(przecietne)\n",
    "cluster dendrogram"
   ]
  },
  {
   "cell_type": "code",
   "execution_count": null,
   "id": "c663a03f-1314-4a92-9127-87ae2d76b3bd",
   "metadata": {},
   "outputs": [],
   "source": [
    "model_base = AgglomerativeClustering(distance_threshold=0, n_clusters=None, linkage = \"average\")\n",
    "model = model_base.fit(tibetan[[\"length\", \"breadth\", \"height\", \"upper\", \"face\"]])\n",
    "plt.title(\"Hierarchical Clustering Dendrogram - average\")\n",
    "# Default dendogram, looks quite similar to default STATA\n",
    "plot_dendrogram(model)\n",
    "plt.xlabel(\"Number of points in node (or index of point if no parenthesis).\")\n",
    "plt.show()"
   ]
  },
  {
   "cell_type": "markdown",
   "id": "978d42a5",
   "metadata": {},
   "source": [
    "#### Metoda medianowego wiazania"
   ]
  },
  {
   "cell_type": "code",
   "execution_count": null,
   "id": "750fcc50",
   "metadata": {},
   "outputs": [],
   "source": [
    "%%stata\n",
    "cluster medianlinkage length breadth height upper face, name(medianowe)"
   ]
  },
  {
   "cell_type": "code",
   "execution_count": null,
   "id": "5b9948a4",
   "metadata": {},
   "outputs": [],
   "source": [
    "%stata cluster list"
   ]
  },
  {
   "cell_type": "markdown",
   "id": "65db283d",
   "metadata": {},
   "source": [
    "#### Metoda Warda"
   ]
  },
  {
   "cell_type": "code",
   "execution_count": null,
   "id": "60f07d6d",
   "metadata": {},
   "outputs": [],
   "source": [
    "%%stata\n",
    "cluster wardslinkage length breadth height upper face, name(Ward)\n",
    "cluster dendrogram"
   ]
  },
  {
   "cell_type": "code",
   "execution_count": null,
   "id": "3069dd4d-6bdd-42fa-a299-4653087c2f9f",
   "metadata": {},
   "outputs": [],
   "source": [
    "model_base = AgglomerativeClustering(distance_threshold=0, n_clusters=None, linkage = \"ward\")\n",
    "model = model_base.fit(tibetan[[\"length\", \"breadth\", \"height\", \"upper\", \"face\"]])\n",
    "plt.title(\"Hierarchical Clustering Dendrogram - ward\")\n",
    "# Default dendogram, looks quite similar to default STATA\n",
    "plot_dendrogram(model)\n",
    "plt.xlabel(\"Number of points in node (or index of point if no parenthesis).\")\n",
    "plt.show()"
   ]
  },
  {
   "cell_type": "markdown",
   "id": "f0f4cd09",
   "metadata": {},
   "source": [
    "Ten dendrogram wskazuje na hierarchiczny charakter danych.\n",
    "Prosze zwrocic uwage ze metoda Warda wykorzystuje inna miare odleglosci"
   ]
  },
  {
   "cell_type": "markdown",
   "id": "58030873",
   "metadata": {},
   "source": [
    "##### Kryterium wyboru optymalnej liczby grup"
   ]
  },
  {
   "cell_type": "markdown",
   "id": "2a5085e9",
   "metadata": {},
   "source": [
    "**Brak kodu python w tej czesci**"
   ]
  },
  {
   "cell_type": "code",
   "execution_count": null,
   "id": "9025a85e-672f-40e9-8b13-22ea2705eef6",
   "metadata": {},
   "outputs": [],
   "source": [
    "%%stata\n",
    "cluster stop pojedyncze, rule(duda)\n",
    "cluster stop pojedyncze, rule(calinski)"
   ]
  },
  {
   "cell_type": "markdown",
   "id": "0e92be8b",
   "metadata": {},
   "source": [
    "Dendrogram dla metody pojedynczego wiazania"
   ]
  },
  {
   "cell_type": "code",
   "execution_count": null,
   "id": "400faa2e",
   "metadata": {},
   "outputs": [],
   "source": [
    "%stata cluster dendrogram pojedyncze "
   ]
  },
  {
   "cell_type": "markdown",
   "id": "cd402f9d",
   "metadata": {},
   "source": [
    "Dendrogram dla metody pojedynczego wiazania ucięty po 6 wezlach, opcja \"showcount\" pokazuję liczbę liści w gałęzi"
   ]
  },
  {
   "cell_type": "code",
   "execution_count": null,
   "id": "e1147833",
   "metadata": {},
   "outputs": [],
   "source": [
    "%stata cluster dendrogram pojedyncze, cutn(6) showcount"
   ]
  },
  {
   "cell_type": "code",
   "execution_count": null,
   "id": "54a8c3e3-0ca5-413a-9a1d-0d98c63aa792",
   "metadata": {},
   "outputs": [],
   "source": [
    "%%stata\n",
    "cluster stop pelne, rule(duda)\n",
    "cluster stop pelne, rule(calinski)"
   ]
  },
  {
   "cell_type": "markdown",
   "id": "9bc78a6d",
   "metadata": {},
   "source": [
    "Dendrogram dla metody pelnego wiazania"
   ]
  },
  {
   "cell_type": "code",
   "execution_count": null,
   "id": "d679b368",
   "metadata": {},
   "outputs": [],
   "source": [
    "%stata cluster dendrogram pelne"
   ]
  },
  {
   "cell_type": "markdown",
   "id": "7915c2c1",
   "metadata": {},
   "source": [
    "Cendrogram dla metody pelnego wiazania ucięty po 3 wezlach"
   ]
  },
  {
   "cell_type": "code",
   "execution_count": null,
   "id": "905931e7",
   "metadata": {},
   "outputs": [],
   "source": [
    "%stata cluster dendrogram pelne, cutn(3) showcount"
   ]
  },
  {
   "cell_type": "code",
   "execution_count": null,
   "id": "0b52ff98-f19f-45e5-b95f-e3be4f436b33",
   "metadata": {},
   "outputs": [],
   "source": [
    "%%stata\n",
    "cluster stop przecietne, rule(duda)\n",
    "cluster stop przecietne, rule(calinski)"
   ]
  },
  {
   "cell_type": "code",
   "execution_count": null,
   "id": "0bd5465b",
   "metadata": {},
   "outputs": [],
   "source": [
    "%%stata\n",
    "cluster stop medianowe, rule(duda)\n",
    "cluster stop medianowe, rule(calinski)"
   ]
  },
  {
   "cell_type": "code",
   "execution_count": null,
   "id": "0d58ccd5",
   "metadata": {},
   "outputs": [],
   "source": [
    "%%stata\n",
    "cluster stop Ward, rule(duda)\n",
    "cluster stop Ward, rule(calinski)"
   ]
  },
  {
   "cell_type": "markdown",
   "id": "a38daf26",
   "metadata": {},
   "source": [
    "Chcemy zobaczyc charakterystyki grup czaszek uzyskanych metoda pelnego wiazania.\n",
    "Tworzymy identyfikatory grup."
   ]
  },
  {
   "cell_type": "code",
   "execution_count": null,
   "id": "baaf9da9",
   "metadata": {},
   "outputs": [],
   "source": [
    "%stata cluster generate grupa = groups(3), name(pelne)"
   ]
  },
  {
   "cell_type": "markdown",
   "id": "4f20e25f",
   "metadata": {},
   "source": [
    "Tablica (tabela) liczebnosci"
   ]
  },
  {
   "cell_type": "code",
   "execution_count": null,
   "id": "691b4c74",
   "metadata": {},
   "outputs": [],
   "source": [
    "%stata tabulate grupa"
   ]
  },
  {
   "cell_type": "markdown",
   "id": "1b4dfe2b",
   "metadata": {},
   "source": [
    "### Przykład 2"
   ]
  },
  {
   "cell_type": "markdown",
   "id": "9faa6e2d",
   "metadata": {},
   "source": [
    "W tym przykladzie wykorzystamy znane juz Panstwu dane dotyczace trzech odmian irysow.\n",
    "Cechy kwiatów to:  \n",
    "- Dlugosc platka [cm] (petal lenght)\n",
    "- Szerokosc platka [cm] (petal width)\n",
    "- Dlugosc listka kielicha [cm]\n",
    "- Szerokosc listka kielicha [cm]\n"
   ]
  },
  {
   "cell_type": "markdown",
   "id": "cf3249f5",
   "metadata": {},
   "source": [
    "Wczytanie zbioru danych"
   ]
  },
  {
   "cell_type": "code",
   "execution_count": null,
   "id": "68483ffd",
   "metadata": {},
   "outputs": [],
   "source": [
    "from multidim.datasets import load_iris"
   ]
  },
  {
   "cell_type": "code",
   "execution_count": null,
   "id": "6cba2610-f2bf-4d38-9514-fd4a8f7df6ad",
   "metadata": {},
   "outputs": [],
   "source": [
    "iris = load_iris()\n",
    "iris.columns = [\"seplen\", \"sepwid\", \"petlen\", \"petwid\", \"iris\"]\n",
    "iris_copy = iris.copy()\n",
    "iris_x = iris.iloc[:,:-1]\n",
    "iris_y = iris.iloc[:,-1]"
   ]
  },
  {
   "cell_type": "markdown",
   "id": "796c0fec",
   "metadata": {},
   "source": [
    "Opis zbioru danych"
   ]
  },
  {
   "cell_type": "code",
   "execution_count": null,
   "id": "913a45f5",
   "metadata": {},
   "outputs": [],
   "source": [
    "%stata clear"
   ]
  },
  {
   "cell_type": "code",
   "execution_count": null,
   "id": "b2329e71",
   "metadata": {},
   "outputs": [],
   "source": [
    "%%stata -d iris_copy\n",
    "des"
   ]
  },
  {
   "cell_type": "markdown",
   "id": "b1cf7f92",
   "metadata": {},
   "source": [
    "Podstawowe statystyki opisowe"
   ]
  },
  {
   "cell_type": "code",
   "execution_count": null,
   "id": "213f5948-661a-4b37-9c55-d25731c40458",
   "metadata": {},
   "outputs": [],
   "source": [
    "%%stata\n",
    "bysort iris: su seplen sepwid petlen petwid "
   ]
  },
  {
   "cell_type": "code",
   "execution_count": null,
   "id": "bbad9a93-8abb-4ce9-95dd-7d3b709934d7",
   "metadata": {},
   "outputs": [],
   "source": [
    "iris_x.groupby(iris_y).describe().T"
   ]
  },
  {
   "cell_type": "markdown",
   "id": "554a3284",
   "metadata": {},
   "source": [
    "Podział metodą pojedynczego wiazania"
   ]
  },
  {
   "cell_type": "code",
   "execution_count": null,
   "id": "2c9142cf",
   "metadata": {},
   "outputs": [],
   "source": [
    "%%stata\n",
    "cluster singlelinkage seplen sepwid petlen petwid , name(pojedyncze)"
   ]
  },
  {
   "cell_type": "code",
   "execution_count": null,
   "id": "7e498702-ea72-4c8f-996b-e1b02280f91c",
   "metadata": {},
   "outputs": [],
   "source": [
    "# Only one of distance_threshold and n_clusters has to be specified\n",
    "model_base = AgglomerativeClustering(distance_threshold=0, n_clusters=None, linkage = \"single\")\n",
    "model = model_base.fit(iris_x)"
   ]
  },
  {
   "cell_type": "markdown",
   "id": "fa113310-7621-4a74-a42a-761dabfee78d",
   "metadata": {},
   "source": [
    "Dla zbioru o wiekszej liczbie obserwacji nie mozna wyswietlic pelnego dendrogramu  \n",
    "przydatne sa opcje:\n",
    "\n",
    "1. cutnumber()           wyswietla okreslona liczbe galezi  \n",
    "2. cutvalue()            wyswietla tylko rozniace sie galezie o zadana wartosc  \n",
    "\n",
    "opcja showcount pokazuje liczbe obserwacji w kazdej galezi"
   ]
  },
  {
   "cell_type": "code",
   "execution_count": null,
   "id": "a742d514",
   "metadata": {},
   "outputs": [],
   "source": [
    "%stata cluster dendrogram, cutnumber(10) showcount"
   ]
  },
  {
   "cell_type": "code",
   "execution_count": null,
   "id": "4b9fc037",
   "metadata": {},
   "outputs": [],
   "source": [
    "%stata cluster dendrogram, cutvalue(0.8) showcount"
   ]
  },
  {
   "cell_type": "markdown",
   "id": "669738f9",
   "metadata": {},
   "source": [
    "W przypadku python-owej funkcji `scipy.cluster.hierarchy.dendrogram` mamy dwie inne opcje:\n",
    "\n",
    "1. lastp - Ostatnie p klastrów niesingletonowych utworzonych w powiązaniu; Powinna dawac wyniki takie jak cutnumber w stata.\n",
    "2. level - Wyświetlanych jest nie więcej niż p poziomów drzewa dendrogramu.\n",
    "\n",
    "Source: [URL](https://docs.scipy.org/doc/scipy/reference/generated/scipy.cluster.hierarchy.dendrogram.html#scipy.cluster.hierarchy.dendrogram)"
   ]
  },
  {
   "cell_type": "code",
   "execution_count": null,
   "id": "419cca43",
   "metadata": {},
   "outputs": [],
   "source": [
    "plot_dendrogram(model, truncate_mode = 'lastp', p = 10)\n"
   ]
  },
  {
   "cell_type": "code",
   "execution_count": null,
   "id": "0932e921",
   "metadata": {},
   "outputs": [],
   "source": [
    "plot_dendrogram(model, truncate_mode = 'level', p = 2)\n"
   ]
  },
  {
   "cell_type": "markdown",
   "id": "0025aaff",
   "metadata": {},
   "source": [
    "Tworzymy identyfikator 3 grup"
   ]
  },
  {
   "cell_type": "code",
   "execution_count": null,
   "id": "a18211d8-6922-4d08-84ac-fd000fc4d1d5",
   "metadata": {},
   "outputs": [],
   "source": [
    "%stata cluster generate gr_single = groups(3), name(pojedyncze)"
   ]
  },
  {
   "cell_type": "code",
   "execution_count": null,
   "id": "90582dfa",
   "metadata": {},
   "outputs": [],
   "source": [
    "model_base = AgglomerativeClustering(distance_threshold=None, n_clusters=3, linkage = \"single\")\n",
    "model = model_base.fit(iris_x)"
   ]
  },
  {
   "cell_type": "markdown",
   "id": "dce07eca",
   "metadata": {},
   "source": [
    "Czy klasyfikacja jest poprawna?"
   ]
  },
  {
   "cell_type": "code",
   "execution_count": null,
   "id": "f18cc1b6",
   "metadata": {},
   "outputs": [],
   "source": [
    "%stata tab iris gr_single"
   ]
  },
  {
   "cell_type": "code",
   "execution_count": null,
   "id": "64c8e307",
   "metadata": {},
   "outputs": [],
   "source": [
    "pd.crosstab(iris_y, model.labels_)"
   ]
  },
  {
   "cell_type": "markdown",
   "id": "92824b31",
   "metadata": {},
   "source": [
    "Sprobujmy przeprowadzadzić analize inna metoda"
   ]
  },
  {
   "cell_type": "code",
   "execution_count": null,
   "id": "62ba5725",
   "metadata": {},
   "outputs": [],
   "source": [
    "model_base = AgglomerativeClustering(distance_threshold=0, n_clusters=None, linkage = \"complete\")\n",
    "model = model_base.fit(iris_x)"
   ]
  },
  {
   "cell_type": "code",
   "execution_count": null,
   "id": "f9214a3b-9000-4430-bf0a-e6961e4ec887",
   "metadata": {},
   "outputs": [],
   "source": [
    "%%stata\n",
    "cluster completelinkage seplen sepwid petlen petwid , name(pelne)\n",
    "cluster dendrogram, cutnumber(10)\n",
    "cluster dendrogram, cutvalue(0.5)"
   ]
  },
  {
   "cell_type": "code",
   "execution_count": null,
   "id": "e994e0a0",
   "metadata": {},
   "outputs": [],
   "source": [
    "plot_dendrogram(model, truncate_mode = 'lastp', p = 10)\n"
   ]
  },
  {
   "cell_type": "code",
   "execution_count": null,
   "id": "088e80f7",
   "metadata": {},
   "outputs": [],
   "source": [
    "plot_dendrogram(model, truncate_mode = 'level', p = 2)"
   ]
  },
  {
   "cell_type": "markdown",
   "id": "42b873cf",
   "metadata": {},
   "source": [
    "Tworzymy identyfikator 3 grup"
   ]
  },
  {
   "cell_type": "code",
   "execution_count": null,
   "id": "47d41771-e7ed-4bd5-80f9-a0a60210b382",
   "metadata": {},
   "outputs": [],
   "source": [
    "%stata cluster generate gr_complete = groups(3), name(pelne)"
   ]
  },
  {
   "cell_type": "code",
   "execution_count": null,
   "id": "5ea4c82f",
   "metadata": {},
   "outputs": [],
   "source": [
    "model_base = AgglomerativeClustering(distance_threshold=None, n_clusters=3, linkage = \"complete\")\n",
    "model = model_base.fit(iris_x)"
   ]
  },
  {
   "cell_type": "markdown",
   "id": "a956d98e",
   "metadata": {},
   "source": [
    "Czy klasyfikacja jest poprawna? Porówujemy klasyfikację z danymi"
   ]
  },
  {
   "cell_type": "code",
   "execution_count": null,
   "id": "9e6c8ac5",
   "metadata": {},
   "outputs": [],
   "source": [
    "%stata tab iris gr_complete"
   ]
  },
  {
   "cell_type": "code",
   "execution_count": null,
   "id": "505e6950",
   "metadata": {},
   "outputs": [],
   "source": [
    "pd.crosstab(iris_y, model.labels_)"
   ]
  },
  {
   "cell_type": "markdown",
   "id": "c060be41",
   "metadata": {},
   "source": [
    "Sprobujmy przeprowadzadzić analize kolejna metoda"
   ]
  },
  {
   "cell_type": "code",
   "execution_count": null,
   "id": "f2249bfe",
   "metadata": {},
   "outputs": [],
   "source": [
    "model_base = AgglomerativeClustering(distance_threshold=0, n_clusters=None, linkage = \"ward\")\n",
    "model = model_base.fit(iris_x)"
   ]
  },
  {
   "cell_type": "code",
   "execution_count": null,
   "id": "d689007b-ff2e-4aa3-9703-b5d0b5b8cc3a",
   "metadata": {},
   "outputs": [],
   "source": [
    "%%stata\n",
    "cluster wardslinkage seplen sepwid petlen petwid , name(ward)\n",
    "cluster dendrogram, cutnumber(10)"
   ]
  },
  {
   "cell_type": "code",
   "execution_count": null,
   "id": "ad533a33",
   "metadata": {},
   "outputs": [],
   "source": [
    "plot_dendrogram(model, truncate_mode = 'lastp', p = 10)"
   ]
  },
  {
   "cell_type": "markdown",
   "id": "234e474f",
   "metadata": {},
   "source": [
    "Tworzymy identyfikator 3 grup"
   ]
  },
  {
   "cell_type": "code",
   "execution_count": null,
   "id": "d00b7b61",
   "metadata": {},
   "outputs": [],
   "source": [
    "model_base = AgglomerativeClustering(distance_threshold=None, n_clusters=3, linkage = \"ward\")\n",
    "model = model_base.fit(iris_x)"
   ]
  },
  {
   "cell_type": "code",
   "execution_count": null,
   "id": "b96d2726",
   "metadata": {},
   "outputs": [],
   "source": [
    "%stata cluster generate gr_ward = groups(3), name(ward)"
   ]
  },
  {
   "cell_type": "markdown",
   "id": "0162da01",
   "metadata": {},
   "source": [
    "Sprawdzamy czy klasyfikacja jest poprawna? Porównujemmy klasyfikację z danymi"
   ]
  },
  {
   "cell_type": "code",
   "execution_count": null,
   "id": "41f5ab1d",
   "metadata": {},
   "outputs": [],
   "source": [
    "%stata tab iris gr_ward"
   ]
  },
  {
   "cell_type": "code",
   "execution_count": null,
   "id": "429061bd",
   "metadata": {},
   "outputs": [],
   "source": [
    "pd.crosstab(iris_y, model.labels_)"
   ]
  },
  {
   "cell_type": "code",
   "execution_count": null,
   "id": "6be565a9",
   "metadata": {},
   "outputs": [],
   "source": []
  }
 ],
 "metadata": {
  "kernelspec": {
   "display_name": "Python 3.10.6 ('.venv': venv)",
   "language": "python",
   "name": "python3"
  },
  "language_info": {
   "codemirror_mode": {
    "name": "ipython",
    "version": 3
   },
   "file_extension": ".py",
   "mimetype": "text/x-python",
   "name": "python",
   "nbconvert_exporter": "python",
   "pygments_lexer": "ipython3",
   "version": "3.10.6"
  },
  "vscode": {
   "interpreter": {
    "hash": "a8685faa0ed749449a0f1a8710c4e7cd8c1c7833bc8ac4d1844d25fbee35609f"
   }
  }
 },
 "nbformat": 4,
 "nbformat_minor": 5
}
