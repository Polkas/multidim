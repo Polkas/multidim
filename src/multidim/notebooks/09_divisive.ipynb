{
 "cells": [
  {
   "cell_type": "markdown",
   "id": "37496774",
   "metadata": {},
   "source": [
    "# Analiza Wielowymiarowa - zajecia 9 - Analiza skupien   "
   ]
  },
  {
   "cell_type": "code",
   "execution_count": null,
   "id": "b03b41f1-d1b9-4552-a29d-c8fd188ad82e",
   "metadata": {},
   "outputs": [],
   "source": [
    "from multidim.utils import resolve_stata, load_stata\n",
    "\n",
    "STATA_PATH, STATA_TYPE = resolve_stata(version = 17, stype = \"se\")\n",
    "# make sure they are proper ones\n",
    "STATA_PATH, STATA_TYPE"
   ]
  },
  {
   "cell_type": "code",
   "execution_count": null,
   "id": "8a22419d",
   "metadata": {},
   "outputs": [],
   "source": [
    "load_stata(STATA_PATH, STATA_TYPE)"
   ]
  },
  {
   "cell_type": "code",
   "execution_count": null,
   "id": "231c7e21",
   "metadata": {},
   "outputs": [],
   "source": [
    "import pandas as pd\n",
    "from sklearn.cluster import KMeans\n",
    "import numpy as np\n",
    "from collections import Counter\n",
    "from collections import defaultdict\n",
    "from sklearn.metrics import calinski_harabasz_score"
   ]
  },
  {
   "cell_type": "markdown",
   "id": "77423cf2",
   "metadata": {},
   "source": [
    "### Przyklad 1"
   ]
  },
  {
   "cell_type": "markdown",
   "id": "5df7ebec",
   "metadata": {},
   "source": [
    "Dane i przyklad zostaly pozyczone z podrecznika  \n",
    "Sophia Rabe-Hesketh i Brian Everitt  \n",
    "\"A Handbook of Statistical Analyses using Stata\".  \n",
    "Dane dotycza miast w Stanach Zjednoczonych Ameryki Polnocnej."
   ]
  },
  {
   "cell_type": "code",
   "execution_count": null,
   "id": "63fd0a4d",
   "metadata": {},
   "outputs": [],
   "source": [
    "%stata set seed 1234"
   ]
  },
  {
   "cell_type": "code",
   "execution_count": null,
   "id": "589cc854",
   "metadata": {},
   "outputs": [],
   "source": [
    "from multidim.datasets import load_uscities"
   ]
  },
  {
   "cell_type": "code",
   "execution_count": null,
   "id": "d4736c1c-817d-4776-9371-a9da8233500e",
   "metadata": {},
   "outputs": [],
   "source": [
    "uscities = load_uscities()\n",
    "uscities_copy = uscities.copy()"
   ]
  },
  {
   "cell_type": "code",
   "execution_count": null,
   "id": "b505c12e",
   "metadata": {},
   "outputs": [],
   "source": [
    "%%stata -d uscities_copy\n",
    "// precipitaion = opady\n",
    "des\n",
    "sum\n",
    "// jak widac kazda zmienna ilosciowa jest mierzona na innej skali.\n",
    "// W celu wyeliminowania wplywu wariancji standaryzujemy zmienne."
   ]
  },
  {
   "cell_type": "markdown",
   "id": "0a4a2bdf",
   "metadata": {},
   "source": [
    "Skalowanie zminnej. Normalizacja, Min-Max"
   ]
  },
  {
   "cell_type": "code",
   "execution_count": null,
   "id": "79c7326d",
   "metadata": {},
   "outputs": [],
   "source": [
    "x_names = [\"so2\", \"temp\", \"manuf\", \"pop\", \"wind\", \"precip\", \"days\"]\n",
    "def z_score(vec):\n",
    "    return (vec - vec.mean()) / vec.std()\n",
    "x_names_s = [c + \"_s\" for c in x_names]\n",
    "uscities[x_names_s] = uscities[x_names].apply(z_score, axis = 0)"
   ]
  },
  {
   "cell_type": "code",
   "execution_count": null,
   "id": "aac15d7f",
   "metadata": {},
   "outputs": [],
   "source": [
    "%%stata\n",
    "foreach zmienna of varlist so2 temp manuf pop wind precip days {\n",
    "    egen `zmienna'_s = std(`zmienna')\n",
    "}"
   ]
  },
  {
   "cell_type": "code",
   "execution_count": null,
   "id": "eccb14da",
   "metadata": {},
   "outputs": [],
   "source": [
    "%stata su"
   ]
  },
  {
   "cell_type": "code",
   "execution_count": null,
   "id": "99952f95-44fd-4384-8e38-2db067cd83f5",
   "metadata": {},
   "outputs": [],
   "source": [
    "uscities.describe().T"
   ]
  },
  {
   "cell_type": "code",
   "execution_count": null,
   "id": "c1265443",
   "metadata": {},
   "outputs": [],
   "source": [
    "%%stata\n",
    "// Nie majac przeslanek do ustalenia liczby skupien przeanalizujemy modele\n",
    "// dla 2 do 6 skupien.\n",
    "\n",
    "// Uruchamiamy generator liczb losowych dla znalezienia poczatkowego rozwiazania.\n",
    "set seed 20150413\n",
    "\n",
    "cluster kmeans so2_s temp_s manuf_s pop_s wind_s precip_s days_s, k(2) name(cl2_mean)\n",
    "cluster kmeans so2_s temp_s manuf_s pop_s wind_s precip_s days_s, k(3) name(cl3_mean)\n",
    "cluster kmeans so2_s temp_s manuf_s pop_s wind_s precip_s days_s, k(4) name(cl4_mean)\n",
    "cluster kmeans so2_s temp_s manuf_s pop_s wind_s precip_s days_s, k(5) name(cl5_mean)\n",
    "cluster kmeans so2_s temp_s manuf_s pop_s wind_s precip_s days_s, k(6) name(cl6_mean)"
   ]
  },
  {
   "cell_type": "code",
   "execution_count": null,
   "id": "935141b4-5f5a-47aa-8783-ebae29473a8c",
   "metadata": {},
   "outputs": [],
   "source": [
    "X = uscities[x_names_s]\n",
    "res = defaultdict(dict)\n",
    "for i in range(2,6):\n",
    "    cc = str(i)\n",
    "    kmeans = KMeans(n_clusters=i, random_state=1234, init = \"random\").fit(X)\n",
    "    # print(kmeans.labels_)\n",
    "    res[cc][\"labels\"] = kmeans.labels_\n",
    "    res[cc][\"count_labels\"] = Counter(sorted(kmeans.labels_))\n",
    "    dfs = pd.DataFrame(kmeans.cluster_centers_.T)\n",
    "    dfs.index = x_names_s\n",
    "    res[cc][\"centres\"] = dfs\n",
    "    res[cc][\"calinski\"] = calinski_harabasz_score(X, kmeans.labels_)"
   ]
  },
  {
   "cell_type": "code",
   "execution_count": null,
   "id": "39f8dd0f-76ea-4e10-b16f-0a1ad73c9089",
   "metadata": {},
   "outputs": [],
   "source": [
    "res"
   ]
  },
  {
   "cell_type": "code",
   "execution_count": null,
   "id": "b74bdc6c",
   "metadata": {},
   "outputs": [],
   "source": [
    "#%stata help cluster"
   ]
  },
  {
   "cell_type": "code",
   "execution_count": null,
   "id": "c914009e",
   "metadata": {},
   "outputs": [],
   "source": [
    "%%stata -ret cmean_l\n",
    "cluster list"
   ]
  },
  {
   "cell_type": "markdown",
   "id": "1a3b1b66",
   "metadata": {},
   "source": [
    "Polecenie \"cluster stop\" oblicza i wyswietla wartosc kryterium Calinskiego-Harabasza  \n",
    "dla podzialu zbiory danych o zadeklarowanej nazwie"
   ]
  },
  {
   "cell_type": "code",
   "execution_count": null,
   "id": "f3488b67",
   "metadata": {},
   "outputs": [],
   "source": [
    "%%stata\n",
    "forvalues i=2(1)6 {\n",
    "  cluster stop cl`i'_mean\n",
    "}"
   ]
  },
  {
   "cell_type": "code",
   "execution_count": null,
   "id": "d43ad1cf",
   "metadata": {},
   "outputs": [],
   "source": [
    "%%stata\n",
    "// Dla kazdego podzialu mozemy obliczyc statystyki opisowe skupien.\n",
    "// W ten sposob stwierdzamy, czy rozwiazanie jest sensowne.\n",
    "bysort cl2_mean: su so2_s temp_s manuf_s pop_s wind_s precip_s days_s"
   ]
  },
  {
   "cell_type": "markdown",
   "id": "e59cb923",
   "metadata": {},
   "source": [
    "Obecnosc skupien o malej liczbie obserwacji wskazuje na wystepowanie obserwacji nietypowych.  \n",
    "Warto sie zastanowic, czy takich obserwacji nie pominac.  \n",
    "Srednie sa malo odporne na obserwacje nietypowe.  \n",
    "Mozliwe, ze w przypadku tego zbioru analiza oparta o mediany da lepsze rezultaty."
   ]
  },
  {
   "cell_type": "code",
   "execution_count": null,
   "id": "f98de474",
   "metadata": {},
   "outputs": [],
   "source": [
    "%stata cluster drop *"
   ]
  },
  {
   "cell_type": "code",
   "execution_count": null,
   "id": "de6fee1f",
   "metadata": {},
   "outputs": [],
   "source": [
    "%%stata -eret c_eret_temp -sret c_sret_temp -ret c_ret_temp \n",
    "cluster kmedian so2_s temp_s manuf_s pop_s wind_s precip_s days_s, k(2) name(cl2_median)"
   ]
  },
  {
   "cell_type": "code",
   "execution_count": null,
   "id": "90ee689b",
   "metadata": {},
   "outputs": [],
   "source": [
    "# c_eret_temp, c_sret_temp, c_ret_temp"
   ]
  },
  {
   "cell_type": "code",
   "execution_count": null,
   "id": "1ba8936b",
   "metadata": {},
   "outputs": [],
   "source": [
    "%%stata\n",
    "cluster kmedian so2_s temp_s manuf_s pop_s wind_s precip_s days_s, k(2) name(cl3_median)\n",
    "cluster kmedian so2_s temp_s manuf_s pop_s wind_s precip_s days_s, k(2) name(cl4_median)\n",
    "cluster kmedian so2_s temp_s manuf_s pop_s wind_s precip_s days_s, k(2) name(cl5_median)\n",
    "cluster kmedian so2_s temp_s manuf_s pop_s wind_s precip_s days_s, k(2) name(cl6_median)"
   ]
  },
  {
   "cell_type": "code",
   "execution_count": null,
   "id": "9d653d9c",
   "metadata": {},
   "outputs": [],
   "source": [
    "%%stata -ret cmedian_l\n",
    "cluster list "
   ]
  },
  {
   "cell_type": "code",
   "execution_count": null,
   "id": "27831626",
   "metadata": {},
   "outputs": [],
   "source": [
    "%stata cluster drop *"
   ]
  },
  {
   "cell_type": "markdown",
   "id": "976e8073",
   "metadata": {},
   "source": [
    "Warto jest przeprowadzic analize wykorzystujac rozne metryki.  \n",
    "Celem jest sprawdzenie, czy wyniki nie sa przypadkowe.  \n",
    "Jezeli rzeczywiscie dane sa pogrupowane to grupowania ukaza sie niezaleznie od wyboru metryki.  \n",
    "Zmieniamy metryke na miejska."
   ]
  },
  {
   "cell_type": "code",
   "execution_count": null,
   "id": "2d51cdca",
   "metadata": {},
   "outputs": [],
   "source": [
    "%%stata\n",
    "cluster kmeans so2_s temp_s manuf_s pop_s wind_s precip_s days_s, k(2) name(cl2_mean) measure(L1)\n",
    "cluster kmeans so2_s temp_s manuf_s pop_s wind_s precip_s days_s, k(3) name(cl3_mean) measure(L1)\n",
    "cluster kmeans so2_s temp_s manuf_s pop_s wind_s precip_s days_s, k(4) name(cl4_mean) measure(L1)\n",
    "cluster kmeans so2_s temp_s manuf_s pop_s wind_s precip_s days_s, k(5) name(cl5_mean) measure(L1)\n",
    "cluster kmeans so2_s temp_s manuf_s pop_s wind_s precip_s days_s, k(6) name(cl6_mean) measure(L1)\n",
    "\n",
    "forvalues i=2(1)6 {\n",
    "cluster stop cl`i'_mean\n",
    "}\n",
    "\n",
    "cluster kmedian so2_s temp_s manuf_s pop_s wind_s precip_s days_s, k(2) name(cl2_median) measure(L1)\n",
    "cluster kmedian so2_s temp_s manuf_s pop_s wind_s precip_s days_s, k(3) name(cl3_median) measure(L1)\n",
    "cluster kmedian so2_s temp_s manuf_s pop_s wind_s precip_s days_s, k(4) name(cl4_median) measure(L1)\n",
    "cluster kmedian so2_s temp_s manuf_s pop_s wind_s precip_s days_s, k(5) name(cl5_median) measure(L1)\n",
    "cluster kmedian so2_s temp_s manuf_s pop_s wind_s precip_s days_s, k(6) name(cl6_median) measure(L1)\n",
    "\n",
    "forvalues i=2(1)6 {\n",
    "cluster stop cl`i'_median\n",
    "}"
   ]
  },
  {
   "cell_type": "markdown",
   "id": "c9a2c058",
   "metadata": {},
   "source": [
    "Zmieniamy metryke na maksimum."
   ]
  },
  {
   "cell_type": "code",
   "execution_count": null,
   "id": "dda54d38",
   "metadata": {},
   "outputs": [],
   "source": [
    "%stata cluster drop *"
   ]
  },
  {
   "cell_type": "code",
   "execution_count": null,
   "id": "65f12500",
   "metadata": {},
   "outputs": [],
   "source": [
    "%%stata\n",
    "cluster kmeans so2_s temp_s manuf_s pop_s wind_s precip_s days_s, k(2) name(cl2_mean) measure(Linfinity)\n",
    "cluster kmeans so2_s temp_s manuf_s pop_s wind_s precip_s days_s, k(3) name(cl3_mean) measure(Linfinity)\n",
    "cluster kmeans so2_s temp_s manuf_s pop_s wind_s precip_s days_s, k(4) name(cl4_mean) measure(Linfinity)\n",
    "cluster kmeans so2_s temp_s manuf_s pop_s wind_s precip_s days_s, k(5) name(cl5_mean) measure(Linfinity)\n",
    "cluster kmeans so2_s temp_s manuf_s pop_s wind_s precip_s days_s, k(6) name(cl6_mean) measure(Linfinity)\n",
    "\n",
    "forvalues i=2(1)6 {\n",
    "cluster stop cl`i'_mean\n",
    "}\n",
    "\n",
    "cluster kmedian so2_s temp_s manuf_s pop_s wind_s precip_s days_s, k(2) name(cl2_median) measure(Linfinity)\n",
    "cluster kmedian so2_s temp_s manuf_s pop_s wind_s precip_s days_s, k(3) name(cl3_median) measure(Linfinity)\n",
    "cluster kmedian so2_s temp_s manuf_s pop_s wind_s precip_s days_s, k(4) name(cl4_median) measure(Linfinity)\n",
    "cluster kmedian so2_s temp_s manuf_s pop_s wind_s precip_s days_s, k(5) name(cl5_median) measure(Linfinity)\n",
    "cluster kmedian so2_s temp_s manuf_s pop_s wind_s precip_s days_s, k(6) name(cl6_median) measure(Linfinity)\n",
    "\n",
    "forvalues i=2(1)6 {\n",
    "  cluster stop cl`i'_median\n",
    "}"
   ]
  },
  {
   "cell_type": "markdown",
   "id": "a2d8a9a3",
   "metadata": {},
   "source": [
    "Diagnostyka\n",
    "Silhouete\n",
    "instalacja pakietu Silhouette"
   ]
  },
  {
   "cell_type": "code",
   "execution_count": null,
   "id": "f7f9f82a",
   "metadata": {},
   "outputs": [],
   "source": [
    "%stata net search silhouette"
   ]
  },
  {
   "cell_type": "code",
   "execution_count": null,
   "id": "29485790",
   "metadata": {},
   "outputs": [],
   "source": [
    "%stata ssc install silhouette"
   ]
  },
  {
   "cell_type": "markdown",
   "id": "772ceee8",
   "metadata": {},
   "source": [
    "pakiet Silhouete zostal napisany dla Stata 10, nalezy ustawic wczesniejsza wersje niz 17"
   ]
  },
  {
   "cell_type": "code",
   "execution_count": null,
   "id": "5348ac3d",
   "metadata": {},
   "outputs": [],
   "source": [
    "%stata version 15"
   ]
  },
  {
   "cell_type": "markdown",
   "id": "4a94ab0c",
   "metadata": {},
   "source": [
    "utworzenie macierzy niepodobienstwa"
   ]
  },
  {
   "cell_type": "code",
   "execution_count": null,
   "id": "f580284a",
   "metadata": {},
   "outputs": [],
   "source": [
    "%stata matrix dissim dist = so2_s temp_s manuf_s pop_s wind_s precip_s days_s, Linfinity"
   ]
  },
  {
   "cell_type": "markdown",
   "id": "6a892fcc",
   "metadata": {},
   "source": [
    "obliczenie miary i wykres jej wartosci"
   ]
  },
  {
   "cell_type": "code",
   "execution_count": null,
   "id": "31f27bd4",
   "metadata": {},
   "outputs": [],
   "source": [
    "%stata sort town"
   ]
  },
  {
   "cell_type": "code",
   "execution_count": null,
   "id": "20f57803",
   "metadata": {},
   "outputs": [],
   "source": [
    "%stata silhouette cl2_median, dist(dist) idvar(town) "
   ]
  },
  {
   "cell_type": "code",
   "execution_count": null,
   "id": "f8c152ce",
   "metadata": {},
   "outputs": [],
   "source": [
    "%stata silhouette cl5_median, dist(dist) idvar(town) "
   ]
  },
  {
   "cell_type": "code",
   "execution_count": null,
   "id": "5b50ec2e",
   "metadata": {},
   "outputs": [],
   "source": [
    "%stata version 17"
   ]
  },
  {
   "cell_type": "code",
   "execution_count": null,
   "id": "9fd47093",
   "metadata": {},
   "outputs": [],
   "source": [
    "from yellowbrick.cluster import silhouette_visualizer\n",
    "\n",
    "silhouette_visualizer(KMeans(5), X, colors='yellowbrick')"
   ]
  },
  {
   "cell_type": "markdown",
   "id": "b06faaf4",
   "metadata": {},
   "source": [
    "### Przykład 2"
   ]
  },
  {
   "cell_type": "markdown",
   "id": "08235328",
   "metadata": {},
   "source": [
    "Jest to przyklad bazujacy na artykule Herczynski i Strawinski (2014)  \n",
    "\"Postawy zawodowe nauczycieli. Próba typologii\"."
   ]
  },
  {
   "cell_type": "code",
   "execution_count": null,
   "id": "1f087371",
   "metadata": {},
   "outputs": [],
   "source": [
    "from multidim.datasets import load_nauczyciele"
   ]
  },
  {
   "cell_type": "code",
   "execution_count": null,
   "id": "1420e5e4-bc8e-4be0-bfbd-5e4d2440a515",
   "metadata": {},
   "outputs": [],
   "source": [
    "nauczyciele = load_nauczyciele()\n",
    "nauczyciele_copy = nauczyciele.copy()"
   ]
  },
  {
   "cell_type": "code",
   "execution_count": null,
   "id": "3ea0f446",
   "metadata": {},
   "outputs": [],
   "source": [
    "%stata clear"
   ]
  },
  {
   "cell_type": "code",
   "execution_count": null,
   "id": "33cab1d4",
   "metadata": {},
   "outputs": [],
   "source": [
    "%%stata -d nauczyciele_copy\n",
    "// Obejrzyjmy dane.\n",
    "describe\n",
    "summarize"
   ]
  },
  {
   "cell_type": "code",
   "execution_count": null,
   "id": "87b31243-42d8-46ee-8dc1-ad07992c48f5",
   "metadata": {},
   "outputs": [],
   "source": [
    "nauczyciele.dtypes, nauczyciele.describe().T"
   ]
  },
  {
   "cell_type": "markdown",
   "id": "f52c6169",
   "metadata": {},
   "source": [
    "Chcemy znalezc grupy wsrod nauczycieli. Wczesniejesze badania pozakaly ze czesc nauczycieli deklaruje,\n",
    "ze bardzo duzo czasu spedza w szkole; inni godza obowiazki szkole z praca w innym miejscu.\n",
    "Z drugiej strony nauczyciele o wiekszym stazu pracy czesciej otrzymuja nadgodziny od dyrektora szkoly.\n",
    "Chcemy na podstawie czasu poswiecanego na 4 czynnnosci zawodowe (przygotowanie lekcji i innych zajec,\n",
    "prowadzenie innych zajec, sprawdzanie prac) oraz ich stazu pracy pogrupowac nauczycieli.\n",
    "Prawidlowosc podzialu bedzie weryfikowana na podstawie zmiennych metryczkowych oraz opinii nauczycieli."
   ]
  },
  {
   "cell_type": "code",
   "execution_count": null,
   "id": "810d0e3e",
   "metadata": {},
   "outputs": [],
   "source": [
    "%%stata\n",
    "// Wybor poczatkowej liczby skupien. Poniewaz mamy dwie cechy nauczycieli, zalozylismy ze beda co najmniej 4.\n",
    "forvalues i=4(1)9 {\n",
    "  cluster kmeans staz_c_std czas0205_std, k(`i') name(means_6_`i')\n",
    "}"
   ]
  },
  {
   "cell_type": "code",
   "execution_count": null,
   "id": "58025e6e-6163-4f0b-b63c-b1b362fa8ab4",
   "metadata": {},
   "outputs": [],
   "source": [
    "x_names = [\"staz_c_std\", \"czas0205_std\"]"
   ]
  },
  {
   "cell_type": "code",
   "execution_count": null,
   "id": "c92d2cdd-b725-451d-8b30-9c8ac30ffaef",
   "metadata": {},
   "outputs": [],
   "source": [
    "X = nauczyciele[x_names]\n",
    "res = defaultdict(dict)\n",
    "for i in range(4,9):\n",
    "    cc = str(i)\n",
    "    kmeans = KMeans(n_clusters=i, random_state=1234, init = \"random\").fit(X)\n",
    "    # print(kmeans.labels_)\n",
    "    res[cc][\"labels\"] = Counter(sorted(kmeans.labels_))\n",
    "    dfs = pd.DataFrame(kmeans.cluster_centers_.T)\n",
    "    dfs.index = x_names\n",
    "    res[cc][\"centres\"] = dfs\n",
    "    res[cc][\"calinski\"] = calinski_harabasz_score(X, kmeans.labels_)"
   ]
  },
  {
   "cell_type": "code",
   "execution_count": null,
   "id": "7033088b-bafc-4153-b6d5-0295b39ec617",
   "metadata": {},
   "outputs": [],
   "source": [
    "res"
   ]
  },
  {
   "cell_type": "code",
   "execution_count": null,
   "id": "2919fdb9",
   "metadata": {},
   "outputs": [],
   "source": [
    "%%stata\n",
    "forvalues i=4(1)9 {\n",
    "  cluster stop means_6_`i'\n",
    "}"
   ]
  },
  {
   "cell_type": "code",
   "execution_count": null,
   "id": "65a2695d-bcd4-4012-aeaa-947e0e8ac6eb",
   "metadata": {},
   "outputs": [],
   "source": [
    "%%stata\n",
    "graph twoway (sc czas0205 staz_c, msize(vsmall)), ylabel(, angle(horizontal)) scheme(s1mono)\n",
    "\n",
    "// Wedlug algorytmu optymalna liczba skupien jest 6, ale dla jednego skupienia nie moglismy znalezc sensownej interpretacji.\n",
    "// Postanowilismy rozdzielic obserwacje z tego skupienia do innych.\n",
    "gen tmp=means_6_6\n",
    "recode tmp (5=.)\n",
    "\n",
    "set seed 1234\n",
    "cluster kmeans staz_c_std czas0205_std, k(5) name(means_6_5a) start(group(tmp))\n"
   ]
  },
  {
   "cell_type": "code",
   "execution_count": null,
   "id": "b901e9fc",
   "metadata": {},
   "outputs": [],
   "source": [
    "%%stata\n",
    "/* rozklady dla definiujacych skupienia. */\n",
    "\n",
    "bysort means_6_5a: su staz czas0205 czas02_std czas03_std czas04_std czas05_std\n",
    "\n",
    "/* Opinie nauczycieli. */\n",
    "\n",
    "bysort means_6_5a: su j4 j6_*\n",
    "\n",
    "/* Srednie wartosci zmiennych metryczkowowych dla poszczegolnych skupien */\n",
    "\n",
    "bysort means_6_5a: tab m6\n",
    "bysort means_6_5a: tab m21\n",
    "\n",
    "bysort means_6_5a: tab m12\n",
    "bysort means_6_5a: tab m25a\n",
    "bysort means_6_5a: tab m30\n",
    "bysort means_6_5a: tab m27a"
   ]
  },
  {
   "cell_type": "code",
   "execution_count": null,
   "id": "18f0ae42",
   "metadata": {},
   "outputs": [],
   "source": [
    "%%stata\n",
    "bysort means_6_5a: su liczba_dzieci\n",
    "bysort means_6_5a: tab m1"
   ]
  }
 ],
 "metadata": {
  "kernelspec": {
   "display_name": "Python 3.10.8 ('.venv': venv)",
   "language": "python",
   "name": "python3"
  },
  "language_info": {
   "codemirror_mode": {
    "name": "ipython",
    "version": 3
   },
   "file_extension": ".py",
   "mimetype": "text/x-python",
   "name": "python",
   "nbconvert_exporter": "python",
   "pygments_lexer": "ipython3",
   "version": "3.10.6"
  },
  "vscode": {
   "interpreter": {
    "hash": "a8685faa0ed749449a0f1a8710c4e7cd8c1c7833bc8ac4d1844d25fbee35609f"
   }
  }
 },
 "nbformat": 4,
 "nbformat_minor": 5
}
