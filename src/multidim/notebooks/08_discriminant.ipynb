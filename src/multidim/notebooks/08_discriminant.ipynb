{
 "cells": [
  {
   "cell_type": "markdown",
   "id": "2da803fc",
   "metadata": {},
   "source": [
    "# Analiza Wielowymiarowa - zajecia 8 -  Analiza dyskryminacji "
   ]
  },
  {
   "cell_type": "code",
   "execution_count": null,
   "id": "45a6e5ed",
   "metadata": {},
   "outputs": [],
   "source": [
    "from multidim.utils import resolve_stata, load_stata\n",
    "\n",
    "STATA_PATH, STATA_TYPE = resolve_stata(version = 18, stype = \"se\")\n",
    "# make sure they are proper ones\n",
    "STATA_PATH, STATA_TYPE"
   ]
  },
  {
   "cell_type": "code",
   "execution_count": null,
   "id": "832e6b55",
   "metadata": {},
   "outputs": [],
   "source": [
    "load_stata(STATA_PATH, STATA_TYPE)"
   ]
  },
  {
   "cell_type": "code",
   "execution_count": null,
   "id": "092b9452",
   "metadata": {},
   "outputs": [],
   "source": [
    "from pystata import stata\n",
    "import pandas as pd\n",
    "import numpy as np\n",
    "import scipy\n",
    "import sklearn\n",
    "\n",
    "from sklearn.model_selection import train_test_split\n",
    "from sklearn.pipeline import Pipeline\n",
    "from sklearn import datasets\n",
    "from sklearn.discriminant_analysis import LinearDiscriminantAnalysis\n",
    "from sklearn.neighbors import KNeighborsClassifier\n",
    "from sklearn.metrics import classification_report\n",
    "from sklearn.metrics import confusion_matrix"
   ]
  },
  {
   "cell_type": "markdown",
   "id": "7d4fa5e3",
   "metadata": {},
   "source": [
    "Podczas dzisiejszych zajec wykorzystujemy dane udostepnione przez Uniwersytet Kalifornijski w Los Angles (UCLA)  \n",
    "Dane i ich opis mozna znalezc na stronie https://stats.idre.ucla.edu/stata/dae/discriminant-function-analysis/\n"
   ]
  },
  {
   "cell_type": "markdown",
   "id": "fc14a6b0",
   "metadata": {},
   "source": [
    "### Przykład 1.\n"
   ]
  },
  {
   "cell_type": "markdown",
   "id": "01dcdcba",
   "metadata": {},
   "source": [
    "Duży przewoźnik lotniczy zebrał informacje o osobach zatrudnionych na trzech stanowiskach\n",
    "1. obsluga klienta (customer service personnel)\n",
    "2. mechanik \n",
    "3. dyspozytorzy (dispatchers) \n",
    "\n",
    "Dyrektor Działu Personalnego chciałby wiedzieć, czy na każdym stanowisku pracują osoby o różnym typie osobowości.\n",
    "Każdy pracownik został poddany serii testów psychologicznych obejmujących zainteresowanie aktywnoscią, \n",
    "mierzących towarzyskość pracownika oraz określających poziom jego konserwatyzmu\n"
   ]
  },
  {
   "cell_type": "code",
   "execution_count": null,
   "id": "e23142e0",
   "metadata": {},
   "outputs": [],
   "source": [
    "%stata use https://stats.idre.ucla.edu/stat/stata/dae/discrim, clear"
   ]
  },
  {
   "cell_type": "code",
   "execution_count": null,
   "id": "46f97c9e-28cd-4859-b226-13df84dca0fc",
   "metadata": {},
   "outputs": [],
   "source": [
    "%%stata\n",
    "/// opis zbioru\n",
    "des\n",
    "/// Rozpoczynamy analize od podstawowych statystyk zmiennych psychologicznych\n",
    "summarize outdoor social conservative\n",
    "/// Podstawowe statystyki w podziale na typ wykonywanej pracy\n",
    "/// opcja stat definiuje statystki do wyswietlenia\n",
    "/// opcja col(stat) okresla ze maja one byc wyswietlone w kolumnach tabeli\n",
    "tabstat outdoor social conservative, by(job) stat(n mean sd min max) col(stat)\n",
    "/// Tablica korelacji. Opcja sig wyswietla wartosc p dla hipotezy o braku korelacji\n",
    "pwcorr outdoor social conservative, sig\n",
    "/// Analiza rozkladu zmiennej grupujacej\n",
    "tabulate job"
   ]
  },
  {
   "cell_type": "markdown",
   "id": "994d8d28-dd4e-4c39-ace0-f8e5bbe789d6",
   "metadata": {},
   "source": [
    "Kanoniczna analiza dyskryminacyjna  \n",
    "Wykonanie polecenia powoduje wykonanie kanonicznej analizy dyskryminacyjnej  \n",
    "Wyniki sa prezentowane w 6 tabelach  \n",
    "Tabela 1 - wartosci wlasne i statystyczna istotnosc kierunkow dyskryminacji  \n",
    "Tabela 2 - standaryzowane oszacowania kanonicznych wspolczynnikow dyskryminacji  \n",
    "Tabela 3 - tabela ladunkow kanonicznych  \n",
    "Tabela 4 - etykiety grup  \n",
    "Tabela 5 - srednie wartosci zmiennych kanonicznych dla grup  \n",
    "Tabela 6 - tabela klasyfikacji przy zalozonym jednostajnym rozkladzie a-priori.  \n",
    "Przyjmowany rozklad a-priori mozna zmienic wykorzystujac opcje prior  "
   ]
  },
  {
   "cell_type": "code",
   "execution_count": null,
   "id": "e6003535-c5de-4343-bf6c-3a123cd27405",
   "metadata": {},
   "outputs": [],
   "source": [
    "discrim = pd.read_stata(\"https://stats.idre.ucla.edu/stat/stata/dae/discrim.dta\")"
   ]
  },
  {
   "cell_type": "code",
   "execution_count": null,
   "id": "888d38fe-2782-4ee1-a3b0-54dfb7b1a662",
   "metadata": {},
   "outputs": [],
   "source": [
    "discrim.describe()"
   ]
  },
  {
   "cell_type": "code",
   "execution_count": null,
   "id": "be83605d-621f-471c-976d-e3cea071ce25",
   "metadata": {},
   "outputs": [],
   "source": [
    "discrim[[\"outdoor\", \"social\", \"conservative\"]].corr()"
   ]
  },
  {
   "cell_type": "code",
   "execution_count": null,
   "id": "f3070b3d-3d6d-4e1d-aa0c-ef2f28f44796",
   "metadata": {},
   "outputs": [],
   "source": [
    "discrim.job.value_counts()"
   ]
  },
  {
   "cell_type": "markdown",
   "id": "5e71131a-c953-465d-8f67-20aed8d61ce5",
   "metadata": {},
   "source": [
    "### LDA"
   ]
  },
  {
   "cell_type": "code",
   "execution_count": null,
   "id": "ddb540cf-2e1c-4578-8432-4b88a53a50a4",
   "metadata": {},
   "outputs": [],
   "source": [
    "# Polecenie candisc\" jest odpowiednikiem \"discrim lda\"\n",
    "# Polecenie \"candisc\" wykonuje kanomiczną wersję liniowej analizy dykryminacyjnej (LDA).  \n",
    "# Oba polecenia w Stata obliczają to samo, różnią się pod względem wyboru wyników w prezentacji. "
   ]
  },
  {
   "cell_type": "code",
   "execution_count": null,
   "id": "b6c2eee7-00b0-47e8-90d4-5fd7304eddb8",
   "metadata": {},
   "outputs": [],
   "source": [
    "%%stata\n",
    "candisc outdoor social conservative, group(job)"
   ]
  },
  {
   "cell_type": "code",
   "execution_count": null,
   "id": "9207c2d3-2894-499b-a428-3b724e78707f",
   "metadata": {},
   "outputs": [],
   "source": [
    "%stata estat classfunctions"
   ]
  },
  {
   "cell_type": "code",
   "execution_count": null,
   "id": "1b899305-20a7-450f-90f2-eee280434611",
   "metadata": {},
   "outputs": [],
   "source": [
    "%%stata\n",
    "/// Wyniki analizy mozna zaprezentowac na wykresie obrazujacym wartosci zmiennych kanonicznych\n",
    "/// Dla przejrzystosci wykresu przed jego wykonaniem skracamy etykiety kategorii\n",
    "label define job 1 \"c\" 2 \"m\" 3 \"d\", modify\n",
    "scoreplot, msymbol(i)\n",
    "\n",
    "/// Wykres rozrzutu standaryzowanych ladunkow czynnikowych funkcji dyskryminacyjnej\n",
    "/// Pokazuje zaleznosc miedzy srednimi wartosciami oryginalnych zmiennych a wspolczynnikami korelacji kanonicznej\n",
    "loadingplot"
   ]
  },
  {
   "cell_type": "code",
   "execution_count": null,
   "id": "9e906f51-63da-4f2e-ac51-af2ce333458e",
   "metadata": {},
   "outputs": [],
   "source": [
    "%%stata\n",
    "/// Te same wyniki mozna uzyskac poleceniem discrim lda\n",
    "/// W przypadku tego polecenia Stata wyswietla wylacznie tablice klasyfikacji\n",
    "discrim lda outdoor social conservative, group(job)"
   ]
  },
  {
   "cell_type": "code",
   "execution_count": null,
   "id": "2f84546d-37e3-4636-9540-7e8da1f9e8bc",
   "metadata": {},
   "outputs": [],
   "source": [
    "# %stata help FUN postestimation\n",
    "# %stata help discrim lda postestimation"
   ]
  },
  {
   "cell_type": "code",
   "execution_count": null,
   "id": "ca042522",
   "metadata": {},
   "outputs": [],
   "source": [
    "%%stata\n",
    "/// Wyswietlenie tablicy analizy wariancji\n",
    "estat anova\n",
    "/// Tabela wartosci wlasnych i statystyczna istotnosc kierunkow dyskryminacji\n",
    "estat canontest\n",
    "/// Tabela oszacowan parametrow funkcji klasyfikacyjnych\n",
    "estat classfunctions \n",
    "/// Tabela klasyfikacji\n",
    "estat classtable\n",
    "/// Tabela korelacji miedzy zmiennymi\n",
    "estat correlations\n",
    "/// Tabela kowariancji miedzy zmiennymi\n",
    "estat covariance\n",
    "/// Tabela standaryzowanych oszacowan kanonicznych wspolczynnikow dyskryminacji\n",
    "estat loadings\n",
    "/// Macierz struktury kanonicznej\n",
    "estat structure"
   ]
  },
  {
   "cell_type": "code",
   "execution_count": null,
   "id": "90069c81-26ff-4d2a-ad91-f392d3eca488",
   "metadata": {},
   "outputs": [],
   "source": [
    "y = discrim.job\n",
    "X = discrim.loc[:, [\"outdoor\", \"social\", \"conservative\"]]"
   ]
  },
  {
   "cell_type": "code",
   "execution_count": null,
   "id": "507d9ebe-7b62-47dd-9f04-05bfcbe40a2a",
   "metadata": {},
   "outputs": [],
   "source": [
    "lda = LinearDiscriminantAnalysis(solver = 'eigen')\n",
    "lda.fit(X, y)\n",
    "print(lda.classes_)\n",
    "lda.coef_.T, lda.intercept_"
   ]
  },
  {
   "cell_type": "code",
   "execution_count": null,
   "id": "ccad4d6a-e57a-4ac6-b693-a60d574c2c3a",
   "metadata": {},
   "outputs": [],
   "source": [
    "print(classification_report(y, lda.predict(X)))\n",
    "confusion_matrix(y, lda.predict(X))"
   ]
  },
  {
   "cell_type": "markdown",
   "id": "55945b1d",
   "metadata": {},
   "source": [
    "### Przykład 2.\n"
   ]
  },
  {
   "cell_type": "markdown",
   "id": "0c2f6711",
   "metadata": {},
   "source": [
    "Jest to przyklad analizy dyskryminacyjnej, ktory mozna znalezc w niemal kazdym \n",
    "podreczniku analizy wielowymiarowej. Zostal opracowany przez Fishera w 1936 roku\n",
    "Analiza obejmuje trzy odmiany irysow i cztery zmienne opisujace ich cechy:\n",
    "- Dlugosc platka [cm] (petal lenght)\n",
    "- Szerokosc platka [cm] (petal width)\n",
    "- Dlugosc listka kielicha [cm]\n",
    "- Szerokosc listka kielicha [cm]"
   ]
  },
  {
   "cell_type": "code",
   "execution_count": null,
   "id": "1678c0a9-1f67-4661-ad8e-2265f7351472",
   "metadata": {},
   "outputs": [],
   "source": [
    "%%stata\n",
    "di \"Fisher example iris data\"\n",
    "use ../../dane/iris.dta, clear"
   ]
  },
  {
   "cell_type": "code",
   "execution_count": null,
   "id": "783e9ff3-fe9e-42fe-aaf8-c16c25b0a04b",
   "metadata": {},
   "outputs": [],
   "source": [
    "iris = pd.read_stata(\"../../dane/iris.dta\")\n",
    "# iris_set = datasets.load_iris()\n",
    "# iris_x = iris_set[\"data\"]\n",
    "# iris_y = iris_set[\"target\"]\n",
    "iris_x = iris.iloc[:,1:]\n",
    "iris_y = iris.iloc[:,0].values\n",
    "# SCALING\n",
    "# W pewnych przypadkach istotna bedzie standaryzacja\n",
    "iris_x_scaled = (iris_x - np.mean(iris_x, axis = 0)) / np.std(iris_x, axis = 0)"
   ]
  },
  {
   "cell_type": "code",
   "execution_count": null,
   "id": "53a4aadd-e238-47ad-b23b-67c4e103a4e3",
   "metadata": {},
   "outputs": [],
   "source": [
    "%%stata\n",
    "/// Opis danych\n",
    "des\n",
    "/// Podstawowe statystyki opisowe\n",
    "bysort iris: su seplen sepwid petlen petwid "
   ]
  },
  {
   "cell_type": "code",
   "execution_count": null,
   "id": "4190c7c5-069f-4be0-a9e6-b18a2ceb4646",
   "metadata": {},
   "outputs": [],
   "source": [
    "iris.\\\n",
    "groupby(\"iris\").\\\n",
    "describe().T"
   ]
  },
  {
   "cell_type": "code",
   "execution_count": null,
   "id": "8e9e87dc-86ec-4301-b0a8-dd320847271a",
   "metadata": {},
   "outputs": [],
   "source": [
    "%%stata\n",
    "/// Analiza dyskryminacji\n",
    "discrim lda seplen sepwid petlen petwid, group(iris)\n",
    "/// Tabela nieprawidlowo klasyfikowanych obserwacji\n",
    "estat list, misclassified\n",
    "/// wagi\n",
    "estat classfunctions\n",
    "/// Tabela niestandaryzowanych i standaryzowanych oszacowan kanonicznych wspolczynnikow dyskrminacji\n",
    "estat loadings, unstandardized standardized\n",
    "loadingplot\n",
    "scoreplot, msymbol(i)\n",
    "/// Uzyskanie klasyfikacji\n",
    "predict klasyfikacja\n",
    "/// Tabela klasyfikacji\n",
    "tab iris klasyfikacja"
   ]
  },
  {
   "cell_type": "code",
   "execution_count": null,
   "id": "fd1cb87a-9cd8-43e3-95a4-62ed2b33a323",
   "metadata": {},
   "outputs": [],
   "source": [
    "lda = LinearDiscriminantAnalysis(solver = 'eigen')\n",
    "lda.fit(iris_x.values, iris_y)\n",
    "print(lda.classes_)\n",
    "lda.coef_.T, lda.intercept_"
   ]
  },
  {
   "cell_type": "code",
   "execution_count": null,
   "id": "c991130b-4944-4ad6-bea9-83fb7a0f4a98",
   "metadata": {},
   "outputs": [],
   "source": [
    "# misclassified\n",
    "np.where(iris_y != lda.predict(iris_x.values))"
   ]
  },
  {
   "cell_type": "code",
   "execution_count": null,
   "id": "8ebfb2cc-a53c-41c6-8ae1-da41a610fd13",
   "metadata": {},
   "outputs": [],
   "source": [
    "# Tylko 2 pierwsze poziomy (odmiany skorczyka)\n",
    "# 100 pierwszych obserwacji gdyz dane sa posortowane\n",
    "# idx = list(range(100))\n",
    "# lda = LinearDiscriminantAnalysis(n_components = 1, solver = 'eigen')\n",
    "# lda.fit(iris_x_scaled[idx,:], iris_y[idx])\n",
    "# Tutaj tylko jeden wektor wag\n",
    "# print(lda.coef_.T, lda.intercept_)\n",
    "# values = iris_x_scaled[idx,:] @ lda.coef_.T + lda.intercept_\n",
    "# print(1/(1+np.exp(-values)))"
   ]
  },
  {
   "cell_type": "markdown",
   "id": "e3a41253-fbac-4f3a-9ce7-db87eeff243c",
   "metadata": {},
   "source": [
    "### Dodatek Train/Test Prediciton"
   ]
  },
  {
   "cell_type": "code",
   "execution_count": null,
   "id": "921256af-7b38-4906-abce-7504aac93d3e",
   "metadata": {},
   "outputs": [],
   "source": [
    "X_train, X_test, y_train, y_test = train_test_split(iris_x, iris_y, random_state=1234)"
   ]
  },
  {
   "cell_type": "code",
   "execution_count": null,
   "id": "d59646af-14e0-41ca-874c-1f5435bbac14",
   "metadata": {},
   "outputs": [],
   "source": [
    "lda = LinearDiscriminantAnalysis(n_components = 2)\n",
    "lda.fit(X_train, y_train)\n",
    "print(lda.score(X_test, y_test))"
   ]
  },
  {
   "cell_type": "code",
   "execution_count": null,
   "id": "e8a702c7-ece3-4bd5-bb61-eca80d701d1b",
   "metadata": {},
   "outputs": [],
   "source": [
    "# Predykcje\n",
    "# lda.predict_proba(X_test)\n",
    "# OR\n",
    "# values = X_test @ lda.coef_.T + lda.intercept_\n",
    "# values - values.max(axis=1)[:, np.newaxis]\n",
    "# likelihood = np.exp(values - values.max(axis=1)[:, np.newaxis])\n",
    "# predictions = np.round(likelihood / likelihood.sum(axis=1)[:, np.newaxis], 2)"
   ]
  },
  {
   "cell_type": "code",
   "execution_count": null,
   "id": "bdd713d7-7d88-4b0c-853a-872f90a32ea2",
   "metadata": {
    "scrolled": true
   },
   "outputs": [],
   "source": [
    "# Tablica klasyfikacji\n",
    "confusion_matrix(y_test, lda.predict(X_test))"
   ]
  },
  {
   "cell_type": "code",
   "execution_count": null,
   "id": "9d98da28-0bd3-4c25-9de5-da5640990608",
   "metadata": {},
   "outputs": [],
   "source": [
    "print(classification_report(y_test, lda.predict(X_test)))"
   ]
  },
  {
   "cell_type": "markdown",
   "id": "dbc4d900",
   "metadata": {},
   "source": [
    "### Przykład 3.\n"
   ]
  },
  {
   "cell_type": "markdown",
   "id": "39994456-c884-4023-8458-4c7c2853d207",
   "metadata": {},
   "source": [
    "Na podstawie danych z badania Diagnoza Spoleczna 2011 bedziemy analizowac stosunek obywateli do euro"
   ]
  },
  {
   "cell_type": "code",
   "execution_count": null,
   "id": "15a5693b",
   "metadata": {},
   "outputs": [],
   "source": [
    "%stata use ../../dane/euro.dta, clear"
   ]
  },
  {
   "cell_type": "code",
   "execution_count": null,
   "id": "6b17386c-2cc6-40be-8ead-57f155fcf2be",
   "metadata": {},
   "outputs": [],
   "source": [
    "euro = pd.read_stata(\"../../dane/euro.dta\")"
   ]
  },
  {
   "cell_type": "code",
   "execution_count": null,
   "id": "8b5602e1",
   "metadata": {},
   "outputs": [],
   "source": [
    "%stata des"
   ]
  },
  {
   "cell_type": "code",
   "execution_count": null,
   "id": "d6aa602c",
   "metadata": {},
   "outputs": [],
   "source": [
    "%%stata\n",
    "/// Zbadajmy rozklad zmiennej zaleznej\n",
    "tab euro"
   ]
  },
  {
   "cell_type": "code",
   "execution_count": null,
   "id": "96876423-f5cc-4573-9c03-07e7503f5da8",
   "metadata": {},
   "outputs": [],
   "source": [
    "euro.dtypes"
   ]
  },
  {
   "cell_type": "code",
   "execution_count": null,
   "id": "b1a518a6-f658-4b69-bb9d-c807765072f2",
   "metadata": {},
   "outputs": [],
   "source": [
    "euro.euro.value_counts()"
   ]
  },
  {
   "cell_type": "code",
   "execution_count": null,
   "id": "f1aaf290-9116-422e-bc81-329a3a08d043",
   "metadata": {},
   "outputs": [],
   "source": [
    "#%stata help discrim knn"
   ]
  },
  {
   "cell_type": "code",
   "execution_count": null,
   "id": "494aa482",
   "metadata": {},
   "outputs": [],
   "source": [
    "%%stata\n",
    "/// Jaki model nalezy wybrac?\n",
    "bysort euro: su wiek klm kobieta wyksz zna_angielski partia_PO partia_PiS\n",
    "corr wiek klm kobieta wyksz zna_angielski partia_PO partia_PiS\n",
    "/// Przeprowadz odpowiednia analize dyskryminacyjna\n",
    "/// Zastanow sie jaki model zastosowac oraz jaki dorbac rozklad a-priori\n",
    "/// Zastanow sie czy wszystkie zmienne dobrze rozdzielaja zbior"
   ]
  },
  {
   "cell_type": "code",
   "execution_count": null,
   "id": "8eeef5e1-e1ba-474d-8c2c-e90247653740",
   "metadata": {},
   "outputs": [],
   "source": [
    "euro[[\"wiek\", \"klm\", \"kobieta\", \"wyksz\", \"zna_angielski\", \"partia_PO\", \"partia_PiS\", \"euro\"]].\\\n",
    "groupby(\"euro\").\\\n",
    "describe().T"
   ]
  },
  {
   "cell_type": "code",
   "execution_count": null,
   "id": "3422a289-74d8-4a73-b407-4cbf524d13d3",
   "metadata": {},
   "outputs": [],
   "source": [
    "euro.apply(lambda x: x if not hasattr(x, 'cat') else x.cat.codes).corr()"
   ]
  },
  {
   "cell_type": "code",
   "execution_count": null,
   "id": "37a367ac-beac-4a37-8654-dd65d1933eb4",
   "metadata": {},
   "outputs": [],
   "source": [
    "%%stata\n",
    "/// Zbadaj stosunek do euro metoda najblizszych sasiadow\n",
    "// losujemy 10% probe prosta by przyspieszyc obliczenia\n",
    "sample 10\n",
    "// Zastanow sie jaki rozklad a-priori wybrac aby zbadac poprawnosc klasyfikacji\n",
    "discrim knn wiek klm kobieta wyksz zna_angielski partia_PO partia_PiS, group(euro) k(5)"
   ]
  },
  {
   "cell_type": "code",
   "execution_count": null,
   "id": "e2031cfa-bc59-4d62-850f-bc1ef79723b8",
   "metadata": {},
   "outputs": [],
   "source": [
    "# Bardzo szybki Algorytm - wiec wszytskie obserwacje\n",
    "neigh = KNeighborsClassifier(n_neighbors=5)\n",
    "X = pd.get_dummies(euro.loc[:, euro.columns != \"euro\"]).values\n",
    "# X.columns = X.columns.str.replace(\"[^a-zA-Z\\_0-9]\", \"\", regex = True)\n",
    "y = euro[\"euro\"]\n",
    "neigh.fit(X, y)"
   ]
  },
  {
   "cell_type": "code",
   "execution_count": null,
   "id": "73336bc4-982f-4c12-bbc2-23a794336628",
   "metadata": {},
   "outputs": [],
   "source": [
    "preds = neigh.predict(X)"
   ]
  },
  {
   "cell_type": "code",
   "execution_count": null,
   "id": "ec3be2bc-c0fd-43ca-913c-9a0fdb9e997e",
   "metadata": {},
   "outputs": [],
   "source": [
    "#Tablica klasyfikacji \n",
    "confusion_matrix(y, preds)"
   ]
  },
  {
   "cell_type": "code",
   "execution_count": null,
   "id": "b38eb89e-853c-46d2-9154-20b1908ccbdd",
   "metadata": {},
   "outputs": [],
   "source": [
    "print(classification_report(y, preds))"
   ]
  }
 ],
 "metadata": {
  "kernelspec": {
   "display_name": "Python 3 (ipykernel)",
   "language": "python",
   "name": "python3"
  },
  "language_info": {
   "codemirror_mode": {
    "name": "ipython",
    "version": 3
   },
   "file_extension": ".py",
   "mimetype": "text/x-python",
   "name": "python",
   "nbconvert_exporter": "python",
   "pygments_lexer": "ipython3",
   "version": "3.11.4"
  }
 },
 "nbformat": 4,
 "nbformat_minor": 5
}
