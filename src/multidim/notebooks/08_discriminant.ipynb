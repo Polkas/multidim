{
 "cells": [
  {
   "cell_type": "markdown",
   "id": "2da803fc",
   "metadata": {},
   "source": [
    "# Analiza Wielowymiarowa - zajecia 8 -  Analiza dyskryminacji "
   ]
  },
  {
   "cell_type": "code",
   "execution_count": null,
   "id": "f0bf89ff-9232-478a-bf5e-f75f4580b914",
   "metadata": {},
   "outputs": [],
   "source": [
    "from multidim.utils import resolve_stata, load_stata\n",
    "\n",
    "STATA_PATH, STATA_TYPE = resolve_stata(version = 17, stype = \"se\")\n",
    "# make sure they are proper ones\n",
    "STATA_PATH, STATA_TYPE"
   ]
  },
  {
   "cell_type": "code",
   "execution_count": null,
   "id": "cf3ccf91",
   "metadata": {},
   "outputs": [],
   "source": [
    "load_stata(STATA_PATH, STATA_TYPE)"
   ]
  },
  {
   "cell_type": "code",
   "execution_count": null,
   "id": "092b9452",
   "metadata": {},
   "outputs": [],
   "source": [
    "import pandas as pd\n",
    "import numpy as np\n",
    "\n",
    "from sklearn.model_selection import train_test_split\n",
    "from sklearn.pipeline import Pipeline\n",
    "from sklearn import datasets\n",
    "from sklearn.discriminant_analysis import LinearDiscriminantAnalysis\n",
    "from sklearn.neighbors import KNeighborsClassifier\n",
    "from sklearn.metrics import classification_report\n",
    "from sklearn.metrics import confusion_matrix"
   ]
  },
  {
   "cell_type": "markdown",
   "id": "7d4fa5e3",
   "metadata": {},
   "source": [
    "Podczas dzisiejszych zajec wykorzystujemy dane udostepnione przez Uniwersytet Kalifornijski w Los Angles (UCLA)  \n",
    "Dane i ich opis mozna znalezc na stronie https://stats.idre.ucla.edu/stata/dae/discriminant-function-analysis/\n"
   ]
  },
  {
   "cell_type": "markdown",
   "id": "fc14a6b0",
   "metadata": {},
   "source": [
    "### Przykład 1.\n"
   ]
  },
  {
   "cell_type": "markdown",
   "id": "01dcdcba",
   "metadata": {},
   "source": [
    "Duży przewoźnik lotniczy zebrał informacje o osobach zatrudnionych na trzech stanowiskach\n",
    "1. obsluga klienta (customer service personnel)\n",
    "2. mechanik \n",
    "3. dyspozytorzy (dispatchers) \n",
    "\n",
    "Dyrektor Działu Personalnego chciałby wiedzieć, czy na każdym stanowisku pracują osoby o różnym typie osobowości.\n",
    "Każdy pracownik został poddany serii testów psychologicznych obejmujących zainteresowanie aktywnoscią, \n",
    "mierzących towarzyskość pracownika oraz określających poziom jego konserwatyzmu\n"
   ]
  },
  {
   "cell_type": "code",
   "execution_count": null,
   "id": "92ce7c16",
   "metadata": {},
   "outputs": [],
   "source": [
    "%stata use https://stats.idre.ucla.edu/stat/stata/dae/discrim, clear"
   ]
  },
  {
   "cell_type": "code",
   "execution_count": null,
   "id": "1207744c",
   "metadata": {},
   "outputs": [],
   "source": [
    "discrim = pd.read_stata(\"https://stats.idre.ucla.edu/stat/stata/dae/discrim.dta\")"
   ]
  },
  {
   "cell_type": "code",
   "execution_count": null,
   "id": "41a7c8a8",
   "metadata": {},
   "outputs": [],
   "source": [
    "%stata des"
   ]
  },
  {
   "cell_type": "code",
   "execution_count": null,
   "id": "ece2ebfc",
   "metadata": {},
   "outputs": [],
   "source": [
    "discrim.dtypes"
   ]
  },
  {
   "cell_type": "markdown",
   "id": "6d24b1f9",
   "metadata": {},
   "source": [
    " Rozpoczynamy analize od podstawowych statystyk zmiennych psychologicznych"
   ]
  },
  {
   "cell_type": "code",
   "execution_count": null,
   "id": "490723f6",
   "metadata": {},
   "outputs": [],
   "source": [
    "%stata summarize outdoor social conservative"
   ]
  },
  {
   "cell_type": "code",
   "execution_count": null,
   "id": "dd375532",
   "metadata": {},
   "outputs": [],
   "source": [
    "discrim.describe()"
   ]
  },
  {
   "cell_type": "markdown",
   "id": "10a2d432",
   "metadata": {},
   "source": [
    "Podstawowe statystyki w podziale na typ wykonywanej pracy\n",
    "- opcja stat definiuje statystki do wyswietlenia\n",
    "- opcja col(stat) okresla ze maja one byc wyswietlone w kolumnach tabeli"
   ]
  },
  {
   "cell_type": "code",
   "execution_count": null,
   "id": "18368fd5",
   "metadata": {},
   "outputs": [],
   "source": [
    "%stata tabstat outdoor social conservative, by(job) stat(n mean sd min max) col(stat)"
   ]
  },
  {
   "cell_type": "code",
   "execution_count": null,
   "id": "9df183de",
   "metadata": {},
   "outputs": [],
   "source": [
    "discrim.groupby([\"job\"])[[\"outdoor\", \"social\", \"conservative\"]].describe().T"
   ]
  },
  {
   "cell_type": "markdown",
   "id": "5a08c73c",
   "metadata": {},
   "source": [
    "Tablica korelacji. Opcja sig wyswietla wartosc p dla hipotezy o braku korelacji"
   ]
  },
  {
   "cell_type": "code",
   "execution_count": null,
   "id": "958b3d6c",
   "metadata": {},
   "outputs": [],
   "source": [
    "%stata pwcorr outdoor social conservative, sig"
   ]
  },
  {
   "cell_type": "code",
   "execution_count": null,
   "id": "d9b9fdce",
   "metadata": {},
   "outputs": [],
   "source": [
    "discrim[[\"outdoor\", \"social\", \"conservative\"]].corr()"
   ]
  },
  {
   "cell_type": "markdown",
   "id": "d61f9c60",
   "metadata": {},
   "source": [
    "Analiza rozkladu zmiennej grupujacej\n"
   ]
  },
  {
   "cell_type": "code",
   "execution_count": null,
   "id": "3de68133",
   "metadata": {},
   "outputs": [],
   "source": [
    "\n",
    "%stata tabulate job"
   ]
  },
  {
   "cell_type": "code",
   "execution_count": null,
   "id": "bafc5058",
   "metadata": {},
   "outputs": [],
   "source": [
    "tab = pd.DataFrame({\"Freq\": discrim[\"job\"].value_counts()})\n",
    "tab[\"Percent\"] = tab / tab.sum() * 100\n",
    "tab[\"Cum\"] = tab[\"Percent\"].cumsum()\n",
    "tab"
   ]
  },
  {
   "cell_type": "markdown",
   "id": "994d8d28-dd4e-4c39-ace0-f8e5bbe789d6",
   "metadata": {},
   "source": [
    "Kanoniczna analiza dyskryminacyjna  \n",
    "Wykonanie polecenia powoduje wykonanie kanonicznej analizy dyskryminacyjnej  \n",
    "Wyniki sa prezentowane w 6 tabelach  \n",
    "Tabela 1 - wartosci wlasne i statystyczna istotnosc kierunkow dyskryminacji  \n",
    "Tabela 2 - standaryzowane oszacowania kanonicznych wspolczynnikow dyskryminacji  \n",
    "Tabela 3 - tabela ladunkow kanonicznych  \n",
    "Tabela 4 - etykiety grup  \n",
    "Tabela 5 - srednie wartosci zmiennych kanonicznych dla grup  \n",
    "Tabela 6 - tabela klasyfikacji przy zalozonym jednostajnym rozkladzie a-priori.  \n",
    "Przyjmowany rozklad a-priori mozna zmienic wykorzystujac opcje prior  "
   ]
  },
  {
   "cell_type": "markdown",
   "id": "5e71131a-c953-465d-8f67-20aed8d61ce5",
   "metadata": {},
   "source": [
    "### LDA"
   ]
  },
  {
   "cell_type": "code",
   "execution_count": null,
   "id": "ddb540cf-2e1c-4578-8432-4b88a53a50a4",
   "metadata": {},
   "outputs": [],
   "source": [
    "# Polecenie candisc\" jest odpowiednikiem \"discrim lda\"\n",
    "# Polecenie \"candisc\" wykonuje kanomiczną wersję liniowej analizy dykryminacyjnej (LDA).  \n",
    "# Oba polecenia w Stata obliczają to samo, różnią się pod względem wyboru wyników w prezentacji. "
   ]
  },
  {
   "cell_type": "code",
   "execution_count": null,
   "id": "b6c2eee7-00b0-47e8-90d4-5fd7304eddb8",
   "metadata": {},
   "outputs": [],
   "source": [
    "%stata candisc outdoor social conservative, group(job)"
   ]
  },
  {
   "cell_type": "code",
   "execution_count": null,
   "id": "4ef48887",
   "metadata": {},
   "outputs": [],
   "source": [
    "y = discrim.job\n",
    "X = discrim.loc[:, [\"outdoor\", \"social\", \"conservative\"]]\n",
    "lda = LinearDiscriminantAnalysis(solver = 'eigen')\n",
    "lda.fit(X, y)\n",
    "print(lda.explained_variance_ratio_)\n",
    "print(confusion_matrix(y, lda.predict(X)))\n",
    "print(classification_report(y, lda.predict(X)))"
   ]
  },
  {
   "cell_type": "code",
   "execution_count": null,
   "id": "9207c2d3-2894-499b-a428-3b724e78707f",
   "metadata": {},
   "outputs": [],
   "source": [
    "%stata estat classfunctions"
   ]
  },
  {
   "cell_type": "code",
   "execution_count": null,
   "id": "c4613bcc",
   "metadata": {},
   "outputs": [],
   "source": [
    "\n",
    "print(lda.classes_)\n",
    "print(lda.coef_.T, lda.intercept_)"
   ]
  },
  {
   "cell_type": "code",
   "execution_count": null,
   "id": "1b899305-20a7-450f-90f2-eee280434611",
   "metadata": {},
   "outputs": [],
   "source": [
    "%%stata\n",
    "/// Wyniki analizy mozna zaprezentowac na wykresie obrazujacym wartosci zmiennych kanonicznych\n",
    "/// Dla przejrzystosci wykresu przed jego wykonaniem skracamy etykiety kategorii\n",
    "label define job 1 \"c\" 2 \"m\" 3 \"d\", modify\n",
    "scoreplot, msymbol(i)\n",
    "\n",
    "/// Wykres rozrzutu standaryzowanych ladunkow czynnikowych funkcji dyskryminacyjnej\n",
    "/// Pokazuje zaleznosc miedzy srednimi wartosciami oryginalnych zmiennych a wspolczynnikami korelacji kanonicznej\n",
    "loadingplot"
   ]
  },
  {
   "cell_type": "markdown",
   "id": "15b668ff",
   "metadata": {},
   "source": [
    "Te same wyniki mozna uzyskac poleceniem **discrim lda**\n",
    "W przypadku tego polecenia Stata wyswietla wylacznie tablice klasyfikacji"
   ]
  },
  {
   "cell_type": "code",
   "execution_count": null,
   "id": "9e906f51-63da-4f2e-ac51-af2ce333458e",
   "metadata": {},
   "outputs": [],
   "source": [
    "%stata discrim lda outdoor social conservative, group(job)"
   ]
  },
  {
   "cell_type": "code",
   "execution_count": null,
   "id": "2f84546d-37e3-4636-9540-7e8da1f9e8bc",
   "metadata": {},
   "outputs": [],
   "source": [
    "# %stata help FUN postestimation\n",
    "# %stata help discrim lda postestimation"
   ]
  },
  {
   "cell_type": "code",
   "execution_count": null,
   "id": "ca042522",
   "metadata": {},
   "outputs": [],
   "source": [
    "%%stata\n",
    "/// Wyswietlenie tablicy analizy wariancji\n",
    "estat anova\n",
    "/// Tabela wartosci wlasnych i statystyczna istotnosc kierunkow dyskryminacji\n",
    "estat canontest\n",
    "/// Tabela oszacowan parametrow funkcji klasyfikacyjnych\n",
    "estat classfunctions \n",
    "/// Tabela klasyfikacji\n",
    "estat classtable\n",
    "/// Tabela korelacji miedzy zmiennymi\n",
    "estat correlations\n",
    "/// Tabela kowariancji miedzy zmiennymi\n",
    "estat covariance\n",
    "/// Tabela standaryzowanych oszacowan kanonicznych wspolczynnikow dyskryminacji\n",
    "estat loadings\n",
    "/// Macierz struktury kanonicznej\n",
    "estat structure"
   ]
  },
  {
   "cell_type": "markdown",
   "id": "55945b1d",
   "metadata": {},
   "source": [
    "### Przykład 2.\n"
   ]
  },
  {
   "cell_type": "markdown",
   "id": "0c2f6711",
   "metadata": {},
   "source": [
    "Jest to przyklad analizy dyskryminacyjnej, ktory mozna znalezc w niemal kazdym \n",
    "podreczniku analizy wielowymiarowej. Zostal opracowany przez Fishera w 1936 roku\n",
    "Analiza obejmuje trzy odmiany irysow i cztery zmienne opisujace ich cechy:\n",
    "- Dlugosc platka [cm] (petal lenght)\n",
    "- Szerokosc platka [cm] (petal width)\n",
    "- Dlugosc listka kielicha [cm]\n",
    "- Szerokosc listka kielicha [cm]"
   ]
  },
  {
   "cell_type": "code",
   "execution_count": null,
   "id": "5b8a60ef",
   "metadata": {},
   "outputs": [],
   "source": [
    "from multidim.datasets import load_iris\n",
    "iris = load_iris()\n",
    "iris.columns = [\"seplen\", \"sepwid\", \"petlen\", \"petwid\", \"iris\"]\n",
    "iris[\"iris\"] = iris[\"iris\"].astype(\"category\")"
   ]
  },
  {
   "cell_type": "markdown",
   "id": "78e98567",
   "metadata": {},
   "source": [
    "Wykorzystujemy dane z pythona w STATA poprzez argument -d"
   ]
  },
  {
   "cell_type": "code",
   "execution_count": null,
   "id": "1678c0a9-1f67-4661-ad8e-2265f7351472",
   "metadata": {},
   "outputs": [],
   "source": [
    "%%stata -d iris -force\n",
    "di \"Fisher example iris data\"\n",
    "egen giris = group(iris)"
   ]
  },
  {
   "cell_type": "code",
   "execution_count": null,
   "id": "b4a3d501",
   "metadata": {},
   "outputs": [],
   "source": [
    "from multidim.datasets import load_iris\n",
    "iris = load_iris()\n",
    "iris.columns = [\"seplen\", \"sepwid\", \"petlen\", \"petwid\", \"iris\"]\n",
    "iris[\"iris\"] = iris[\"iris\"].astype(\"category\")"
   ]
  },
  {
   "cell_type": "code",
   "execution_count": null,
   "id": "783e9ff3-fe9e-42fe-aaf8-c16c25b0a04b",
   "metadata": {},
   "outputs": [],
   "source": [
    "\n",
    "iris_x = iris.iloc[:,:-1].values\n",
    "iris_y = iris.iloc[:,-1].values\n",
    "# SCALING\n",
    "# W pewnych przypadkach istotna bedzie standaryzacja\n",
    "iris_x_scaled = (iris_x - np.mean(iris_x, axis = 0)) / np.std(iris_x, axis = 0)"
   ]
  },
  {
   "cell_type": "code",
   "execution_count": null,
   "id": "53a4aadd-e238-47ad-b23b-67c4e103a4e3",
   "metadata": {},
   "outputs": [],
   "source": [
    "%stata des"
   ]
  },
  {
   "cell_type": "code",
   "execution_count": null,
   "id": "3d2e8cee",
   "metadata": {},
   "outputs": [],
   "source": [
    "iris.dtypes"
   ]
  },
  {
   "cell_type": "code",
   "execution_count": null,
   "id": "b0cbefa7",
   "metadata": {},
   "outputs": [],
   "source": [
    "%stata bysort giris: su seplen sepwid petlen petwid "
   ]
  },
  {
   "cell_type": "code",
   "execution_count": null,
   "id": "4190c7c5-069f-4be0-a9e6-b18a2ceb4646",
   "metadata": {},
   "outputs": [],
   "source": [
    "iris.\\\n",
    "groupby(\"iris\").\\\n",
    "describe().T"
   ]
  },
  {
   "cell_type": "markdown",
   "id": "f5eec8eb",
   "metadata": {},
   "source": [
    "Analiza dyskryminacji"
   ]
  },
  {
   "cell_type": "code",
   "execution_count": null,
   "id": "7967a8ce",
   "metadata": {},
   "outputs": [],
   "source": [
    "%stata discrim lda seplen sepwid petlen petwid, group(giris)"
   ]
  },
  {
   "cell_type": "code",
   "execution_count": null,
   "id": "219f66e0",
   "metadata": {},
   "outputs": [],
   "source": [
    "lda = LinearDiscriminantAnalysis(solver = 'eigen')\n",
    "lda.fit(iris_x, iris_y)"
   ]
  },
  {
   "cell_type": "markdown",
   "id": "e35dc518",
   "metadata": {},
   "source": [
    "Tabela nieprawidlowo klasyfikowanych obserwacji\n"
   ]
  },
  {
   "cell_type": "code",
   "execution_count": null,
   "id": "fef8bcb2",
   "metadata": {},
   "outputs": [],
   "source": [
    "\n",
    "%stata estat list, misclassified"
   ]
  },
  {
   "cell_type": "code",
   "execution_count": null,
   "id": "b6adf93a",
   "metadata": {},
   "outputs": [],
   "source": [
    "# misclassified\n",
    "np.where(iris_y != lda.predict(iris_x))"
   ]
  },
  {
   "cell_type": "markdown",
   "id": "f1034660",
   "metadata": {},
   "source": [
    "Wagi"
   ]
  },
  {
   "cell_type": "code",
   "execution_count": null,
   "id": "4172e3d5",
   "metadata": {},
   "outputs": [],
   "source": [
    "%stata estat classfunctions\n"
   ]
  },
  {
   "cell_type": "code",
   "execution_count": null,
   "id": "fb792407",
   "metadata": {},
   "outputs": [],
   "source": [
    "\n",
    "print(lda.classes_)\n",
    "lda.coef_.T, lda.intercept_"
   ]
  },
  {
   "cell_type": "markdown",
   "id": "a3382dba",
   "metadata": {},
   "source": [
    "/// Tabela niestandaryzowanych i standaryzowanych oszacowan kanonicznych wspolczynnikow dyskrminacji"
   ]
  },
  {
   "cell_type": "code",
   "execution_count": null,
   "id": "be08af4e",
   "metadata": {},
   "outputs": [],
   "source": [
    "%stata estat loadings, unstandardized standardized\n"
   ]
  },
  {
   "cell_type": "code",
   "execution_count": null,
   "id": "5d1d2100",
   "metadata": {},
   "outputs": [],
   "source": [
    "lda.scalings_[:, 0:2]"
   ]
  },
  {
   "cell_type": "code",
   "execution_count": null,
   "id": "ccf0ceef",
   "metadata": {},
   "outputs": [],
   "source": [
    "%stata loadingplot"
   ]
  },
  {
   "cell_type": "code",
   "execution_count": null,
   "id": "5732cc8d",
   "metadata": {},
   "outputs": [],
   "source": [
    "%stata scoreplot, msymbol(i)"
   ]
  },
  {
   "cell_type": "code",
   "execution_count": null,
   "id": "ebb8f44f",
   "metadata": {},
   "outputs": [],
   "source": [
    "%%stata \n",
    "predict klasyfikacja\n",
    "tab iris klasyfikacja"
   ]
  },
  {
   "cell_type": "code",
   "execution_count": null,
   "id": "923fb626",
   "metadata": {},
   "outputs": [],
   "source": [
    "confusion_matrix(iris_y, lda.predict(iris_x))"
   ]
  },
  {
   "cell_type": "code",
   "execution_count": null,
   "id": "8ebfb2cc-a53c-41c6-8ae1-da41a610fd13",
   "metadata": {},
   "outputs": [],
   "source": [
    "# Tylko 2 pierwsze poziomy (odmiany skorczyka)\n",
    "# 100 pierwszych obserwacji gdyz dane sa posortowane\n",
    "# idx = list(range(100))\n",
    "# lda = LinearDiscriminantAnalysis(n_components = 1, solver = 'eigen')\n",
    "# lda.fit(iris_x_scaled[idx,:], iris_y[idx])\n",
    "# Tutaj tylko jeden wektor wag\n",
    "# print(lda.coef_.T, lda.intercept_)\n",
    "# values = iris_x_scaled[idx,:] @ lda.coef_.T + lda.intercept_\n",
    "# print(1/(1+np.exp(-values)))"
   ]
  },
  {
   "cell_type": "markdown",
   "id": "e3a41253-fbac-4f3a-9ce7-db87eeff243c",
   "metadata": {},
   "source": [
    "### Dodatek Train/Test Prediciton"
   ]
  },
  {
   "cell_type": "code",
   "execution_count": null,
   "id": "921256af-7b38-4906-abce-7504aac93d3e",
   "metadata": {},
   "outputs": [],
   "source": [
    "X_train, X_test, y_train, y_test = train_test_split(iris_x, iris_y, random_state=1234)"
   ]
  },
  {
   "cell_type": "code",
   "execution_count": null,
   "id": "d59646af-14e0-41ca-874c-1f5435bbac14",
   "metadata": {},
   "outputs": [],
   "source": [
    "lda = LinearDiscriminantAnalysis(n_components = 2)\n",
    "lda.fit(X_train, y_train)\n",
    "print(lda.score(X_test, y_test))"
   ]
  },
  {
   "cell_type": "code",
   "execution_count": null,
   "id": "e8a702c7-ece3-4bd5-bb61-eca80d701d1b",
   "metadata": {},
   "outputs": [],
   "source": [
    "# Predykcje\n",
    "# lda.predict_proba(X_test)\n",
    "# OR\n",
    "# values = X_test @ lda.coef_.T + lda.intercept_\n",
    "# values - values.max(axis=1)[:, np.newaxis]\n",
    "# likelihood = np.exp(values - values.max(axis=1)[:, np.newaxis])\n",
    "# predictions = np.round(likelihood / likelihood.sum(axis=1)[:, np.newaxis], 2)"
   ]
  },
  {
   "cell_type": "code",
   "execution_count": null,
   "id": "bdd713d7-7d88-4b0c-853a-872f90a32ea2",
   "metadata": {
    "scrolled": true
   },
   "outputs": [],
   "source": [
    "# Tablica klasyfikacji\n",
    "confusion_matrix(y_test, lda.predict(X_test))"
   ]
  },
  {
   "cell_type": "code",
   "execution_count": null,
   "id": "9d98da28-0bd3-4c25-9de5-da5640990608",
   "metadata": {},
   "outputs": [],
   "source": [
    "print(classification_report(y_test, lda.predict(X_test)))"
   ]
  },
  {
   "cell_type": "markdown",
   "id": "dbc4d900",
   "metadata": {},
   "source": [
    "### Przykład 3.\n"
   ]
  },
  {
   "cell_type": "markdown",
   "id": "39994456-c884-4023-8458-4c7c2853d207",
   "metadata": {},
   "source": [
    "Na podstawie danych z badania Diagnoza Spoleczna 2011 bedziemy analizowac stosunek obywateli do euro"
   ]
  },
  {
   "cell_type": "code",
   "execution_count": null,
   "id": "6b17386c-2cc6-40be-8ead-57f155fcf2be",
   "metadata": {},
   "outputs": [],
   "source": [
    "from multidim.datasets import load_euro\n",
    "euro = load_euro()\n",
    "euro[\"wiek\"] = euro[\"wiek\"].astype(\"int\")"
   ]
  },
  {
   "cell_type": "code",
   "execution_count": null,
   "id": "8b5602e1",
   "metadata": {},
   "outputs": [],
   "source": [
    "%%stata -d euro -force\n",
    "des"
   ]
  },
  {
   "cell_type": "code",
   "execution_count": null,
   "id": "d6aa602c",
   "metadata": {},
   "outputs": [],
   "source": [
    "%%stata\n",
    "/// Zbadajmy rozklad zmiennej zaleznej\n",
    "tab euro"
   ]
  },
  {
   "cell_type": "code",
   "execution_count": null,
   "id": "96876423-f5cc-4573-9c03-07e7503f5da8",
   "metadata": {},
   "outputs": [],
   "source": [
    "euro.dtypes"
   ]
  },
  {
   "cell_type": "code",
   "execution_count": null,
   "id": "b1a518a6-f658-4b69-bb9d-c807765072f2",
   "metadata": {},
   "outputs": [],
   "source": [
    "euro.euro.value_counts()"
   ]
  },
  {
   "cell_type": "code",
   "execution_count": null,
   "id": "f1aaf290-9116-422e-bc81-329a3a08d043",
   "metadata": {},
   "outputs": [],
   "source": [
    "#%stata help discrim knn"
   ]
  },
  {
   "cell_type": "code",
   "execution_count": null,
   "id": "494aa482",
   "metadata": {},
   "outputs": [],
   "source": [
    "%%stata\n",
    "/// Jaki model nalezy wybrac?\n",
    "bysort euro: su wiek klm kobieta wyksz zna_angielski partia_PO partia_PiS\n",
    "corr wiek klm kobieta wyksz zna_angielski partia_PO partia_PiS\n",
    "/// Przeprowadz odpowiednia analize dyskryminacyjna\n",
    "/// Zastanow sie jaki model zastosowac oraz jaki dorbac rozklad a-priori\n",
    "/// Zastanow sie czy wszystkie zmienne dobrze rozdzielaja zbior"
   ]
  },
  {
   "cell_type": "code",
   "execution_count": null,
   "id": "8eeef5e1-e1ba-474d-8c2c-e90247653740",
   "metadata": {},
   "outputs": [],
   "source": [
    "euro[[\"wiek\", \"klm\", \"kobieta\", \"wyksz\", \"zna_angielski\", \"partia_PO\", \"partia_PiS\", \"euro\"]].\\\n",
    "groupby(\"euro\").\\\n",
    "describe().T"
   ]
  },
  {
   "cell_type": "code",
   "execution_count": null,
   "id": "3422a289-74d8-4a73-b407-4cbf524d13d3",
   "metadata": {},
   "outputs": [],
   "source": [
    "euro.apply(lambda x: x if not hasattr(x, 'cat') else x.cat.codes).corr()"
   ]
  },
  {
   "cell_type": "code",
   "execution_count": null,
   "id": "19cda014",
   "metadata": {},
   "outputs": [],
   "source": [
    "%%stata\n",
    "/// Zbadaj stosunek do euro metoda najblizszych sasiadow\n",
    "// losujemy 10% probe prosta by przyspieszyc obliczenia\n",
    "sample 10"
   ]
  },
  {
   "cell_type": "code",
   "execution_count": null,
   "id": "2bc438e7",
   "metadata": {},
   "outputs": [],
   "source": [
    "%%stata\n",
    "egen geuro = group(euro)\n",
    "egen gwyksz = group(wyksz)\n",
    "egen gklm = group(klm)"
   ]
  },
  {
   "cell_type": "markdown",
   "id": "35092761",
   "metadata": {},
   "source": [
    "Zastanow sie jaki rozklad a-priori wybrac aby zbadac poprawnosc klasyfikacji\n"
   ]
  },
  {
   "cell_type": "code",
   "execution_count": null,
   "id": "37a367ac-beac-4a37-8654-dd65d1933eb4",
   "metadata": {},
   "outputs": [],
   "source": [
    "%%stata\n",
    "discrim knn wiek gklm kobieta gwyksz zna_angielski partia_PO partia_PiS, group(geuro) k(5)"
   ]
  },
  {
   "cell_type": "code",
   "execution_count": null,
   "id": "e2031cfa-bc59-4d62-850f-bc1ef79723b8",
   "metadata": {},
   "outputs": [],
   "source": [
    "# Bardzo szybki Algorytm - wiec wszytskie obserwacje\n",
    "neigh = KNeighborsClassifier(n_neighbors=5)\n",
    "X = pd.get_dummies(euro.loc[:, euro.columns != \"euro\"]).values\n",
    "# X.columns = X.columns.str.replace(\"[^a-zA-Z\\_0-9]\", \"\", regex = True)\n",
    "y = euro[\"euro\"]\n",
    "neigh.fit(X, y)"
   ]
  },
  {
   "cell_type": "code",
   "execution_count": null,
   "id": "73336bc4-982f-4c12-bbc2-23a794336628",
   "metadata": {},
   "outputs": [],
   "source": [
    "preds = neigh.predict(X)"
   ]
  },
  {
   "cell_type": "code",
   "execution_count": null,
   "id": "ec3be2bc-c0fd-43ca-913c-9a0fdb9e997e",
   "metadata": {},
   "outputs": [],
   "source": [
    "#Tablica klasyfikacji \n",
    "confusion_matrix(y, preds)"
   ]
  },
  {
   "cell_type": "code",
   "execution_count": null,
   "id": "b38eb89e-853c-46d2-9154-20b1908ccbdd",
   "metadata": {},
   "outputs": [],
   "source": [
    "print(classification_report(y, preds))"
   ]
  },
  {
   "cell_type": "code",
   "execution_count": null,
   "id": "badbc79c",
   "metadata": {},
   "outputs": [],
   "source": []
  }
 ],
 "metadata": {
  "kernelspec": {
   "display_name": "Python 3.10.6 ('.venv': venv)",
   "language": "python",
   "name": "python3"
  },
  "language_info": {
   "codemirror_mode": {
    "name": "ipython",
    "version": 3
   },
   "file_extension": ".py",
   "mimetype": "text/x-python",
   "name": "python",
   "nbconvert_exporter": "python",
   "pygments_lexer": "ipython3",
   "version": "3.10.8"
  },
  "vscode": {
   "interpreter": {
    "hash": "a8685faa0ed749449a0f1a8710c4e7cd8c1c7833bc8ac4d1844d25fbee35609f"
   }
  }
 },
 "nbformat": 4,
 "nbformat_minor": 5
}
