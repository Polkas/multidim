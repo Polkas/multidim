{
 "cells": [
  {
   "cell_type": "markdown",
   "id": "cd0ecd6e",
   "metadata": {},
   "source": [
    "# Analiza Wielowymiarowa - zajecia 3 - Testy parametryczne i nieparametryczne"
   ]
  },
  {
   "cell_type": "code",
   "execution_count": null,
   "id": "69c5451f-58f6-47d7-8ff0-08a3455f6b52",
   "metadata": {
    "tags": []
   },
   "outputs": [],
   "source": [
    "from multidim.utils import resolve_stata, load_stata\n",
    "\n",
    "STATA_PATH, STATA_TYPE = resolve_stata(version = 18, stype = \"se\")\n",
    "# make sure they are proper ones\n",
    "STATA_PATH, STATA_TYPE"
   ]
  },
  {
   "cell_type": "code",
   "execution_count": null,
   "id": "e963f329",
   "metadata": {},
   "outputs": [],
   "source": [
    "load_stata(STATA_PATH, STATA_TYPE)"
   ]
  },
  {
   "cell_type": "code",
   "execution_count": null,
   "id": "40d5b3fb",
   "metadata": {},
   "outputs": [],
   "source": [
    "import pandas as pd\n",
    "import scipy\n",
    "import numpy as np\n",
    "import scipy.stats as stats\n",
    "import sklearn\n",
    "from statsmodels.stats.proportion import proportions_ztest\n",
    "from multidim.funs import f_test"
   ]
  },
  {
   "cell_type": "markdown",
   "id": "68ec11c3",
   "metadata": {},
   "source": [
    "### Uzycie staty w jupyterach"
   ]
  },
  {
   "cell_type": "markdown",
   "id": "7cd5ed6a",
   "metadata": {},
   "source": [
    "%stata dla wywolan jednoliniowych\n",
    "%%stata dla wywolan wieloliniowych"
   ]
  },
  {
   "cell_type": "markdown",
   "id": "00cf2f38",
   "metadata": {},
   "source": [
    "oba wywolania posiadaja dodatkowe argumenty ktore omowimy podczas zajec\n",
    "%%stata -d dane -eret myeret"
   ]
  },
  {
   "cell_type": "markdown",
   "id": "bea6c0fc",
   "metadata": {},
   "source": [
    "Obiekt stata z cala gama metod takich jak stata.run"
   ]
  },
  {
   "cell_type": "markdown",
   "id": "0768219c",
   "metadata": {},
   "source": [
    "### Podstawowe zbiory danych w STATA"
   ]
  },
  {
   "cell_type": "code",
   "execution_count": null,
   "id": "83732135",
   "metadata": {},
   "outputs": [],
   "source": [
    "%stata help dta_examples"
   ]
  },
  {
   "cell_type": "markdown",
   "id": "411ee8f6",
   "metadata": {},
   "source": [
    "### Wczytywanie danych danych"
   ]
  },
  {
   "cell_type": "code",
   "execution_count": null,
   "id": "4702eddc",
   "metadata": {},
   "outputs": [],
   "source": [
    "%stata sysuse auto, clear"
   ]
  },
  {
   "cell_type": "code",
   "execution_count": null,
   "id": "7070fdfd-7535-435c-8078-749ff04ac3d2",
   "metadata": {},
   "outputs": [],
   "source": [
    "?stata.pdataframe_from_data"
   ]
  },
  {
   "cell_type": "code",
   "execution_count": null,
   "id": "7f6efec5",
   "metadata": {},
   "outputs": [],
   "source": [
    "from multidim.datasets import load_auto\n",
    "auto = load_auto()\n",
    "# auto = stata.pdataframe_from_data(missingval = np.NaN, valuelabel = True)\n",
    "# i spowrotem\n",
    "# stata.pdataframe_to_data(auto)"
   ]
  },
  {
   "cell_type": "markdown",
   "id": "c5d164db",
   "metadata": {},
   "source": [
    "### Opis zawartosci zbioru danych"
   ]
  },
  {
   "cell_type": "code",
   "execution_count": null,
   "id": "f0c7572e",
   "metadata": {},
   "outputs": [],
   "source": [
    "%stata describe"
   ]
  },
  {
   "cell_type": "markdown",
   "id": "26fb432c",
   "metadata": {},
   "source": [
    "### Ksiazka kodowa zbioru"
   ]
  },
  {
   "cell_type": "markdown",
   "id": "8c2ee695",
   "metadata": {},
   "source": [
    "Polecenie codebook pozwala nam zbadac charakterystyki per zmienna."
   ]
  },
  {
   "cell_type": "code",
   "execution_count": null,
   "id": "14bb1119",
   "metadata": {},
   "outputs": [],
   "source": [
    "%%stata\n",
    "/* help codebook */\n",
    "/* codebook */\n",
    "codebook make"
   ]
  },
  {
   "cell_type": "code",
   "execution_count": null,
   "id": "cc2e4b4e",
   "metadata": {},
   "outputs": [],
   "source": [
    "auto.dtypes"
   ]
  },
  {
   "cell_type": "markdown",
   "id": "1fe61496",
   "metadata": {},
   "source": [
    "### Wyswietlenie danych"
   ]
  },
  {
   "cell_type": "markdown",
   "id": "c95ff02f",
   "metadata": {},
   "source": [
    "Polecenie list bez dodatkowych zmiennych powinno byc wywolywane na mniejszych zbiorach.  \n",
    "W przypadku wiekszych zbiorow przydatne bedzie uzycie dodatkowych argumentow zawezajacych wyszukanie.\n",
    "W tym przypadku zawezimy wyszukanie samochodow do tych najciezszych."
   ]
  },
  {
   "cell_type": "code",
   "execution_count": null,
   "id": "d2a5d67a",
   "metadata": {},
   "outputs": [],
   "source": [
    "%%stata\n",
    "/* help list */\n",
    "/* list, table */\n",
    "list if weight > 4500"
   ]
  },
  {
   "cell_type": "code",
   "execution_count": null,
   "id": "251e3ee8",
   "metadata": {},
   "outputs": [],
   "source": [
    "auto.query(\"weight > 4500\")"
   ]
  },
  {
   "cell_type": "markdown",
   "id": "ecb70d66",
   "metadata": {},
   "source": [
    "Podglad danych, tabela jak w arkuszu kalkulacyjnym"
   ]
  },
  {
   "cell_type": "code",
   "execution_count": null,
   "id": "b7190be3",
   "metadata": {},
   "outputs": [],
   "source": [
    "# %stata browse"
   ]
  },
  {
   "cell_type": "markdown",
   "id": "bc0bed40",
   "metadata": {},
   "source": [
    "Szybki przeglad zmiennych"
   ]
  },
  {
   "cell_type": "code",
   "execution_count": null,
   "id": "f9ccfc2e",
   "metadata": {},
   "outputs": [],
   "source": [
    "%%stata\n",
    "/* help inspect */\n",
    "/* inspect */\n",
    "inspect weight"
   ]
  },
  {
   "cell_type": "code",
   "execution_count": null,
   "id": "128f134a",
   "metadata": {},
   "outputs": [],
   "source": [
    "%%stata\n",
    "/* Statystyki opisowe */\n",
    "summarize"
   ]
  },
  {
   "cell_type": "code",
   "execution_count": null,
   "id": "079f1dbf",
   "metadata": {},
   "outputs": [],
   "source": [
    "auto.describe()"
   ]
  },
  {
   "cell_type": "markdown",
   "id": "bd9ffe1b",
   "metadata": {},
   "source": [
    "## Testy parametryczne i nieparametryczne dla srednich"
   ]
  },
  {
   "cell_type": "code",
   "execution_count": null,
   "id": "c66e816f-f0f7-4c96-9894-062274e811d9",
   "metadata": {},
   "outputs": [],
   "source": [
    "# %stata help ttest\n",
    "# ?stats.ttest_ind"
   ]
  },
  {
   "cell_type": "markdown",
   "id": "d75b84dd",
   "metadata": {},
   "source": [
    "test t dla srednich przy zalozeniu rownej wariancji.\n",
    "Warto zwrocic uwage ze roznica wynosi -312.2587 jendnak p-value dla wszytskich hipotez jest dosyc niskie gdyz odchylenie standardowe jest relatywnie wysokie."
   ]
  },
  {
   "cell_type": "code",
   "execution_count": null,
   "id": "7d9e4520-2ff4-44c1-be22-1b32cc49b712",
   "metadata": {},
   "outputs": [],
   "source": [
    "data = auto.groupby([\"foreign\"]).agg({\"price\": list})\n",
    "{a: stats.ttest_ind(data.loc[\"Domestic\", \"price\"], data.loc[\"Foreign\", \"price\"], alternative = a) for a in ['two-sided', 'less', 'greater']}"
   ]
  },
  {
   "cell_type": "code",
   "execution_count": null,
   "id": "fb375b6c",
   "metadata": {},
   "outputs": [],
   "source": [
    "%%stata\n",
    "ttest price, by(foreign)"
   ]
  },
  {
   "cell_type": "markdown",
   "id": "2cd1f903",
   "metadata": {},
   "source": [
    "test t dla srednich bez zalozenia o rownej wariancji"
   ]
  },
  {
   "cell_type": "code",
   "execution_count": null,
   "id": "8ecfcdfc-6a4b-4e94-880b-0ae8182adf17",
   "metadata": {},
   "outputs": [],
   "source": [
    "stats.ttest_ind(data.loc[\"Domestic\", \"price\"], data.loc[\"Foreign\", \"price\"], equal_var=False)"
   ]
  },
  {
   "cell_type": "code",
   "execution_count": null,
   "id": "add11c74",
   "metadata": {},
   "outputs": [],
   "source": [
    "%stata ttest price, by(foreign) unequal"
   ]
  },
  {
   "cell_type": "markdown",
   "id": "1e5bfcfa",
   "metadata": {},
   "source": [
    "Histogram zmiennej price"
   ]
  },
  {
   "cell_type": "code",
   "execution_count": null,
   "id": "fcb4b312-1316-476c-a6b8-c6189199d8aa",
   "metadata": {},
   "outputs": [],
   "source": [
    "# matplotlib has to be installed\n",
    "auto.price.hist(bins = 10)"
   ]
  },
  {
   "cell_type": "code",
   "execution_count": null,
   "id": "f78f4897",
   "metadata": {},
   "outputs": [],
   "source": [
    "%stata histogram price, bin(10)"
   ]
  },
  {
   "cell_type": "markdown",
   "id": "94892874",
   "metadata": {},
   "source": [
    "Argument \"by\" moze zostac uzyty na przestrzeni wielu funkcji"
   ]
  },
  {
   "cell_type": "code",
   "execution_count": null,
   "id": "d50c5ac5-65e3-4ddb-be56-a96db0674745",
   "metadata": {},
   "outputs": [],
   "source": [
    "auto.hist(column = \"price\", bins = 10, by = \"foreign\")"
   ]
  },
  {
   "cell_type": "code",
   "execution_count": null,
   "id": "9aadf07b",
   "metadata": {},
   "outputs": [],
   "source": [
    "%stata histogram price, bin(10) by(foreign)"
   ]
  },
  {
   "cell_type": "markdown",
   "id": "b700c516",
   "metadata": {},
   "source": [
    "/* Czy rozklad zmiennej jest zblizony do rozkladu normalnego, jesli nie, to jaki ma rozklad? */"
   ]
  },
  {
   "cell_type": "code",
   "execution_count": null,
   "id": "610037b3-ba81-48b4-9a84-a310672db31b",
   "metadata": {},
   "outputs": [],
   "source": [
    "auto[\"lprice\"] = np.log(auto.price)"
   ]
  },
  {
   "cell_type": "code",
   "execution_count": null,
   "id": "70a258f6",
   "metadata": {},
   "outputs": [],
   "source": [
    "%stata gen lprice = ln(price)"
   ]
  },
  {
   "cell_type": "markdown",
   "id": "d236426d",
   "metadata": {},
   "source": [
    "/* Czy po transformacji zmienna ma rozklad zblizony do normalnego? */"
   ]
  },
  {
   "cell_type": "code",
   "execution_count": null,
   "id": "10501ed7-d68b-4d84-92ad-cdac3f36e49b",
   "metadata": {},
   "outputs": [],
   "source": [
    "stats.shapiro(auto.lprice), stats.shapiro(auto.price)"
   ]
  },
  {
   "cell_type": "code",
   "execution_count": null,
   "id": "039fb337",
   "metadata": {},
   "outputs": [],
   "source": [
    "%stata swilk lprice price"
   ]
  },
  {
   "cell_type": "markdown",
   "id": "f430fbb3",
   "metadata": {},
   "source": [
    "Przeprowadzmy test dla przeksztalconej zmiennej"
   ]
  },
  {
   "cell_type": "code",
   "execution_count": null,
   "id": "c290b106",
   "metadata": {},
   "outputs": [],
   "source": [
    "%%stata\n",
    "ttest lprice, by(foreign)\n",
    "ttest lprice, by(foreign) unequal"
   ]
  },
  {
   "cell_type": "code",
   "execution_count": null,
   "id": "0a5f068d-82c0-4d83-bfde-81ce9e9c4b5d",
   "metadata": {},
   "outputs": [],
   "source": [
    "data = auto.groupby([\"foreign\"]).agg({\"lprice\": list})\n",
    "stats.ttest_ind(data.loc[\"Domestic\", \"lprice\"], data.loc[\"Foreign\", \"lprice\"]),\\\n",
    "stats.ttest_ind(data.loc[\"Domestic\", \"lprice\"], data.loc[\"Foreign\", \"lprice\"], equal_var=False)"
   ]
  },
  {
   "cell_type": "markdown",
   "id": "52b7403e",
   "metadata": {},
   "source": [
    "Test dla proporcji - Dla jednej proby"
   ]
  },
  {
   "cell_type": "markdown",
   "id": "a3a3b0b7",
   "metadata": {},
   "source": [
    "Prosze zwrocic uwage ze na dole wskazane sa Hipotezy alternatywne a nie zerowe."
   ]
  },
  {
   "cell_type": "code",
   "execution_count": null,
   "id": "76a8b6db",
   "metadata": {},
   "outputs": [],
   "source": [
    "# for level 1 - Foreign\n",
    "%stata prtest foreign==.4\n",
    "#  Stata liczy p-value z rozkładu asymptotycznego (normalnego)"
   ]
  },
  {
   "cell_type": "code",
   "execution_count": null,
   "id": "2b6c97e6-6471-40d8-bfcc-d20a34594140",
   "metadata": {},
   "outputs": [],
   "source": [
    "stats.binomtest(auto.foreign.value_counts()[\"Foreign\"], auto.shape[0], .4)"
   ]
  },
  {
   "cell_type": "code",
   "execution_count": null,
   "id": "e33c2f9a-aa11-4849-8890-b147ae09d512",
   "metadata": {},
   "outputs": [],
   "source": [
    "{a: proportions_ztest(auto.foreign.value_counts()[\"Foreign\"].sum(), auto.shape[0], .4, alternative = a) for a in [\"smaller\", \"two-sided\", \"larger\"]}"
   ]
  },
  {
   "cell_type": "markdown",
   "id": "23c17aa2",
   "metadata": {},
   "source": [
    "Sprawdzamy, czy udzial samochodow o cenie pow. 10.000$ jest taki sam jak zagranicznych"
   ]
  },
  {
   "cell_type": "code",
   "execution_count": null,
   "id": "d2732787",
   "metadata": {},
   "outputs": [],
   "source": [
    "%%stata\n",
    "/* Tworzymy zmienna 0-1 o wartosci 1 dla ceny pow. 10.000$ */\n",
    "gen price_10 = (price>10000)\n",
    "prtest price_10==foreign"
   ]
  },
  {
   "cell_type": "code",
   "execution_count": null,
   "id": "b79479e5-b50a-4e5a-a985-1a43cc21c9c0",
   "metadata": {},
   "outputs": [],
   "source": [
    "auto[\"price_10\"] = auto.price > 10000\n",
    "proportions_ztest([auto[\"price_10\"].sum(), auto.foreign.value_counts()[\"Foreign\"]], [auto.shape[0], auto.shape[0]])"
   ]
  },
  {
   "cell_type": "markdown",
   "id": "f589c045",
   "metadata": {},
   "source": [
    "Testy dla wariancji - Test F"
   ]
  },
  {
   "cell_type": "code",
   "execution_count": null,
   "id": "6bcde6b0",
   "metadata": {},
   "outputs": [],
   "source": [
    "%stata sdtest price, by(foreign)"
   ]
  },
  {
   "cell_type": "code",
   "execution_count": null,
   "id": "42013362-322e-4c1b-a27d-c0111b754cfc",
   "metadata": {},
   "outputs": [],
   "source": [
    "data = auto.groupby([\"foreign\"]).agg({\"price\": list})\n",
    "f_test(data.loc[\"Domestic\", \"price\"], data.loc[\"Foreign\", \"price\"])"
   ]
  },
  {
   "cell_type": "markdown",
   "id": "c2014c3f",
   "metadata": {},
   "source": [
    "Test Levene"
   ]
  },
  {
   "cell_type": "code",
   "execution_count": null,
   "id": "4c7ca777",
   "metadata": {},
   "outputs": [],
   "source": [
    "%%stata\n",
    "/* W0 - wartosc statystyki Levene */\n",
    "/* W50 - wartosc statystyki dla testu, w ktorym zamiast sredniej wykorzystano mediane */\n",
    "/* W10 - wartosc statystyki dla testu, w ktorym zamiast sredniej wykorzystano ucieta srednia  */\n",
    "robvar price, by(foreign)"
   ]
  },
  {
   "cell_type": "code",
   "execution_count": null,
   "id": "0431a117-a78e-401f-8b4a-2259474d0f13",
   "metadata": {},
   "outputs": [],
   "source": [
    "stats.f_oneway(data.loc[\"Domestic\", \"price\"], data.loc[\"Foreign\", \"price\"])"
   ]
  },
  {
   "cell_type": "markdown",
   "id": "1cd47169",
   "metadata": {},
   "source": [
    "Testy dla rozkladow - Test Kurskalla - Wallisa"
   ]
  },
  {
   "cell_type": "code",
   "execution_count": null,
   "id": "d34bc7f2",
   "metadata": {},
   "outputs": [],
   "source": [
    "%stata kwallis price, by(foreign)"
   ]
  },
  {
   "cell_type": "code",
   "execution_count": null,
   "id": "53561efd-0299-445e-baf4-9ebe6dfc128b",
   "metadata": {},
   "outputs": [],
   "source": [
    "stats.kruskal(data.loc[\"Domestic\", \"price\"], data.loc[\"Foreign\", \"price\"])"
   ]
  },
  {
   "cell_type": "markdown",
   "id": "b2c04553",
   "metadata": {},
   "source": [
    "Test Kolmogorowa - Smirnowa"
   ]
  },
  {
   "cell_type": "code",
   "execution_count": null,
   "id": "0c21acb8",
   "metadata": {},
   "outputs": [],
   "source": [
    "%stata ksmirnov price, by(foreign)"
   ]
  },
  {
   "cell_type": "code",
   "execution_count": null,
   "id": "a794801f-13a7-40be-b269-168bbe2d1746",
   "metadata": {},
   "outputs": [],
   "source": [
    "# - `two-sided`: The null hypothesis is that the two distributions are\n",
    "#   identical, F(x)=G(x) for all x; the alternative is that they are not\n",
    "#   identical.\n",
    "# - `less`: The null hypothesis is that F(x) >= G(x) for all x; the\n",
    "#   alternative is that F(x) < G(x) for at least one x.\n",
    "# - `greater`: The null hypothesis is that F(x) <= G(x) for all x; the\n",
    "#   alternative is that F(x) > G(x) for at least one x.\n",
    "{ a:stats.ks_2samp(data.loc[\"Domestic\", \"price\"], data.loc[\"Foreign\", \"price\"], alternative = a) for a in [\"less\", \"two-sided\", \"greater\"]}\n",
    "# roznice na pvalue"
   ]
  },
  {
   "cell_type": "markdown",
   "id": "a4cc7c7f",
   "metadata": {},
   "source": [
    "### Cwiczenie\n",
    "Na postawie danych z 4 kwartalu 2009 roku bedziemy porownywac:  \n",
    "1. place kobiet i mezczyzn w Polsce\n",
    "2. wyksztalcenie kobiet i mezczyzn w Polsce\n",
    "Prosze pobrac dane ze strony www.ekonometria.wne.uw.edu.pl i zaladowac do Staty  \n",
    "\n",
    "Korzystajac z odpowiednich testow, prosze sprawdzic:\n",
    "- Czy srednia placa kobiet jest rowna sredniej placy mezczyzn?\n",
    "- Czy zroznicowanie plac kobiet jest rowne zroznicowaniu plac mezczyzn?\n",
    "- Czy rozklad plac kobiet jest rowny rozkladowi plac mezczyzn?\n",
    "- Kto jest lepiej wyksztalcony: kobiety czy mezczyzni?\n",
    "- Czy zroznicowanie poziomu wyksztalcenia jest wieksze wsrod kobiet czy wsrod mezczyzn?\n",
    "- Czy rozklad wyksztalcenia kobiet jest rowny rozkladowi wyksztalcenia mezczyzn?\n"
   ]
  },
  {
   "cell_type": "code",
   "execution_count": null,
   "id": "12c40eb0",
   "metadata": {},
   "outputs": [],
   "source": [
    "%stata clear"
   ]
  },
  {
   "cell_type": "code",
   "execution_count": null,
   "id": "d3806f57",
   "metadata": {},
   "outputs": [],
   "source": [
    "# %stata use ...\n",
    "# pd.read"
   ]
  },
  {
   "cell_type": "markdown",
   "id": "52902976",
   "metadata": {},
   "source": [
    "Kilka ulatwien"
   ]
  },
  {
   "cell_type": "code",
   "execution_count": null,
   "id": "0d36b432",
   "metadata": {},
   "outputs": [],
   "source": [
    "# %%stata\n",
    "# /* Zmiana nazwy zmiennej */\n",
    "# rename pl plec\n",
    "# /* Utworzenie etykiety */\n",
    "# label define plec_lab 1 \"Mezczyzna\" 2 \"Kobieta\"\n",
    "# /* Nadanie etykiety wartosciom zmiennej */\n",
    "# label values plec plec_lab\n",
    "# /* utworzenie zmiennej placa, w bazie wartosc \"99999\" oznacza odmowe odpowiedzi */\n",
    "# gen placa = P37 if (P37!=99999)"
   ]
  },
  {
   "cell_type": "code",
   "execution_count": null,
   "id": "1afedcd9-eccd-4d90-aafc-9e7027b30009",
   "metadata": {},
   "outputs": [],
   "source": []
  },
  {
   "cell_type": "markdown",
   "id": "9cb47fd2",
   "metadata": {},
   "source": [
    "### Cwiczenie\n",
    "Bedziemy pracowac na danych z badania Diagnoza Spoleczna z 2011 roku  \n",
    "Prosze pobrac dane ze strony www.ekonometria.wne.uw.edu.pl i zaladowac zbior osob do Staty  \n",
    "Prosze zapoznac sie z zawartoscia zbioru i odpowiedziec na pytania, przeprowadzajac odpowiednie testy\n",
    "Potrzebne zmienne: identyfikator osoby (dla porzadku), plec, waga, wzrost,wyksztalcenie,zarobki \n",
    "- Czy kobiety przecietnie wiecej waza od mezczyzn?\n",
    "- Czy kobiety sa przecietnie wyzsze od mezczyzn? \n",
    "- Czy kobiety sa lepiej wyksztalcone od mezczyzn? \n",
    "- Czy wsrod osob o wyzszym wyksztalceniu kobiety przecietnie wiecej waza od mezczyzn? \n",
    "- Czy wsrod osob o wyzszym wyksztalceniu kobiety sa przecietnie wyzsze od mezczyzn? \n",
    "- Czy wsrod osob o wyzszym wyksztalceniu kobiety wiecej zarabiaja od mezczyzn? \n"
   ]
  },
  {
   "cell_type": "code",
   "execution_count": null,
   "id": "ff5a84ae-f95d-4401-af01-19383299ffe5",
   "metadata": {},
   "outputs": [],
   "source": []
  }
 ],
 "metadata": {
  "kernelspec": {
   "display_name": "Python 3.10.8 ('.venv': venv)",
   "language": "python",
   "name": "python3"
  },
  "language_info": {
   "codemirror_mode": {
    "name": "ipython",
    "version": 3
   },
   "file_extension": ".py",
   "mimetype": "text/x-python",
   "name": "python",
   "nbconvert_exporter": "python",
   "pygments_lexer": "ipython3",
   "version": "3.10.8"
  },
  "vscode": {
   "interpreter": {
    "hash": "a8685faa0ed749449a0f1a8710c4e7cd8c1c7833bc8ac4d1844d25fbee35609f"
   }
  }
 },
 "nbformat": 4,
 "nbformat_minor": 5
}
