{
 "cells": [
  {
   "cell_type": "markdown",
   "id": "cd0ecd6e",
   "metadata": {},
   "source": [
    "# Analiza Wielowymiarowa - zajecia 2 - Statystyczne podstawy"
   ]
  },
  {
   "cell_type": "code",
   "execution_count": null,
   "id": "f4b6e2eb-1153-4782-a6bf-63824e44a1da",
   "metadata": {},
   "outputs": [],
   "source": [
    "from multidim.utils import resolve_stata, load_stata\n",
    "\n",
    "STATA_PATH, STATA_TYPE = resolve_stata(version = 18, stype = \"se\")\n",
    "# make sure they are proper ones\n",
    "STATA_PATH, STATA_TYPE"
   ]
  },
  {
   "cell_type": "code",
   "execution_count": null,
   "id": "69c5451f-58f6-47d7-8ff0-08a3455f6b52",
   "metadata": {
    "tags": []
   },
   "outputs": [],
   "source": [
    "load_stata(STATA_PATH, STATA_TYPE)"
   ]
  },
  {
   "cell_type": "code",
   "execution_count": null,
   "id": "40d5b3fb",
   "metadata": {},
   "outputs": [],
   "source": [
    "from scipy.stats import norm, t, f, chi2, describe, iqr\n",
    "from numpy import quantile, linspace, std, mean\n",
    "import matplotlib.pyplot as plt"
   ]
  },
  {
   "cell_type": "markdown",
   "id": "68ec11c3",
   "metadata": {},
   "source": [
    "### Uzycie staty w jupyterach"
   ]
  },
  {
   "cell_type": "markdown",
   "id": "7cd5ed6a",
   "metadata": {},
   "source": [
    "%stata dla wywolan jednoliniowych\n",
    "%%stata dla wywolan wieloliniowych"
   ]
  },
  {
   "cell_type": "markdown",
   "id": "00cf2f38",
   "metadata": {},
   "source": [
    "oba wywolania posiadaja dodatkowe argumenty ktore omowimy podczas zajec\n",
    "%%stata -d dane -eret myeret"
   ]
  },
  {
   "cell_type": "markdown",
   "id": "bea6c0fc",
   "metadata": {},
   "source": [
    "Obiekt stata z cala gama metod takich jak stata.run"
   ]
  },
  {
   "cell_type": "markdown",
   "id": "d0e1de71",
   "metadata": {},
   "source": [
    "### Rozpoczynamy wywolywanie Stata poprzez jupyter"
   ]
  },
  {
   "cell_type": "markdown",
   "id": "403f2349",
   "metadata": {},
   "source": [
    "ustawienie liczby obserwacji w zbiorze"
   ]
  },
  {
   "cell_type": "code",
   "execution_count": null,
   "id": "09d3e717",
   "metadata": {},
   "outputs": [],
   "source": [
    "%stata set obs 10000"
   ]
  },
  {
   "cell_type": "markdown",
   "id": "914a1d70",
   "metadata": {},
   "source": [
    " ustawienie generatora liczb pseudolosowych"
   ]
  },
  {
   "cell_type": "code",
   "execution_count": null,
   "id": "1354b7de",
   "metadata": {},
   "outputs": [],
   "source": [
    "%stata set seed 1234"
   ]
  },
  {
   "cell_type": "code",
   "execution_count": null,
   "id": "8f1a0b30",
   "metadata": {},
   "outputs": [],
   "source": [
    "# np.random.seed(1234)\n",
    "from numpy.random import MT19937\n",
    "from numpy.random import RandomState, SeedSequence\n",
    "rs = RandomState(MT19937(SeedSequence(1234)))"
   ]
  },
  {
   "cell_type": "markdown",
   "id": "1b47519b",
   "metadata": {},
   "source": [
    " wylosowanie liczb losowych z rozkladu jednostajnego, opcja double nakazuje wykonanie operacji o podwojonej precyzji numerycznej"
   ]
  },
  {
   "cell_type": "code",
   "execution_count": null,
   "id": "b860ea3a",
   "metadata": {},
   "outputs": [],
   "source": [
    "%stata gen double u=uniform()"
   ]
  },
  {
   "cell_type": "code",
   "execution_count": null,
   "id": "1aa804fa",
   "metadata": {},
   "outputs": [],
   "source": [
    "u = rs.uniform(size = 1000)"
   ]
  },
  {
   "cell_type": "markdown",
   "id": "8fa8af0a",
   "metadata": {},
   "source": [
    " przeksztalcenie zmiennej u na zmienną o rozkladzie normalnym"
   ]
  },
  {
   "cell_type": "code",
   "execution_count": null,
   "id": "a63397d4",
   "metadata": {},
   "outputs": [],
   "source": [
    "%stata gen double x1 = invnorm(u)"
   ]
  },
  {
   "cell_type": "code",
   "execution_count": null,
   "id": "5528bee5",
   "metadata": {},
   "outputs": [],
   "source": [
    "x1 = norm.ppf(u)"
   ]
  },
  {
   "cell_type": "markdown",
   "id": "9d3f815a",
   "metadata": {},
   "source": [
    " histogram"
   ]
  },
  {
   "cell_type": "code",
   "execution_count": null,
   "id": "d9d00022",
   "metadata": {},
   "outputs": [],
   "source": [
    "%stata histogram x1"
   ]
  },
  {
   "cell_type": "code",
   "execution_count": null,
   "id": "5f42f46b",
   "metadata": {},
   "outputs": [],
   "source": [
    "_ = plt.hist(x1, bins='auto')\n",
    "plt.show()"
   ]
  },
  {
   "cell_type": "markdown",
   "id": "c52287c3",
   "metadata": {},
   "source": [
    " szczegółowy opis statystyczny zmiennej"
   ]
  },
  {
   "cell_type": "code",
   "execution_count": null,
   "id": "ede9beb3",
   "metadata": {},
   "outputs": [],
   "source": [
    "%stata su x1, det"
   ]
  },
  {
   "cell_type": "code",
   "execution_count": null,
   "id": "fcf069b1",
   "metadata": {},
   "outputs": [],
   "source": [
    "describe(x1)"
   ]
  },
  {
   "cell_type": "markdown",
   "id": "94a12f13",
   "metadata": {},
   "source": [
    " przekształcenie zmiennej u na zmienną o rozkładzie t-Studenta o 5 stopniach swobowy"
   ]
  },
  {
   "cell_type": "code",
   "execution_count": null,
   "id": "5c5c8e3a",
   "metadata": {},
   "outputs": [],
   "source": [
    "%stata gen double x2 = invt(5,u) "
   ]
  },
  {
   "cell_type": "code",
   "execution_count": null,
   "id": "e3d391f7",
   "metadata": {},
   "outputs": [],
   "source": [
    "x2 = t.ppf(u, 5)"
   ]
  },
  {
   "cell_type": "markdown",
   "id": "daf6e735",
   "metadata": {},
   "source": [
    " histogram"
   ]
  },
  {
   "cell_type": "code",
   "execution_count": null,
   "id": "2540ba30",
   "metadata": {},
   "outputs": [],
   "source": [
    "%stata hist x2, norm"
   ]
  },
  {
   "cell_type": "code",
   "execution_count": null,
   "id": "8bc811be",
   "metadata": {},
   "outputs": [],
   "source": [
    "plt.hist(x2, bins='auto', density=True)\n",
    "xmin, xmax = plt.xlim()\n",
    "x = linspace(xmin, xmax, 100)\n",
    "p = norm.pdf(x, mean(x2), std(x2))\n",
    "plt.plot(x, p, 'k', linewidth=2)\n",
    "plt.show()"
   ]
  },
  {
   "cell_type": "markdown",
   "id": "4b736dd4",
   "metadata": {},
   "source": [
    " szczegółowy opis statystyczny zmiennej"
   ]
  },
  {
   "cell_type": "code",
   "execution_count": null,
   "id": "d021dbf1",
   "metadata": {},
   "outputs": [],
   "source": [
    "%stata su x2, det"
   ]
  },
  {
   "cell_type": "code",
   "execution_count": null,
   "id": "6dc7794b",
   "metadata": {},
   "outputs": [],
   "source": [
    "describe(x2)"
   ]
  },
  {
   "cell_type": "markdown",
   "id": "41bc6eaa",
   "metadata": {},
   "source": [
    " przekształcenie zmiennej u na zmienną o rozkładzie chi-kwadrat o 2 stopniach swobody"
   ]
  },
  {
   "cell_type": "code",
   "execution_count": null,
   "id": "3aec08b2",
   "metadata": {},
   "outputs": [],
   "source": [
    "%stata gen double x3 = invchi2(2,u) "
   ]
  },
  {
   "cell_type": "code",
   "execution_count": null,
   "id": "a75ef296",
   "metadata": {},
   "outputs": [],
   "source": [
    "x3 = chi2.ppf(u, 2)"
   ]
  },
  {
   "cell_type": "markdown",
   "id": "3f6c73f8",
   "metadata": {},
   "source": [
    " histogram"
   ]
  },
  {
   "cell_type": "code",
   "execution_count": null,
   "id": "ae483d77",
   "metadata": {},
   "outputs": [],
   "source": [
    "%stata hist x3, norm"
   ]
  },
  {
   "cell_type": "code",
   "execution_count": null,
   "id": "1e948530",
   "metadata": {},
   "outputs": [],
   "source": [
    "_ = plt.hist(x3, bins='auto')\n",
    "plt.show()"
   ]
  },
  {
   "cell_type": "markdown",
   "id": "befb1bb1",
   "metadata": {},
   "source": [
    " szczegółowy opis statystyczny zmiennej"
   ]
  },
  {
   "cell_type": "code",
   "execution_count": null,
   "id": "e5fca152",
   "metadata": {},
   "outputs": [],
   "source": [
    "%stata su x3, det"
   ]
  },
  {
   "cell_type": "code",
   "execution_count": null,
   "id": "7fccb3da",
   "metadata": {},
   "outputs": [],
   "source": [
    "describe(x3)"
   ]
  },
  {
   "cell_type": "markdown",
   "id": "677e360a",
   "metadata": {},
   "source": [
    " przekształcenie zmiennej u na zmienną o rozkładzie F o 2,10 stopniach swobody"
   ]
  },
  {
   "cell_type": "code",
   "execution_count": null,
   "id": "7ea496ab",
   "metadata": {},
   "outputs": [],
   "source": [
    "%stata gen double x4 = invF(2,10,u) "
   ]
  },
  {
   "cell_type": "code",
   "execution_count": null,
   "id": "ab734af4",
   "metadata": {},
   "outputs": [],
   "source": [
    "x4 = f.ppf(u,2,10)"
   ]
  },
  {
   "cell_type": "markdown",
   "id": "9627f494",
   "metadata": {},
   "source": [
    " histogram"
   ]
  },
  {
   "cell_type": "code",
   "execution_count": null,
   "id": "f80eb874",
   "metadata": {},
   "outputs": [],
   "source": [
    "%stata hist x4, norm"
   ]
  },
  {
   "cell_type": "code",
   "execution_count": null,
   "id": "635b2498",
   "metadata": {},
   "outputs": [],
   "source": [
    "_ = plt.hist(x3, bins='auto')\n",
    "plt.show()"
   ]
  },
  {
   "cell_type": "markdown",
   "id": "4f0bc32d",
   "metadata": {},
   "source": [
    " szczegółowy opis statystyczny zmiennej"
   ]
  },
  {
   "cell_type": "code",
   "execution_count": null,
   "id": "56c77880",
   "metadata": {},
   "outputs": [],
   "source": [
    "%stata su x4, det"
   ]
  },
  {
   "cell_type": "code",
   "execution_count": null,
   "id": "61972817",
   "metadata": {},
   "outputs": [],
   "source": [
    "describe(x4)"
   ]
  },
  {
   "cell_type": "markdown",
   "id": "941fa7b5",
   "metadata": {},
   "source": [
    "## STATYSTYKI OPISOWE "
   ]
  },
  {
   "cell_type": "code",
   "execution_count": null,
   "id": "1ffd7b23",
   "metadata": {},
   "outputs": [],
   "source": [
    "%stata sysuse auto, clear"
   ]
  },
  {
   "cell_type": "code",
   "execution_count": null,
   "id": "179a70c0",
   "metadata": {},
   "outputs": [],
   "source": [
    "from multidim.datasets import load_auto\n",
    "auto = load_auto()\n",
    "# auto = stata.pdataframe_from_data(missingval = np.NaN, valuelabel = True)"
   ]
  },
  {
   "cell_type": "markdown",
   "id": "86cff86d",
   "metadata": {},
   "source": [
    " kwantyle"
   ]
  },
  {
   "cell_type": "code",
   "execution_count": null,
   "id": "7f7705e1",
   "metadata": {},
   "outputs": [],
   "source": [
    "%stata tabstat price, stat(q)"
   ]
  },
  {
   "cell_type": "code",
   "execution_count": null,
   "id": "5baa0fc3",
   "metadata": {},
   "outputs": [],
   "source": [
    "# 8 different methods\n",
    "quantile(auto.price, (0.25, 0.5, 0.75), method=\"averaged_inverted_cdf\")"
   ]
  },
  {
   "cell_type": "markdown",
   "id": "0797bea0",
   "metadata": {},
   "source": [
    " odstep miedzykwantylowy"
   ]
  },
  {
   "cell_type": "code",
   "execution_count": null,
   "id": "8c6a7a46",
   "metadata": {},
   "outputs": [],
   "source": [
    "%stata tabstat price, stat(iqr)"
   ]
  },
  {
   "cell_type": "code",
   "execution_count": null,
   "id": "c4ad62a5",
   "metadata": {},
   "outputs": [],
   "source": [
    "# many different interpolation\n",
    "iqr(auto.price, interpolation = \"nearest\")"
   ]
  },
  {
   "cell_type": "markdown",
   "id": "a057aea1",
   "metadata": {},
   "source": [
    " wykres pudelkowy\n",
    "\n",
    " dolna i górna krawędż pudełka to odpowiednio wartość pierwszego i trzeciego kwartyla, linia w poprzek pudełka prezentuje wartość medany, a \"wasy\" pokazują 95% przedział ufności"
   ]
  },
  {
   "cell_type": "code",
   "execution_count": null,
   "id": "4be3412d",
   "metadata": {},
   "outputs": [],
   "source": [
    "%stata graph box price"
   ]
  },
  {
   "cell_type": "code",
   "execution_count": null,
   "id": "b62fec16",
   "metadata": {},
   "outputs": [],
   "source": [
    "auto.price.plot.box()"
   ]
  },
  {
   "cell_type": "markdown",
   "id": "04066ab4",
   "metadata": {},
   "source": [
    " histogram, opcja bin określa liczbę prostokątów, opcja freq przelicza gestosc na częstości"
   ]
  },
  {
   "cell_type": "code",
   "execution_count": null,
   "id": "0a828454",
   "metadata": {},
   "outputs": [],
   "source": [
    "%stata histogram price, bin(15)"
   ]
  },
  {
   "cell_type": "code",
   "execution_count": null,
   "id": "bafe4b49",
   "metadata": {},
   "outputs": [],
   "source": [
    "auto.price.plot.hist()"
   ]
  },
  {
   "cell_type": "code",
   "execution_count": null,
   "id": "bff136f4",
   "metadata": {},
   "outputs": [],
   "source": [
    "%stata histogram price, bin(15) freq"
   ]
  },
  {
   "cell_type": "code",
   "execution_count": null,
   "id": "f1fe5dc3",
   "metadata": {},
   "outputs": [],
   "source": [
    "auto.price.plot.hist(bins=15)"
   ]
  },
  {
   "cell_type": "markdown",
   "id": "a33f187d",
   "metadata": {},
   "source": [
    " estymator jądrowy"
   ]
  },
  {
   "cell_type": "markdown",
   "id": "abcaec85",
   "metadata": {},
   "source": [
    " o wygładzeniu rozkładu decyduje opcja bwidth - szerokosc pasma"
   ]
  },
  {
   "cell_type": "code",
   "execution_count": null,
   "id": "b69751a4",
   "metadata": {},
   "outputs": [],
   "source": [
    "%stata kdensity price"
   ]
  },
  {
   "cell_type": "code",
   "execution_count": null,
   "id": "95601869",
   "metadata": {},
   "outputs": [],
   "source": [
    "auto.price.plot.kde()"
   ]
  },
  {
   "cell_type": "code",
   "execution_count": null,
   "id": "454eea05",
   "metadata": {},
   "outputs": [],
   "source": [
    "%stata kdensity price, bwidth(1200)"
   ]
  },
  {
   "cell_type": "code",
   "execution_count": null,
   "id": "8748bb07",
   "metadata": {},
   "outputs": [],
   "source": [
    "auto.price.plot.kde(ind=300)"
   ]
  },
  {
   "cell_type": "code",
   "execution_count": null,
   "id": "65bfd2b9",
   "metadata": {},
   "outputs": [],
   "source": [
    "%stata kdensity price, bwidth(10000)"
   ]
  },
  {
   "cell_type": "code",
   "execution_count": null,
   "id": "5f98d3c4",
   "metadata": {},
   "outputs": [],
   "source": [
    "auto.price.plot.kde(ind=3)"
   ]
  },
  {
   "cell_type": "markdown",
   "id": "3035c3c4",
   "metadata": {},
   "source": [
    " wyczyszczenie pamieci"
   ]
  },
  {
   "cell_type": "code",
   "execution_count": null,
   "id": "fed7e2fb",
   "metadata": {},
   "outputs": [],
   "source": [
    "%stata clear"
   ]
  },
  {
   "cell_type": "markdown",
   "id": "ef2ec9ba",
   "metadata": {},
   "source": [
    " zaladowanie zbioru danych auto dostarczonych z pakietem Stata"
   ]
  },
  {
   "cell_type": "code",
   "execution_count": null,
   "id": "a568836b",
   "metadata": {},
   "outputs": [],
   "source": [
    "%stata sysuse auto"
   ]
  },
  {
   "cell_type": "markdown",
   "id": "55827713",
   "metadata": {},
   "source": [
    " jednowymiarowa tabela czestosci"
   ]
  },
  {
   "cell_type": "code",
   "execution_count": null,
   "id": "346c61e0",
   "metadata": {},
   "outputs": [],
   "source": [
    "%stata tab foreign"
   ]
  },
  {
   "cell_type": "code",
   "execution_count": null,
   "id": "9fe57799",
   "metadata": {},
   "outputs": [],
   "source": [
    "# [[ (not [) to persist the DataFrame\n",
    "res = auto.groupby(\"foreign\")[['price']].count()\n",
    "res[\"Percent\"] = (res / res.sum()) * 100\n",
    "res[\"Cum\"] = res[\"Percent\"].cumsum()\n",
    "res"
   ]
  },
  {
   "cell_type": "code",
   "execution_count": null,
   "id": "ddcdb7af",
   "metadata": {},
   "outputs": [],
   "source": []
  }
 ],
 "metadata": {
  "kernelspec": {
   "display_name": "Python 3.10.8 ('.venv': venv)",
   "language": "python",
   "name": "python3"
  },
  "language_info": {
   "codemirror_mode": {
    "name": "ipython",
    "version": 3
   },
   "file_extension": ".py",
   "mimetype": "text/x-python",
   "name": "python",
   "nbconvert_exporter": "python",
   "pygments_lexer": "ipython3",
   "version": "3.10.8"
  },
  "vscode": {
   "interpreter": {
    "hash": "a8685faa0ed749449a0f1a8710c4e7cd8c1c7833bc8ac4d1844d25fbee35609f"
   }
  }
 },
 "nbformat": 4,
 "nbformat_minor": 5
}
