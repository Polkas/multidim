{
    "cells": [
        {
            "cell_type": "markdown",
            "id": "2a48c727",
            "metadata": {
                "tags": []
            },
            "source": [
                "# Analiza Wielowymiarowa - zajecia 6 - Analiza głównych składowych (PCA)"
            ]
        },
        {
            "cell_type": "code",
            "execution_count": null,
            "id": "32b52329",
            "metadata": {},
            "outputs": [],
            "source": [
                "from multidim.utils import resolve_stata, load_stata\n",
                "\n",
                "STATA_PATH, STATA_TYPE = resolve_stata(version = 17, stype = \"se\")\n",
                "# make sure they are proper ones\n",
                "STATA_PATH, STATA_TYPE"
            ]
        },
        {
            "cell_type": "code",
            "execution_count": null,
            "id": "40123e5a",
            "metadata": {},
            "outputs": [],
            "source": [
                "load_stata(STATA_PATH, STATA_TYPE)"
            ]
        },
        {
            "cell_type": "code",
            "execution_count": null,
            "id": "1df4db13",
            "metadata": {},
            "outputs": [],
            "source": [
                "# Załadowanie bibliotek\n",
                "import pandas as pd\n",
                "import numpy as np\n",
                "\n",
                "from sklearn.decomposition import PCA\n",
                "from scipy.linalg import svd\n",
                "\n",
                "from sklearn import datasets\n",
                "\n",
                "import statsmodels.api as sm\n",
                "from statsmodels.stats.outliers_influence import variance_inflation_factor\n",
                "\n",
                "\n",
                "from multidim.funs import corr_mat"
            ]
        },
        {
            "cell_type": "code",
            "execution_count": null,
            "id": "f5417c75",
            "metadata": {},
            "outputs": [],
            "source": [
                "np.random.seed(1234)"
            ]
        },
        {
            "cell_type": "markdown",
            "id": "9979aab1-fd4c-4c58-9f07-632efd3bff5c",
            "metadata": {},
            "source": [
                "## Przykład 1 - Dekompozycja głównych składowych (SVD) a wartości własne (Eigenvalues) and Internals"
            ]
        },
        {
            "cell_type": "code",
            "execution_count": null,
            "id": "2f8470d0-1e77-409a-a2e3-8578580f53a1",
            "metadata": {},
            "outputs": [],
            "source": [
                "iris_set = datasets.load_iris()\n",
                "iris_x = iris_set[\"data\"]\n",
                "# CENTRING\n",
                "iris_x_centred = iris_set[\"data\"] - np.mean(iris_set[\"data\"], axis = 0)\n",
                "#SCALING\n",
                "iris_x_scaled = (iris_set[\"data\"] - np.mean(iris_set[\"data\"], axis = 0))/np.std(iris_set[\"data\"], axis = 0)"
            ]
        },
        {
            "cell_type": "code",
            "execution_count": null,
            "id": "5e811df0-5797-460c-90db-c938d06d36ce",
            "metadata": {},
            "outputs": [],
            "source": [
                "# almost always centring\n",
                "# in most scenerios full scaling\n",
                "# correlation matrix = scaling"
            ]
        },
        {
            "cell_type": "code",
            "execution_count": null,
            "id": "e126cc6a-d481-4add-b637-c51ad30c24dc",
            "metadata": {},
            "outputs": [],
            "source": [
                "# when X CENTRED -> X`X/n = COV(X)\n",
                "np.allclose((iris_x_centred.T @ iris_x_centred) / (iris_x_centred.shape[0] - 1), np.cov(iris_x_centred.T, ddof = 1))"
            ]
        },
        {
            "cell_type": "code",
            "execution_count": null,
            "id": "0b06ff9c-8155-4a8f-8c68-37c5e60334e1",
            "metadata": {},
            "outputs": [],
            "source": [
                "# when X SCALED -> Corr(X) = COV(X)\n",
                "np.allclose(np.corrcoef(iris_x_scaled.T), np.cov(iris_x_scaled.T, ddof=0))"
            ]
        },
        {
            "cell_type": "code",
            "execution_count": null,
            "id": "debad822-40b7-424b-a40a-bb48e6cdabb1",
            "metadata": {},
            "outputs": [],
            "source": [
                "# SVD -> X = U * S * Vt\n",
                "u, s, vh = np.linalg.svd(iris_x_scaled, full_matrices = False)\n",
                "np.allclose(iris_x_scaled, u @ np.diag(s) @ vh)"
            ]
        },
        {
            "cell_type": "code",
            "execution_count": null,
            "id": "99d7348e-76c1-4d53-ba40-52bdb0103fd8",
            "metadata": {},
            "outputs": [],
            "source": [
                "# Eigen -> C = V * S * Vt\n",
                "s_eigen, v_eigen = np.linalg.eigh(np.corrcoef(iris_x.T))\n",
                "np.allclose(np.corrcoef(iris_x.T), v_eigen @ np.diag(s_eigen) @ v_eigen.T)"
            ]
        },
        {
            "cell_type": "code",
            "execution_count": null,
            "id": "ac221e9e",
            "metadata": {},
            "outputs": [],
            "source": [
                "# Unit disc\n",
                "# https://en.wikipedia.org/wiki/Singular_value_decomposition#/media/File:Singular-Value-Decomposition.svg\n",
                "# SVD could be run for square or long shape\n",
                "corr_iris_x = np.corrcoef(iris_x.T)\n",
                "u_s, s_s, vh_s = np.linalg.svd(corr_iris_x, full_matrices = False)\n",
                "assert np.allclose(\n",
                "    np.diag(np.ones((4))) @ corr_iris_x, \n",
                "    corr_iris_x\n",
                ")\n",
                "assert np.allclose(\n",
                "    np.diag(np.ones((4))) @ u_s @ np.diag(s_s) @ vh_s, \n",
                "    corr_iris_x\n",
                ")"
            ]
        },
        {
            "cell_type": "code",
            "execution_count": null,
            "id": "8b3de809-2cd4-4406-a539-fc25a3c23128",
            "metadata": {},
            "outputs": [],
            "source": [
                "# principal components\n",
                "pca_svd = pd.DataFrame(iris_x_scaled @ vh.T)\n",
                "pca_svd_alt = pd.DataFrame(u @ np.diag(s))\n",
                "assert np.allclose(pca_svd, pca_svd_alt)\n",
                "pca_eigen = pd.DataFrame(iris_x_scaled @ v_eigen)"
            ]
        },
        {
            "cell_type": "code",
            "execution_count": null,
            "id": "92a51609",
            "metadata": {},
            "outputs": [],
            "source": [
                "# direction is stable (kierunek) but not sense (zwrot)\n",
                "# from sklearn.utils.extmath import svd_flip\n",
                "# Sign correction to ensure deterministic output from SVD.\n",
                "# Adjusts the columns of u and the rows of v such that the loadings in the\n",
                "# columns in u that are largest in absolute value are always positive."
            ]
        },
        {
            "cell_type": "markdown",
            "id": "126b29fa",
            "metadata": {},
            "source": [
                "Ładunki czynnikowe (ang. Loadings )\n",
                "\n",
                "Korelacje między oryginalnymi zmiennymi a składowymi głównymi (correlations between the original variables and the principal components)"
            ]
        },
        {
            "cell_type": "code",
            "execution_count": null,
            "id": "ece668ca-3ff2-4687-8533-ea53512909ff",
            "metadata": {},
            "outputs": [],
            "source": [
                "pca_nams = ['PC1', 'PC2', 'PC3', 'PC4']\n",
                "feature_nams = iris_set[\"feature_names\"]\n",
                "# loadings from sklearn\n",
                "pca = PCA(n_components = 4)\n",
                "X = pca.fit_transform(iris_x_scaled)\n",
                "loadings1 = pd.DataFrame(pca.components_.T * np.sqrt(pca.explained_variance_), index = pca_nams, columns = feature_nams)\n",
                "# Loadings from numpy svd decomposition\n",
                "loadings2 = pd.DataFrame(vh.T * s/np.sqrt(iris_x_scaled.shape[0] - 1), index = pca_nams, columns = feature_nams)\n",
                "# Loadings by directly getting correlations between variables and prinicpal components\n",
                "loadings3 = pd.DataFrame(corr_mat(pca_svd, iris_x_scaled).values, columns = pca_nams, index = feature_nams)\n",
                "loadings1.T, loadings2.T, loadings3"
            ]
        },
        {
            "cell_type": "code",
            "execution_count": null,
            "id": "c148d158-2316-4537-af2c-b6ee0f031614",
            "metadata": {},
            "outputs": [],
            "source": [
                "# e.g. first PCA component == original data * first rotation\n",
                "assert np.allclose(\n",
                "    np.round(pca_svd.iloc[:,0].values, 2), \n",
                "    np.round(vh.T[:, 0] @ iris_x_scaled.T, 2)\n",
                ")\n",
                "ev = pd.DataFrame(vh.T)\n",
                "ev.index = iris_set.feature_names\n",
                "ev"
            ]
        },
        {
            "cell_type": "markdown",
            "id": "ab7ae6bb",
            "metadata": {},
            "source": [
                "Korelacje pomiędzy czynnikami głównymi (ang. correlation between principal components)"
            ]
        },
        {
            "cell_type": "code",
            "execution_count": null,
            "id": "d866375c-ac54-4099-b77c-4535b4ac91e6",
            "metadata": {},
            "outputs": [],
            "source": [
                "pca_svd.corr(), pca_eigen.corr()"
            ]
        },
        {
            "cell_type": "markdown",
            "id": "46c2e1e7",
            "metadata": {},
            "source": [
                "Wartości własne (ang. Eigenvalues)"
            ]
        },
        {
            "cell_type": "code",
            "execution_count": null,
            "id": "02808a2d-3b65-462c-99f0-b56783822723",
            "metadata": {},
            "outputs": [],
            "source": [
                "index_eigen = [i[0] for i in sorted(enumerate(s_eigen), reverse=True, key = lambda x: x[1])]"
            ]
        },
        {
            "cell_type": "code",
            "execution_count": null,
            "id": "f0611c6f-ab43-4ffe-898e-c3d9e5c2e606",
            "metadata": {},
            "outputs": [],
            "source": [
                "pd.DataFrame(s**2 / (iris_x_scaled.shape[0]), s_eigen[index_eigen])"
            ]
        },
        {
            "cell_type": "markdown",
            "id": "0da92302",
            "metadata": {},
            "source": [
                "Pierwsze wiersze czynników głównych (ang. First rows of principal components)"
            ]
        },
        {
            "cell_type": "code",
            "execution_count": null,
            "id": "482ee345-da56-427b-b67d-e9bd706999a0",
            "metadata": {},
            "outputs": [],
            "source": [
                "pca_svd.head(), pca_eigen[index_eigen].head()"
            ]
        },
        {
            "cell_type": "markdown",
            "id": "b80815e0-c5ba-44a6-ab03-2be923f3599b",
            "metadata": {},
            "source": [
                "### PCA wykres na podstawie 2 pierwszych komponentow\n",
                "\n",
                "Prosze pamietac ze informacja o odmianach iris-ow (y) nie byla wykorzystana przy obliczaniu PCA"
            ]
        },
        {
            "cell_type": "code",
            "execution_count": null,
            "id": "48cbc312-366e-4946-8d91-c0e21ed7a437",
            "metadata": {},
            "outputs": [],
            "source": [
                "pca_svd.plot(\n",
                "    x = 0,\n",
                "    y = 1, \n",
                "    color = pd.Series(iris_set[\"target\"]).map({0: \"b\", 1: \"r\", 2: \"y\"}), \n",
                "    kind = \"scatter\"\n",
                ")"
            ]
        },
        {
            "cell_type": "markdown",
            "id": "b58d0e58",
            "metadata": {},
            "source": [
                "Iloraz wiariancji pokazuje udział kolejnych komponentow"
            ]
        },
        {
            "cell_type": "code",
            "execution_count": null,
            "id": "5494a6fc-0bd5-4606-a775-3aefc6829df0",
            "metadata": {},
            "outputs": [],
            "source": [
                "s_eigen[index_eigen] / np.sum(s_eigen),\\\n",
                "s**2 / np.sum(s**2)"
            ]
        },
        {
            "cell_type": "markdown",
            "id": "5eda8fd6-30fd-426f-a102-341716622462",
            "metadata": {},
            "source": [
                "## Przyklad 2 -- seul1988 -- wyniki dziesiecioboju mezczyzn w Seulu w 1988"
            ]
        },
        {
            "cell_type": "code",
            "execution_count": null,
            "id": "d48de20f-c1bf-42a4-9be4-25cb9ee922a2",
            "metadata": {},
            "outputs": [],
            "source": [
                "from multidim.datasets import load_seul1988\n",
                "seul1988 = load_seul1988()\n",
                "seul1988_copy = seul1988.copy()"
            ]
        },
        {
            "cell_type": "markdown",
            "id": "ffce172b-2765-49ff-bb3a-9d24de7e8e9f",
            "metadata": {},
            "source": [
                "Sprawdzamy czy w zbiorze danych sa obserwacje nietypowe - zmienna wynik"
            ]
        },
        {
            "cell_type": "code",
            "execution_count": null,
            "id": "b5826a1e-ee1d-4a93-b523-7a22c229fef8",
            "metadata": {},
            "outputs": [],
            "source": [
                "%%stata -d seul1988_copy -force\n",
                "des"
            ]
        },
        {
            "cell_type": "code",
            "execution_count": null,
            "id": "22c503b4",
            "metadata": {},
            "outputs": [],
            "source": [
                "seul1988.shape, seul1988.dtypes"
            ]
        },
        {
            "cell_type": "code",
            "execution_count": null,
            "id": "d03dbf91",
            "metadata": {},
            "outputs": [],
            "source": [
                "%%stata\n",
                "graph box wynik, title(\"Wykres pudelkowy\")\n",
                "/*Istnieje jedna potencjalna obserwacja nietypowa.*/"
            ]
        },
        {
            "cell_type": "code",
            "execution_count": null,
            "id": "3e6d72e0",
            "metadata": {},
            "outputs": [],
            "source": [
                "seul1988[\"wynik\"].plot(kind = \"box\")"
            ]
        },
        {
            "cell_type": "markdown",
            "id": "b1b6b789-daab-4eee-92ff-26c0a9b0c0f3",
            "metadata": {},
            "source": [
                "Przygotowujemy zbior danych do analizy -- usuwamy obserwacje potencjalnie nietypowa oraz  przemnazamy wyniki uzyskane w konkurencjach biegowych przez -1, tak aby najnizsza wartosc oznaczala najgorszy wynik"
            ]
        },
        {
            "cell_type": "code",
            "execution_count": null,
            "id": "5607ab08-a701-445b-959c-9853da16d4d6",
            "metadata": {},
            "outputs": [],
            "source": [
                "%%stata -qui\n",
                "drop if wynik < 6000\n",
                "gen bieg100_1 = bieg100 * (-1)\n",
                "gen bieg400_1 = bieg400 * (-1)\n",
                "gen plotki_1 = plotki * (-1)\n",
                "gen bieg1500_1 = bieg1500 * (-1)\n",
                "\n",
                "replace bieg100 = bieg100_1\n",
                "replace bieg400 = bieg400_1\n",
                "replace bieg1500 = bieg1500_1\n",
                "replace plotki = plotki_1\n",
                "drop bieg100_1 bieg400_1 plotki_1 bieg1500_1"
            ]
        },
        {
            "cell_type": "code",
            "execution_count": null,
            "id": "88b71fcb-5f8f-403e-af00-632ea6043e4b",
            "metadata": {},
            "outputs": [],
            "source": [
                "seul1988 = seul1988.query(\"wynik >= 6000\")\n",
                "seul1988[\"bieg100\"] = seul1988.bieg100 * -1\n",
                "seul1988[\"bieg400\"] = seul1988.bieg400 * -1\n",
                "seul1988[\"bieg1500\"] = seul1988.bieg1500 * -1\n",
                "seul1988[\"plotki\"] = seul1988.plotki * -1"
            ]
        },
        {
            "cell_type": "code",
            "execution_count": null,
            "id": "7ffeb575-ebfe-4781-a0a6-98c04c51eb99",
            "metadata": {},
            "outputs": [],
            "source": [
                "%%stata\n",
                "/*Przeprowadzamy analize glownych skladowych. Domyslnie wykorzystywana jest macierz korelacji*/\n",
                "corr bieg100-bieg1500\n",
                "summarize bieg100-bieg1500"
            ]
        },
        {
            "cell_type": "code",
            "execution_count": null,
            "id": "be7d3bbf-bac3-4db7-b286-13c8e289465f",
            "metadata": {},
            "outputs": [],
            "source": [
                "%%stata\n",
                "/*Przeprowadzamy analize glownych skladowych. Domyslnie wykorzystywana jest macierz korelacji*/\n",
                "pca bieg100-bieg1500\n",
                "\n",
                "/*Tylko pierwsze dwie glowne skladowe maja wartosci wlasne wieksze od 1 (co jest rownoznaczne z wyjasniona wariancja wieksza niz srednia) i wyjasniaja ponad\n",
                "60% calkowitej wariancji.*/\n",
                "\n",
                "/*Interpretacja dwoch pierwszych skladowych:\n",
                "pierwsza -- mierzy osiagniety wynik (wszystkie wspolczynniki dodatnie)\n",
                "druga -- ma wysokie wartosci dla konkurencji zwiazanych z rzucaniem i sila (kula, dysk, oszczep) i\n",
                "duze ujemne dla wytrzymalosciowych (biegi na 400 i 1500 metrow)*/\n",
                "\n",
                "/*Okreslenie liczby skladowych glownych, ktore dobrze opisuja wariancje wyjsciowych zmiennych*/"
            ]
        },
        {
            "cell_type": "code",
            "execution_count": null,
            "id": "9db8f841-a5a9-4aad-a8ee-5b8ac169af18",
            "metadata": {},
            "outputs": [],
            "source": [
                "cols_x = ['bieg100', 'skok_w_dal', 'rzut_kula', 'skok_wzwyz', \n",
                "          'bieg400', 'plotki', 'rzut_dysk', 'tyczka', 'oszczep', 'bieg1500']\n",
                "seul1988_x = seul1988[cols_x]\n",
                "centred_seul1988_x = pd.DataFrame(seul1988_x - np.mean(seul1988_x), columns=cols_x)\n",
                "scaled_seul1988_x = pd.DataFrame(seul1988_x - np.mean(seul1988_x), columns=cols_x) / np.std(seul1988_x)"
            ]
        },
        {
            "cell_type": "code",
            "execution_count": null,
            "id": "4adf576e-3d83-4be7-9a0e-ecb672605702",
            "metadata": {},
            "outputs": [],
            "source": [
                "# seul1988_x.corr()\n",
                "# seul1988_x.describe().T"
            ]
        },
        {
            "cell_type": "code",
            "execution_count": null,
            "id": "bb55dd35-ef04-495f-9038-e3914b77f2e4",
            "metadata": {},
            "outputs": [],
            "source": [
                "# https://github.com/scikit-learn/scikit-learn/blob/main/sklearn/decomposition/_pca.py\n",
                "pca = PCA(svd_solver = 'full')\n",
                "# SVD\n",
                "# X = U * S * Vt\n",
                "U, s, Vt = np.linalg.svd(scaled_seul1988_x, full_matrices = False)"
            ]
        },
        {
            "cell_type": "markdown",
            "id": "bc4bec22",
            "metadata": {},
            "source": [
                "Główne składowe (ang. Principal components)"
            ]
        },
        {
            "cell_type": "code",
            "execution_count": null,
            "id": "6c209621-5957-4c4e-b2e9-af9669bcaa90",
            "metadata": {},
            "outputs": [],
            "source": [
                "# principal components\n",
                "# X_principals = X * V = U * S * Vt * V = U * S\n",
                "pca_components = pca.fit_transform(scaled_seul1988_x)\n",
                "np.abs(np.round(pca_components, 2)), np.abs(np.round(np.matmul(scaled_seul1988_x,  Vt.T), 2))\n",
                "pca.explained_variance_ratio_, (s**2 / np.sum(s**2))"
            ]
        },
        {
            "cell_type": "code",
            "execution_count": null,
            "id": "d5a65e03-1690-4374-93a8-79b4b244b0ee",
            "metadata": {},
            "outputs": [],
            "source": [
                "# rotation matrix\n",
                "# np.abs needed\n",
                "np.abs(np.round(Vt.T, 3)), np.abs(np.round(pca.components_.T, 3))\n",
                "pd.DataFrame(Vt.T)"
            ]
        },
        {
            "cell_type": "code",
            "execution_count": null,
            "id": "bd5832e7",
            "metadata": {},
            "outputs": [],
            "source": [
                "%stata predict comp1-comp2"
            ]
        },
        {
            "cell_type": "code",
            "execution_count": null,
            "id": "a9d56cd6-1d90-4135-8e3a-7e88dc82bef9",
            "metadata": {},
            "outputs": [],
            "source": [
                "%%stata\n",
                "/*Wykres osypiska*/\n",
                "screeplot, mean /*Wykres kolejnych wartosci wlasnych; \"mean\" - zostaje naniesiona prosta odpowiadajaca sredniej z wartosci wlasnych*/\n",
                "screeplot, ci /*Dodatkowo zostaje nalozony przedzial ufnosci*/"
            ]
        },
        {
            "cell_type": "code",
            "execution_count": null,
            "id": "4e62e5da-2cb7-4229-8198-a6eac4bba6ce",
            "metadata": {},
            "outputs": [],
            "source": [
                "pd.Series(s**2 / seul1988_x.shape[0]).plot()"
            ]
        },
        {
            "cell_type": "code",
            "execution_count": null,
            "id": "ba70d846-f71a-4cc1-b72a-c8884ea0dd27",
            "metadata": {},
            "outputs": [],
            "source": [
                "%%stata\n",
                "/*Wykres wspólczynników dla poszczegolnych zmiennych - przydatne przy interpretacji skladowych glownych*/\n",
                "loadingplot /*Tylko dla dwóch pierwszych wektorów wlasnych*/"
            ]
        },
        {
            "cell_type": "code",
            "execution_count": null,
            "id": "ac3a5367-7e37-4743-aab4-65de787a8d43",
            "metadata": {},
            "outputs": [],
            "source": [
                "loadings = pd.DataFrame(Vt.T * s / np.sqrt(seul1988_x.shape[0] - 1))\n",
                "ax = loadings.plot.scatter(0,1)\n",
                "cols = seul1988_x.columns.tolist()\n",
                "for i in range(loadings.shape[0]):\n",
                "    ax.text(x = loadings.iloc[i,0], y = loadings.iloc[i,1], s = cols[i])"
            ]
        },
        {
            "cell_type": "markdown",
            "id": "80cdc522",
            "metadata": {},
            "source": [
                "Wykres dwoch pierwszych czynników głównych\n",
                "First two prinicipal components vs not known during extraction \"wynik\""
            ]
        },
        {
            "cell_type": "code",
            "execution_count": null,
            "id": "0b088bb6-b516-4a1e-b39e-919949af027b",
            "metadata": {},
            "outputs": [],
            "source": [
                "pd.DataFrame(pca_components).plot.scatter(0, 1, c = seul1988[\"wynik\"], colormap = \"winter\")"
            ]
        },
        {
            "cell_type": "code",
            "execution_count": null,
            "id": "d8a31923-1ffb-4495-a0f2-fea751522a99",
            "metadata": {},
            "outputs": [],
            "source": [
                "#%%stata\n",
                "#mvtest normality  bieg100-bieg1500, stats(all)\n",
                "#pca bieg100-bieg1500, cov vce(normal)\n",
                "#testparm bieg100-bieg1500, equal eq(Comp1)\n",
                "#\n",
                "#/*niestety, nie jest spelnione zalozenie o wielowymiarowym rozkladzie normalnym*/\n",
                "#\n",
                "#/*Dalej analizujemy tylko dwie pierwsze glowne skladowe. */"
            ]
        },
        {
            "cell_type": "code",
            "execution_count": null,
            "id": "854e72f5-2e44-4458-b3fb-806850f0926d",
            "metadata": {},
            "outputs": [],
            "source": [
                "#%%stata\n",
                "#/*Jeszcze wyznaczmy macierz korelacji*/\n",
                "#pwcorr bieg100-bieg1500 wynik comp2 comp1\n",
                "#sum bieg100-bieg1500 wynik comp2 comp1"
            ]
        },
        {
            "cell_type": "code",
            "execution_count": null,
            "id": "c6bdd4c8-e16f-4e32-be7d-cbcd4fa92ccc",
            "metadata": {},
            "outputs": [],
            "source": [
                "%%stata\n",
                "//Weryfikacja poprawności przeprowadzonej analizy głównych składowych (PCA)\n",
                "\n",
                "/*Aby sprawdzic, czy wystarczajaco dobrze odtworzylismy zmiennosc wykorzystamy \"reszty\" -\n",
                "roznice pomiedzy zaobserwowanymi korelacjami a tymi odtworzonymi za pomoca tylko kilku pierwszych skladowych*/\n",
                "\n",
                "pca  bieg100 - bieg1500, components(3) /*Rozwiazanie skladajace sie z 3 pierwszych skladowych glownych*/\n",
                "estat residual, fit /*Macierz \"resztowa\" oraz macierz korelacji odtworzona za pomoca 3 pierwszych skladowych*/\n",
                "corr bieg100 - bieg1500"
            ]
        },
        {
            "cell_type": "code",
            "execution_count": null,
            "id": "dab5a5f5-c28a-465c-9775-8c7baf803566",
            "metadata": {},
            "outputs": [],
            "source": [
                "cor_original = np.corrcoef(scaled_seul1988_x.T)\n",
                "# set to zero not used principal components\n",
                "s3 = np.concatenate([s[:3], [0] * 7]) \n",
                "# Eigen -> C = V * (S**2/ (n-1)) * Vt\n",
                "cor_pca3 = Vt.T @ (np.diag(s3 ** 2) / (seul1988.shape[0] - 1)) @ Vt\n",
                "pd.DataFrame(cor_original).round(3),\\\n",
                "pd.DataFrame(cor_pca3).round(3),\\\n",
                "pd.DataFrame(cor_original - cor_pca3).round(3)"
            ]
        },
        {
            "cell_type": "code",
            "execution_count": null,
            "id": "615b26da-f093-4c3e-aa84-2463d9ba7758",
            "metadata": {},
            "outputs": [],
            "source": [
                "%%stata\n",
                "/*Sprawdzenie, czy zmienne wejsciowe sa ze soba skorelowane.\n",
                "Czyli sprawdzamy czy ma sens w ogole przeprwowadzenie analizy skladowych glownych*/\n",
                "\n",
                "/*1. Pierwszy sposob to analiza R^2*/\n",
                "estat smc\n",
                "reg  bieg100 skok_w_dal - bieg1500  /*sprawdzenie, skad sie biora te wartosci*/\n",
                "\n",
                "//WNIOSEK: \"Skok wzwyz\" wykazuje najmniejsza zaleznosc z pozostalymi konkurencjami"
            ]
        },
        {
            "cell_type": "code",
            "execution_count": null,
            "id": "cdbfbfc4-d34f-42d9-a2a3-d07c3154b858",
            "metadata": {},
            "outputs": [],
            "source": [
                "%%stata\n",
                "/*2. Drugi sposób:  \"anti-image correlation\" (minus korelacja czastkowa).*/\n",
                "\n",
                "/*Korelacja czastkowa pokazuje \"czysta\" zaleznosc miedzy dwoma zmiennymi, traktujac pozostale jako stale.\n",
                "Dazymy do uzyskania malej korelacji czastkowej!\n",
                "Jesli wiele tych korelacji jest relatywnie duzych, to zaleznosc pomiedzy niektorymi zmiennymi nie zalezy od poziomu pozostalych zmiennych.\n",
                "Tym samym moze byc trudno uzyskac wlasciwe rozwiazanie malego wymiaru. */\n",
                "\n",
                "pca  bieg100 - bieg1500\n",
                "estat anti, nocov /*\"anti-image correlation\" (minus korelacja czastkowa)*/\n",
                "pcorr  bieg100  skok_w_dal - bieg1500 /*Korelacje czastkowe zmiennej bieg100 z pozostalymi*/"
            ]
        },
        {
            "cell_type": "code",
            "execution_count": null,
            "id": "4abb002a-e035-466a-87fe-03c0cddac5d1",
            "metadata": {},
            "outputs": [],
            "source": [
                "%%stata\n",
                "/*3. Trzeci sposób: statystyka adekwatnosci proby Kaiser-Meyer-Olkin.*/\n",
                "// pierwsza linia kodu  to rezultat uruchamiania Stata przez Jupytera, w Stata ponowne szacowanie \n",
                "// analizy skladowych glownych jest zbędne\n",
                "qui pca  bieg100 - bieg1500\n",
                "estat kmo\n",
                "\n",
                "/*Bez  zmiennej \"skok_wzwyz\"*/\n",
                "pca bieg100 - kula bieg400 - bieg1500\n",
                "estat kmo /*Wielkosc statystyki ulegla nieznacznej poprawie*/\n",
                "\n",
                "/*Wykres wspolczynnikow dla poszczegolnych zmiennych -- przydatne przy interpretacji skladowych glownych*/\n",
                "pca  bieg100 - bieg1500\n",
                "loadingplot, comp(3) combined /*3 pierwsze skladowe glowne*/\n",
                "\n",
                "pca bieg100 - kula bieg400 - bieg1500\n",
                "loadingplot, comp(3) combined /*bez \"skoku wzwyz\"*/"
            ]
        },
        {
            "cell_type": "markdown",
            "id": "9e6747ac-5d0f-4bbc-9512-768200f58c5a",
            "metadata": {},
            "source": [
                "## Przykład 3 - Regresja Liniowa"
            ]
        },
        {
            "cell_type": "code",
            "execution_count": null,
            "id": "b8be9cde-e17d-472c-a025-f41f417ee8bb",
            "metadata": {},
            "outputs": [],
            "source": [
                "X = seul1988_x.copy()\n",
                "X[\"const\"] = 1\n",
                "y = seul1988[\"wynik\"]\n",
                "ols = sm.OLS(y, X)\n",
                "ols_result = ols.fit()\n",
                "print(ols_result.summary())"
            ]
        },
        {
            "cell_type": "code",
            "execution_count": null,
            "id": "af806163-9973-4d8a-9ec6-3c9ab4180980",
            "metadata": {},
            "outputs": [],
            "source": [
                "# VIF\n",
                "pd.DataFrame({\n",
                "    \"variable\": seul1988_x.columns, \n",
                "    \"VIF\": [variance_inflation_factor(seul1988_x, i) for i in range(seul1988_x.shape[1])]\n",
                "})"
            ]
        },
        {
            "cell_type": "code",
            "execution_count": null,
            "id": "480db3f3-06db-4b32-9d18-b1bf06dd32d7",
            "metadata": {},
            "outputs": [],
            "source": [
                "x_skok = centred_seul1988_x[['skok_w_dal', 'skok_wzwyz', 'tyczka']]\n",
                "x_bieg = centred_seul1988_x[['bieg100','bieg400', 'bieg1500', 'plotki']]\n",
                "x_atlet = centred_seul1988_x[['rzut_kula','rzut_dysk', 'oszczep']]\n",
                "\n",
                "svd_skok = np.linalg.svd(x_skok, full_matrices = False)\n",
                "svd_bieg = np.linalg.svd(x_bieg, full_matrices = False)\n",
                "svd_atlet = np.linalg.svd(x_atlet, full_matrices = False)\n",
                "\n",
                "print(svd_skok[1]**2/np.sum(svd_skok[1]**2))\n",
                "print(svd_bieg[1]**2/np.sum(svd_bieg[1]**2))\n",
                "print(svd_atlet[1]**2/np.sum(svd_atlet[1]**2))\n",
                "\n",
                "pca_skok = x_skok @ svd_skok[2].T\n",
                "pca_bieg = x_bieg @ svd_bieg[2].T\n",
                "pca_atlet = x_atlet @ svd_atlet[2].T"
            ]
        },
        {
            "cell_type": "code",
            "execution_count": null,
            "id": "2a0a39b2-2a54-4dde-804e-0ed4891dd874",
            "metadata": {},
            "outputs": [],
            "source": [
                "svd_skok[2].T[:, 0],\\\n",
                "svd_bieg[2].T[:, 0],\\\n",
                "svd_atlet[2].T[:, 0]"
            ]
        },
        {
            "cell_type": "code",
            "execution_count": null,
            "id": "2d09ffe8-8e26-4c78-b57c-b52a7ad34d1a",
            "metadata": {},
            "outputs": [],
            "source": [
                "# We do not now the sense (zwrot)\n",
                "X = pd.concat([pca_skok.iloc[:,0]*-1, pca_bieg.iloc[:,0], pca_atlet.iloc[:,0]*-1], axis = 1)\n",
                "X.columns = [\"skok\", \"bieg\", \"atlet\"]\n",
                "print(pd.DataFrame({\"variable\": X.columns, \"VIF\": [variance_inflation_factor(X, i) for i in range(X.shape[1])]}))\n",
                "X[\"const\"] = 1\n",
                "y = seul1988[\"wynik\"]\n",
                "ols = sm.OLS(y, X)\n",
                "ols_result = ols.fit()\n",
                "print(ols_result.summary())"
            ]
        },
        {
            "cell_type": "code",
            "execution_count": null,
            "id": "059094ba-81c0-46f0-baed-4b5b5a7d2607",
            "metadata": {},
            "outputs": [],
            "source": [
                "# Interpretacja?"
            ]
        },
        {
            "cell_type": "markdown",
            "id": "dc3dddb4",
            "metadata": {},
            "source": [
                "## Przyklad 4 -- Objawy depresji (Dane z Diagnoza Spoleczna 2011) PCA"
            ]
        },
        {
            "cell_type": "markdown",
            "id": "1c018614",
            "metadata": {},
            "source": [
                "1. Wczytaj zbior danych \"depresja.dta\"\n",
                "2. Przeprowadz analize glownych skladowych.\n",
                "3. Utworz wykres osypiska Ile powinismy wyroznic glownych skladowych?\n",
                "4. Przeprowadz jeszcze raz analize, ale tylko dla ustalonej w punkcie 3 liczby glownych skladowych. Zapisz glowne skladowe oraz wyjsciowe zmienne w pliku.\n",
                "5. Zinterpretuj glowne skladowe. Interpretacje poprzyj macierza korelacji.\n",
                "6. Sprawdz, czy zmienne wejsciowe sa ze soba skorelowane (zweryfikuj, czy ma sens w ogole przeprwowadzenie analizy skladowych glownych).\n",
                "    Uzyj: R^2, \"anti-image correlation\" oraz statystyki adekwatnosci Kaisera-Meyera-Olkina.\n"
            ]
        },
        {
            "cell_type": "code",
            "execution_count": null,
            "id": "4809038e-0403-4cec-a24e-5e94830b9eff",
            "metadata": {},
            "outputs": [],
            "source": [
                "from multidim.datasets import load_depresja\n",
                "depresja = load_depresja()\n",
                "depresja_copy = depresja.copy()"
            ]
        },
        {
            "cell_type": "code",
            "execution_count": null,
            "id": "8f55bf0b-cbbe-448c-9148-4ebaf79d84d2",
            "metadata": {},
            "outputs": [],
            "source": [
                "%%stata -d depresja_copy -force\n",
                "des"
            ]
        },
        {
            "cell_type": "code",
            "execution_count": null,
            "id": "363b60c2",
            "metadata": {},
            "outputs": [],
            "source": []
        }
    ],
    "metadata": {
        "kernelspec": {
            "display_name": "Python 3 (ipykernel)",
            "language": "python",
            "name": "python3"
        },
        "language_info": {
            "codemirror_mode": {
                "name": "ipython",
                "version": 3
            },
            "file_extension": ".py",
            "mimetype": "text/x-python",
            "name": "python",
            "nbconvert_exporter": "python",
            "pygments_lexer": "ipython3",
            "version": "3.11.4"
        },
        "vscode": {
            "interpreter": {
                "hash": "aa9d594cf5340018b76a70eeac417329866dfddee009818da806e7b1b5f80883"
            }
        }
    },
    "nbformat": 4,
    "nbformat_minor": 5
}